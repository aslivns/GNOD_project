{
 "cells": [
  {
   "cell_type": "markdown",
   "id": "edf22262",
   "metadata": {},
   "source": [
    "### My plan is to create a playlist from various artists\n",
    "#### I will follow the plan below:\n",
    "#### different playlists  >>> artist names >>> 10 songs from each artist"
   ]
  },
  {
   "cell_type": "code",
   "execution_count": 1,
   "id": "3b422e3d",
   "metadata": {},
   "outputs": [],
   "source": [
    "import numpy as np\n",
    "import pandas as pd\n",
    "import spotipy\n",
    "import json\n",
    "from spotipy.oauth2 import SpotifyClientCredentials"
   ]
  },
  {
   "cell_type": "code",
   "execution_count": 2,
   "id": "6244fa04",
   "metadata": {},
   "outputs": [],
   "source": [
    "secrets_file = open(\"../secrets.txt\",\"r\")"
   ]
  },
  {
   "cell_type": "code",
   "execution_count": 3,
   "id": "4b9139bd",
   "metadata": {},
   "outputs": [],
   "source": [
    "string = secrets_file.read()"
   ]
  },
  {
   "cell_type": "code",
   "execution_count": 5,
   "id": "18524755",
   "metadata": {},
   "outputs": [],
   "source": [
    "#string.split('\\n')"
   ]
  },
  {
   "cell_type": "code",
   "execution_count": 6,
   "id": "fb31a549",
   "metadata": {},
   "outputs": [],
   "source": [
    "secrets_dict={}\n",
    "for line in string.split('\\n'):\n",
    "    if len(line) > 0:\n",
    "        secrets_dict[line.split(':')[0]]=line.split(':')[1].strip()"
   ]
  },
  {
   "cell_type": "code",
   "execution_count": 7,
   "id": "99e54cf1",
   "metadata": {},
   "outputs": [],
   "source": [
    "import spotipy\n",
    "from spotipy.oauth2 import SpotifyClientCredentials\n",
    "\n",
    "#Initialize SpotiPy with user credentials\n",
    "sp = spotipy.Spotify(auth_manager=SpotifyClientCredentials(client_id=secrets_dict['clientid'],\n",
    "                                                           client_secret=secrets_dict['clientsecret']))"
   ]
  },
  {
   "cell_type": "markdown",
   "id": "794c421d",
   "metadata": {},
   "source": [
    "##### I found different playlists from different times, tried to create diversity"
   ]
  },
  {
   "cell_type": "markdown",
   "id": "6959a15b",
   "metadata": {},
   "source": [
    "I am going to pull my lists"
   ]
  },
  {
   "cell_type": "code",
   "execution_count": 8,
   "id": "92498031",
   "metadata": {},
   "outputs": [],
   "source": [
    "# 1.  50's 150 >> 37i9dQZF1DWSV3Tk4GO2fq\n",
    "# 2.  60's 100 >> 3SbE5Sk5MWtNc0GRTU0X6d\n",
    "# 3.  70' 150 >> 37i9dQZF1DX1Hya1sRqqxI\n",
    "# 4.  80's 100 songs >>  37i9dQZF1DXb57FjYWz00c\n",
    "# 5.  90's 150 songs >>  37i9dQZF1DXbTxeAdrVG2l\n",
    "# 6.  2000's 100 songs>> 37i9dQZF1DX4o1oenSJRJd\n",
    "# 7.  2010 100 song >>   37i9dQZF1DX5Ejj0EkURtP\n",
    "# 8.  2020  100 song >> 4vSTV61efRmetmaoz95Vet \n",
    "# 9.  1920-2019 top 1000 >>> 23HsgHgvpjludlObYNpA1S\n",
    "# 10  top 500 of all times >>> 0JiVp7Z0pYKI8diUV6HJyQ\n",
    "# 11  bollywood 100 >>> 37i9dQZF1DWZNJXX2UeBij\n",
    "# 12  best 2000 >>> 37i9dQZF1DWTmvXBN4DgpA"
   ]
  },
  {
   "cell_type": "code",
   "execution_count": 9,
   "id": "1395e968",
   "metadata": {},
   "outputs": [],
   "source": [
    "playlist1 = sp.user_playlist_tracks(\"spotify\", '37i9dQZF1DWSV3Tk4GO2fq')\n",
    "playlist2 = sp.user_playlist_tracks(\"spotify\", '3SbE5Sk5MWtNc0GRTU0X6d')\n",
    "playlist3 = sp.user_playlist_tracks(\"spotify\", '37i9dQZF1DX1Hya1sRqqxI')\n",
    "playlist4 = sp.user_playlist_tracks(\"spotify\", '37i9dQZF1DXb57FjYWz00c')\n",
    "playlist5 = sp.user_playlist_tracks(\"spotify\", '37i9dQZF1DXbTxeAdrVG2l')\n",
    "playlist6 = sp.user_playlist_tracks(\"spotify\", '37i9dQZF1DX4o1oenSJRJd')\n",
    "playlist7 = sp.user_playlist_tracks(\"spotify\", '37i9dQZF1DX5Ejj0EkURtP')\n",
    "playlist8 = sp.user_playlist_tracks(\"spotify\", '4vSTV61efRmetmaoz95Vet')\n",
    "playlist9 = sp.user_playlist_tracks(\"spotify\", '23HsgHgvpjludlObYNpA1S')\n",
    "playlist10 = sp.user_playlist_tracks(\"spotify\", '0JiVp7Z0pYKI8diUV6HJyQ')\n",
    "playlist11 = sp.user_playlist_tracks(\"spotify\", '37i9dQZF1DWZNJXX2UeBij')\n",
    "playlist12 = sp.user_playlist_tracks(\"spotify\", '37i9dQZF1DWTmvXBN4DgpA')"
   ]
  },
  {
   "cell_type": "markdown",
   "id": "40a0a3c8",
   "metadata": {},
   "source": [
    "#### Then I got the all artists' names from 12 playlists"
   ]
  },
  {
   "cell_type": "markdown",
   "id": "65984e52",
   "metadata": {},
   "source": [
    "I will get the artist names from the playlists"
   ]
  },
  {
   "cell_type": "code",
   "execution_count": 10,
   "id": "88badd85",
   "metadata": {},
   "outputs": [],
   "source": [
    "def get_artist(put_the_playlist):\n",
    "    \n",
    "    artist_1 =[]\n",
    "    for i in range (len(put_the_playlist[\"items\"])):\n",
    "         artist_1.append(put_the_playlist[\"items\"][i]['track']['artists'][0]['name']) \n",
    "\n",
    "    artist_list1 = []\n",
    "    for word in artist_1:\n",
    "        if word not in artist_list1:\n",
    "            artist_list1.append(word)  \n",
    "\n",
    "    return artist_list1\n"
   ]
  },
  {
   "cell_type": "code",
   "execution_count": 11,
   "id": "7492e31b",
   "metadata": {},
   "outputs": [],
   "source": [
    "artist_list = get_artist(playlist1) + get_artist(playlist2) + get_artist(playlist3) + get_artist(playlist4) + get_artist(playlist5) + get_artist(playlist6) + get_artist(playlist7) + get_artist(playlist8) + get_artist(playlist9) + get_artist(playlist10) + get_artist(playlist11) + get_artist(playlist12)"
   ]
  },
  {
   "cell_type": "markdown",
   "id": "7efbe814",
   "metadata": {},
   "source": [
    "#### After I removed the duplicates, I have 594 artists"
   ]
  },
  {
   "cell_type": "markdown",
   "id": "f6b99c6b",
   "metadata": {},
   "source": [
    "Removing duplicates"
   ]
  },
  {
   "cell_type": "code",
   "execution_count": 12,
   "id": "894cbf80",
   "metadata": {},
   "outputs": [],
   "source": [
    "my_artists = []\n",
    "for word in artist_list:\n",
    "    if word not in my_artists:\n",
    "        my_artists.append(word)"
   ]
  },
  {
   "cell_type": "code",
   "execution_count": 13,
   "id": "5da5a9fb",
   "metadata": {},
   "outputs": [],
   "source": [
    "#print(my_artists)"
   ]
  },
  {
   "cell_type": "markdown",
   "id": "64c9d91b",
   "metadata": {},
   "source": [
    "I will get 10 songs from each artist"
   ]
  },
  {
   "cell_type": "code",
   "execution_count": 14,
   "id": "643c381e",
   "metadata": {},
   "outputs": [],
   "source": [
    "artists = ['Elvis Presley', 'Frank Sinatra', 'The Platters', 'Ray Charles', 'Louis Armstrong', 'Buddy Holly', 'Chuck Berry', 'Jerry Lee Lewis', 'Ritchie Valens', 'Bobby Darin', 'Nat King Cole', 'The Everly Brothers', 'Ella Fitzgerald', 'Chet Baker', 'Harry Belafonte', 'Dinah Washington', 'Billie Holiday', 'Little Richard', 'Dean Martin', 'Paul Anka', 'Bill Haley & His Comets', 'The Flamingos', 'Peggy Lee', 'Louis Prima', 'Eddie Cochran', 'Muddy Waters', 'Fats Domino', 'Neil Sedaka', 'Dion & The Belmonts', 'Bobby Day', 'Barrett Strong', 'Pat Boone', 'The Del-Vikings', 'Jackie Wilson', 'Perry Como', 'The Coasters', 'Danny & The Juniors', 'The Penguins', 'The Isley Brothers', 'Sam Cooke', 'Doris Day', 'Carl Perkins', 'The Crew Cuts', 'Tommy Edwards', 'The Clovers', 'The Diamonds', 'The Big Bopper', 'Percy Faith & His Orchestra', 'Johnny Mathis', 'Conway Twitty', 'The Fleetwoods', 'The Chordettes', 'Frankie Lymon', 'The Animals', 'The Rolling Stones', 'Big Blanco', 'Ben E. King', 'Creedence Clearwater Revival', 'The Mamas & The Papas', 'The Beatles', 'Shocking Blue', 'Etta James', 'Nina Simone', 'Circle the Earth', 'David Bowie', 'Marvin Gaye', 'Solomon Burke', 'The Ronettes', 'The Archies', 'Engelbert Humperdinck', 'James Brown & The Famous Flames', 'Frankie Valli', 'The Foundations', 'Led Zeppelin', 'The Seekers', 'Dion', 'Procol Harum', 'Aretha Franklin', 'B.J. Thomas', 'Johnny Cash', 'The Backstage Beatles', 'Gerry & The Pacemakers', 'Neil Diamond', 'The Doors', 'Chubby Checker', 'Patsy Cline', 'Van Morrison', 'Born For Bliss', 'The Trashmen', 'Simon & Garfunkel', 'Buffalo Springfield', 'The Ventures', 'The Tokens', 'Elton John', 'Cream', 'Bob Dylan', 'Diana Ross & The Supremes', 'Skeeter Davis', 'Scott McKenzie', 'Steppenwolf', 'Tom Jones', 'John Denver', 'Roy Orbison', 'The Band', 'Zager & Evans', 'The Cascades', 'Jeannie C. Riley', 'Stevie Wonder', 'Bee Gees', 'John Travolta', 'Earth, Wind & Fire', 'The Jacksons', 'Gloria Gaynor', 'Queen', 'The Trammps', 'Sister Sledge', 'John Paul Young', 'Billy Ocean', 'ABBA', 'Barry White', 'Frankie Valli & The Four Seasons', 'The Emotions', 'KC & The Sunshine Band', 'The Jackson 5', 'Donna Summer', 'CHIC', 'Wild Cherry', 'Village People', 'AC/DC', 'KISS', 'Lynyrd Skynyrd', 'TOTO', 'Fleetwood Mac', 'Stealers Wheel', 'Eagles', 'Edison Lighthouse', 'Michael Jackson', 'Thin Lizzy', 'Boney M.', 'King Harvest', 'Patrick Hernandez', 'The Doobie Brothers', 'Free', 'Rod Stewart', 'Hot Chocolate', \"The O'Jays\", 'The Bellamy Brothers', 'Curtis Mayfield', 'Grand Funk Railroad', 'Candi Staton', 'Jackson Browne', 'Alice Cooper', 'Chris Norman', 'Sly & The Family Stone', 'War', 'Carl Douglas', 'Don McLean', 'The Spinners', 'Jim Croce', 'Steve Miller Band', 'Hues Corporation', 'Cheryl Lynn', 'Blondie', 'Steve Harley', 'Todd Rundgren', 'The Buggles', 'Steely Dan', 'Boz Scaggs', 'Deep Purple', 'Lynn Anderson', 'Three Dog Night', 'Billy Preston', 'T. Rex', 'Gary Glitter', 'Carpenters', 'Sylvester', 'a-ha', 'Michael Sembello', 'Eurythmics', 'Journey', 'Tears For Fears', 'Kenny Loggins', 'Men At Work', 'Soft Cell', 'Bryan Adams', 'Whitney Houston', 'Simple Minds', 'Cyndi Lauper', 'Daryl Hall & John Oates', 'Bon Jovi', 'Starship', 'Bonnie Tyler', 'Rick Astley', 'Lipps Inc.', 'Kim Carnes', 'Wham!', 'New Order', 'The Human League', 'Matthew Wilder', 'Van Halen', 'UB40', 'Culture Club', 'Belinda Carlisle', 'Phil Collins', 'Philip Bailey', 'The Pointer Sisters', 'Dire Straits', 'The Proclaimers', 'Pet Shop Boys', 'Survivor', 'Huey Lewis & The News', 'Eric Carmen', 'Taylor Dayne', 'Duran Duran', 'Paul Simon', 'Billy Joel', 'Fine Young Cannibals', 'Katrina & The Waves', 'Lionel Richie', 'The Cure', 'U2', 'Genesis', 'Run–D.M.C.', 'Dexys Midnight Runners', 'INXS', 'Dead Or Alive', 'Don Henley', 'Prince', 'Tina Turner', 'Depeche Mode', 'Billy Idol', 'Men Without Hats', 'Kim Wilde', 'Madonna', 'Kool & The Gang', 'Deniece Williams', 'George Michael', 'Madness', 'Tiffany', 'Irene Cara', 'George Harrison', 'Frankie Goes To Hollywood', 'The Police', 'Cameo', 'Spandau Ballet', 'Whitesnake', 'Steve Winwood', 'Chaka Khan', 'Erasure', \"The B-52's\", 'Nena', 'The Communards', 'Phil Oakey', 'Luther Vandross', 'Joy Division', 'Four Tops', 'Boy Meets Girl', 'Tight Fit', 'Diana Ross', 'Womack & Womack', 'The Stranglers', 'Spice Girls', 'Backstreet Boys', 'Mariah Carey', 'Roxette', 'Coolio', 'Radiohead', 'Dr. Dre', 'R.E.M.', 'The Goo Goo Dolls', 'Red Hot Chili Peppers', 'The Cranberries', 'blink-182', 'The Offspring', 'Green Day', '4 Non Blondes', \"Guns N' Roses\", 'Gala', 'The Verve', 'TLC', 'Scorpions', 'Blur', 'Mazzy Star', 'Britney Spears', 'Nirvana', 'Smash Mouth', 'Shaggy', 'Chris Isaak', 'Sixpence None The Richer', 'Counting Crows', 'Blackstreet', 'Shania Twain', 'Cher', 'Sublime', 'Oasis', 'Soundgarden', 'Fugees', 'Eminem', 'No Doubt', 'The Smashing Pumpkins', 'Lou Bega', 'Foo Fighters', 'Pearl Jam', 'Alice Deejay', 'Metallica', 'Mark Morrison', 'Blind Melon', 'Natalie Imbruglia', 'Fools Garden', 'Aqua', 'Aerosmith', 'Warren G', 'Céline Dion', 'Luniz', 'Vengaboys', 'The Cardigans', 'The Notorious B.I.G.', 'Ricky Martin', 'Ace of Base', 'New Radicals', 'Ms. Lauryn Hill', 'Lenny Kravitz', 'Weezer', 'Cypress Hill', 'Savage Garden', 'Dido', 'Robbie Williams', '2Pac', 'MC Hammer', 'Daft Punk', 'Third Eye Blind', 'Seal', 'Black Eyed Peas', '50 Cent', 'Lady Gaga', 'Rihanna', 'Shakira', 'Usher', 'Mary J. Blige', 'Gnarls Barkley', 'JAY-Z', 'Maroon 5', 'Coldplay', 'The Killers', 'Linkin Park', 'The White Stripes', 'Gorillaz', 'Nelly Furtado', 'Foster The People', 'The Game', 'Daddy Yankee', 'Outkast', 'Timbaland', 'Evanescence', 'Train', 'Kesha', 'Flo Rida', 'Akon', 'Kings of Leon', 'Hoobastank', 'Taio Cruz', 'Papa Roach', 'Snow Patrol', 'Jimmy Eat World', 'Alicia Keys', 'Kendrick Lamar', 'Amy Winehouse', 'Nickelback', 'The Fray', 'Stromae', 'Sean Paul', 'Avril Lavigne', 'Franz Ferdinand', \"Plain White T's\", 'Empire of the Sun', 'Beyoncé', 't.A.T.u.', 'Owl City', 'Justin Timberlake', 'Bruno Mars', 'Nelly', 'Sean Kingston', 'Jay Sean', 'My Chemical Romance', 'Fall Out Boy', 'Ne-Yo', 'Taylor Swift', 'Toploader', 'P!nk', 'MGMT', 'Soulja Boy', 'Modjo', \"Destiny's Child\", 'Snoop Dogg', 'Avicii', 'Justin Bieber', 'Ellie Goulding', 'Ed Sheeran', 'The Chainsmokers', 'Sam Smith', 'Post Malone', 'Khalid', 'Tom Odell', 'The Neighbourhood', 'The Weeknd', 'Miguel', 'Billie Eilish', 'Harry Styles', 'J Balvin', 'J. Cole', 'Calvin Harris', 'Imagine Dragons', 'Arctic Monkeys', 'One Direction', 'Lewis Capaldi', 'Shawn Mendes', 'Frank Ocean', 'Alec Benjamin', 'Drake', 'Gesaffelstein', 'Juice WRLD', 'Måneskin', 'John Legend', 'Ariana Grande', 'Lil Baby', 'Jaymes Young', 'Joji', 'Twenty One Pilots', 'Childish Gambino', 'XXXTENTACION', 'Travis Scott', 'Tame Impala', 'Bryson Tiller', 'DJ Snake', 'Cigarettes After Sex', 'Mark Ronson', 'CKay', 'WALK THE MOON', 'Marshmello', 'Doja Cat', 'Sia', 'Lana Del Rey', 'Meghan Trainor', 'Capital Cities', 'SZA', 'Metro Boomin', 'Powfu', 'RAYE', 'Steve Lacy', 'Olivia Rodrigo', 'Pop Smoke', 'Lil Nas X', 'David Guetta', 'Rema', 'Nicki Minaj', 'BLACKPINK', 'Cardi B', 'Jack Harlow', 'Dua Lipa', 'Giveon', 'LISA', 'BTS', 'Adele', 'Glass Animals', 'Internet Money', 'Future', '24kGoldn', 'Charlie Puth', 'GAYLE', 'DJ Khaled', 'Lizzo', 'Miley Cyrus', 'The Kid LAROI', 'Camila Cabello', 'Selena Gomez', 'Anitta', 'Kali Uchis', 'Dove Cameron', 'Judy Garland', 'Édith Piaf', 'Charles Trenet', 'Stevie Nicks', 'M.I.A.', 'Florence + The Machine', \"Sinéad O'Connor\", 'Gotye', 'Missy Elliott', 'Benny Goodman', 'John Lennon', 'Tones And I', 'The Kinks', 'Vera Lynn', 'Tracy Chapman', 'The Beach Boys', 'Vanessa Carlton', 'The Smiths', 'Vance Joy', 'Carly Simon', 'The Shirelles', 'Electric Light Orchestra', 'Enya', 'Major Lazer', 'Pink Floyd', 'Macy Gray', 'James Arthur', 'Hozier', 'Lil Uzi Vert', 'OneRepublic', 'Passenger', 'Macklemore & Ryan Lewis', 'SAINt JHN', 'Alan Walker', 'Halsey', 'Mike Posner', 'Bad Bunny', 'Luis Fonsi', 'French Montana', 'Roddy Ricch', 'Wiz Khalifa', 'Lauv', 'Lukas Graham', 'Jason Mraz', 'DaBaby', 'Pritam', 'Atif Aslam', 'Salim–Sulaiman', 'Rashid Ali', 'A.R. Rahman', 'Madan Mohan', 'Shankar-Ehsaan-Loy', 'Sonu Nigam', 'Jatin-Lalit', 'Sukhwinder Singh', 'Monty Sharma', 'Suraj Jagan', 'KK', 'Vishal-Shekhar', 'Mohit Chauhan', 'Javed Ali', 'Shaan', 'Kailash Kher', 'Wajid', 'Rekha Bhardwaj', 'Benny Dayal', 'Sandesh Shandilya', \"Suzzane D'Mello\", 'Shankar', 'Himesh Reshammiya', 'Suzanne', 'Abhijeet', 'Alka Yagnik', 'Mithoon', 'Shankar Mahadevan', 'Sunidhi Chauhan', 'Udit Narayan', 'Adnan Sami', 'Raman Mahadevan', 'Mika Singh', 'Monali Thakur', 'Pinky', 'Kumar Sanu', 'Alisha Chinai', 'Rahat Fateh Ali Khan', 'Kunal Ganjawala', 'Jaspinder Narula', 'Manak-E', 'Neeraj Shridhar', 'Danny Vera', 'Boudewijn de Groot', 'Golden Earring', 'Disturbed', 'DI-RECT', 'Bruce Springsteen', 'Meat Loaf', 'Racoon', 'Miss Montreal', 'Michael Kiwanuka', 'Klein Orkest', 'Rage Against The Machine', 'Supertramp', 'Kate Bush', 'Goldband', 'Wim Sonneveld', 'Paolo Nutini', 'Volbeat', 'Stef Bos', 'Floor Jansen', 'Muse', 'Nothing But Thieves', 'Kensington', 'Guus Meeuwis', 'The Alan Parsons Project', 'Liesbeth List', 'Rammstein']"
   ]
  },
  {
   "cell_type": "code",
   "execution_count": 15,
   "id": "2fa501d1",
   "metadata": {},
   "outputs": [
    {
     "data": {
      "text/plain": [
       "594"
      ]
     },
     "execution_count": 15,
     "metadata": {},
     "output_type": "execute_result"
    }
   ],
   "source": [
    "len(artists)"
   ]
  },
  {
   "cell_type": "markdown",
   "id": "490ec1f6",
   "metadata": {},
   "source": [
    "#### At first I tried with 3 artists, then re-run with all 594 artists \n",
    "##### thats why there are 3 and 30s written on the list names, after I run the features, it took so long then I left it as it is"
   ]
  },
  {
   "cell_type": "code",
   "execution_count": 16,
   "id": "b46afcdb",
   "metadata": {},
   "outputs": [],
   "source": [
    "my_3_tracks = []\n",
    "\n",
    "for artist in artists:   \n",
    "    my_3_tracks.append(sp.search(q=artist, limit=10))"
   ]
  },
  {
   "cell_type": "markdown",
   "id": "830ac995",
   "metadata": {},
   "source": [
    "Importing the song info's"
   ]
  },
  {
   "cell_type": "code",
   "execution_count": 17,
   "id": "271d558e",
   "metadata": {},
   "outputs": [],
   "source": [
    "# range differs according to artist count\n",
    "songs_30 = []\n",
    "songs_30_uri = []\n",
    "songs_30_url = []\n",
    "for i in range(594):\n",
    "    for j in range(10):\n",
    "        songs_30.append(my_3_tracks[i]['tracks']['items'][j]['name'])\n",
    "        songs_30_uri.append(my_3_tracks[i]['tracks']['items'][j]['uri'])\n",
    "        songs_30_url.append(my_3_tracks[i]['tracks']['items'][j]['external_urls']['spotify'])\n"
   ]
  },
  {
   "cell_type": "markdown",
   "id": "118bec6d",
   "metadata": {},
   "source": [
    "I expand my artist list"
   ]
  },
  {
   "cell_type": "code",
   "execution_count": 18,
   "id": "f4b9a288",
   "metadata": {},
   "outputs": [],
   "source": [
    "songs_30_artists = []\n",
    "for i in range(len(artists)):\n",
    "    j = 10\n",
    "    while j != 0:\n",
    "        songs_30_artists.append(artists[i])\n",
    "        j-=1"
   ]
  },
  {
   "cell_type": "code",
   "execution_count": 19,
   "id": "5c714a58",
   "metadata": {},
   "outputs": [],
   "source": [
    "# range len artist * 10\n",
    "songs_30_features = []\n",
    "for i in range(5940):\n",
    "    songs_30_features.append(sp.audio_features(songs_30_uri[i]))"
   ]
  },
  {
   "cell_type": "markdown",
   "id": "19457808",
   "metadata": {},
   "source": [
    "I needed to flatten features"
   ]
  },
  {
   "cell_type": "code",
   "execution_count": 20,
   "id": "5ef93d29",
   "metadata": {},
   "outputs": [],
   "source": [
    "def flatten(input_list):\n",
    "    return [item for sublist in input_list for item in sublist]"
   ]
  },
  {
   "cell_type": "code",
   "execution_count": 21,
   "id": "794a515d",
   "metadata": {},
   "outputs": [],
   "source": [
    "songs_30_features = flatten(songs_30_features)"
   ]
  },
  {
   "cell_type": "code",
   "execution_count": 22,
   "id": "74cc5dab",
   "metadata": {},
   "outputs": [],
   "source": [
    "artist_3_song_30 = pd.DataFrame({'title':songs_30,'artist':songs_30_artists,'url':songs_30_url,'features':songs_30_features})"
   ]
  },
  {
   "cell_type": "markdown",
   "id": "8e1bb14d",
   "metadata": {},
   "source": [
    "Normalizing features column"
   ]
  },
  {
   "cell_type": "code",
   "execution_count": 23,
   "id": "378a0c98",
   "metadata": {},
   "outputs": [],
   "source": [
    "ftr = pd.json_normalize(artist_3_song_30.features)\n",
    "ftr.columns = [f'features_{col}' for col in ftr.columns]"
   ]
  },
  {
   "cell_type": "code",
   "execution_count": 24,
   "id": "f65c61b1",
   "metadata": {},
   "outputs": [],
   "source": [
    "artist3_song30 = pd.concat([artist_3_song_30, ftr], axis=1)\n",
    "cleaned_1 = artist3_song30.drop(columns=['features', 'features_uri', 'features_track_href' , 'features_analysis_url', 'features_id'])"
   ]
  },
  {
   "cell_type": "code",
   "execution_count": 60,
   "id": "3b75e3dc",
   "metadata": {},
   "outputs": [],
   "source": [
    "#cleaned_1.nunique()"
   ]
  },
  {
   "cell_type": "code",
   "execution_count": 27,
   "id": "bf5f6058",
   "metadata": {},
   "outputs": [],
   "source": [
    "#duplicates in title column\n",
    "cleaned_1 = cleaned_1.drop_duplicates(subset=['title'])"
   ]
  },
  {
   "cell_type": "code",
   "execution_count": 59,
   "id": "760b503b",
   "metadata": {},
   "outputs": [],
   "source": [
    "#cleaned_1.isna().sum()"
   ]
  },
  {
   "cell_type": "markdown",
   "id": "ab8ff8d3",
   "metadata": {},
   "source": [
    "Saving to csv file for future"
   ]
  },
  {
   "cell_type": "code",
   "execution_count": 33,
   "id": "40be464b",
   "metadata": {},
   "outputs": [],
   "source": [
    "cleaned_1.to_csv('asli_list.csv', index = False)"
   ]
  },
  {
   "cell_type": "code",
   "execution_count": 34,
   "id": "bfe616f1",
   "metadata": {},
   "outputs": [
    {
     "data": {
      "text/html": [
       "<div>\n",
       "<style scoped>\n",
       "    .dataframe tbody tr th:only-of-type {\n",
       "        vertical-align: middle;\n",
       "    }\n",
       "\n",
       "    .dataframe tbody tr th {\n",
       "        vertical-align: top;\n",
       "    }\n",
       "\n",
       "    .dataframe thead th {\n",
       "        text-align: right;\n",
       "    }\n",
       "</style>\n",
       "<table border=\"1\" class=\"dataframe\">\n",
       "  <thead>\n",
       "    <tr style=\"text-align: right;\">\n",
       "      <th></th>\n",
       "      <th>title</th>\n",
       "      <th>artist</th>\n",
       "      <th>url</th>\n",
       "      <th>features_danceability</th>\n",
       "      <th>features_energy</th>\n",
       "      <th>features_key</th>\n",
       "      <th>features_loudness</th>\n",
       "      <th>features_mode</th>\n",
       "      <th>features_speechiness</th>\n",
       "      <th>features_acousticness</th>\n",
       "      <th>features_instrumentalness</th>\n",
       "      <th>features_liveness</th>\n",
       "      <th>features_valence</th>\n",
       "      <th>features_tempo</th>\n",
       "      <th>features_type</th>\n",
       "      <th>features_duration_ms</th>\n",
       "      <th>features_time_signature</th>\n",
       "    </tr>\n",
       "  </thead>\n",
       "  <tbody>\n",
       "    <tr>\n",
       "      <th>0</th>\n",
       "      <td>Blue Christmas</td>\n",
       "      <td>Elvis Presley</td>\n",
       "      <td>https://open.spotify.com/track/3QiAAp20rPC3dcA...</td>\n",
       "      <td>0.465</td>\n",
       "      <td>0.270</td>\n",
       "      <td>4.0</td>\n",
       "      <td>-16.661</td>\n",
       "      <td>1.0</td>\n",
       "      <td>0.0425</td>\n",
       "      <td>0.900</td>\n",
       "      <td>0.001040</td>\n",
       "      <td>0.1450</td>\n",
       "      <td>0.580</td>\n",
       "      <td>94.518</td>\n",
       "      <td>audio_features</td>\n",
       "      <td>129173.0</td>\n",
       "      <td>4.0</td>\n",
       "    </tr>\n",
       "    <tr>\n",
       "      <th>1</th>\n",
       "      <td>Can't Help Falling in Love</td>\n",
       "      <td>Elvis Presley</td>\n",
       "      <td>https://open.spotify.com/track/44AyOl4qVkzS48v...</td>\n",
       "      <td>0.396</td>\n",
       "      <td>0.293</td>\n",
       "      <td>2.0</td>\n",
       "      <td>-14.062</td>\n",
       "      <td>1.0</td>\n",
       "      <td>0.0275</td>\n",
       "      <td>0.941</td>\n",
       "      <td>0.000196</td>\n",
       "      <td>0.1050</td>\n",
       "      <td>0.343</td>\n",
       "      <td>100.307</td>\n",
       "      <td>audio_features</td>\n",
       "      <td>182360.0</td>\n",
       "      <td>3.0</td>\n",
       "    </tr>\n",
       "    <tr>\n",
       "      <th>2</th>\n",
       "      <td>Jailhouse Rock</td>\n",
       "      <td>Elvis Presley</td>\n",
       "      <td>https://open.spotify.com/track/452KBpASS5lZLeJ...</td>\n",
       "      <td>0.623</td>\n",
       "      <td>0.537</td>\n",
       "      <td>10.0</td>\n",
       "      <td>-10.014</td>\n",
       "      <td>0.0</td>\n",
       "      <td>0.0726</td>\n",
       "      <td>0.332</td>\n",
       "      <td>0.000014</td>\n",
       "      <td>0.0963</td>\n",
       "      <td>0.905</td>\n",
       "      <td>166.885</td>\n",
       "      <td>audio_features</td>\n",
       "      <td>146933.0</td>\n",
       "      <td>4.0</td>\n",
       "    </tr>\n",
       "    <tr>\n",
       "      <th>3</th>\n",
       "      <td>Here Comes Santa Claus (Right Down Santa Claus...</td>\n",
       "      <td>Elvis Presley</td>\n",
       "      <td>https://open.spotify.com/track/7n7VsX3sv66znBw...</td>\n",
       "      <td>0.575</td>\n",
       "      <td>0.236</td>\n",
       "      <td>2.0</td>\n",
       "      <td>-16.982</td>\n",
       "      <td>1.0</td>\n",
       "      <td>0.0422</td>\n",
       "      <td>0.968</td>\n",
       "      <td>0.017800</td>\n",
       "      <td>0.1050</td>\n",
       "      <td>0.829</td>\n",
       "      <td>79.576</td>\n",
       "      <td>audio_features</td>\n",
       "      <td>115827.0</td>\n",
       "      <td>4.0</td>\n",
       "    </tr>\n",
       "    <tr>\n",
       "      <th>4</th>\n",
       "      <td>Hound Dog</td>\n",
       "      <td>Elvis Presley</td>\n",
       "      <td>https://open.spotify.com/track/64Ny7djQ6rNJspq...</td>\n",
       "      <td>0.494</td>\n",
       "      <td>0.756</td>\n",
       "      <td>0.0</td>\n",
       "      <td>-8.492</td>\n",
       "      <td>1.0</td>\n",
       "      <td>0.0499</td>\n",
       "      <td>0.733</td>\n",
       "      <td>0.005050</td>\n",
       "      <td>0.7600</td>\n",
       "      <td>0.949</td>\n",
       "      <td>86.895</td>\n",
       "      <td>audio_features</td>\n",
       "      <td>136027.0</td>\n",
       "      <td>4.0</td>\n",
       "    </tr>\n",
       "  </tbody>\n",
       "</table>\n",
       "</div>"
      ],
      "text/plain": [
       "                                               title         artist  \\\n",
       "0                                     Blue Christmas  Elvis Presley   \n",
       "1                         Can't Help Falling in Love  Elvis Presley   \n",
       "2                                     Jailhouse Rock  Elvis Presley   \n",
       "3  Here Comes Santa Claus (Right Down Santa Claus...  Elvis Presley   \n",
       "4                                          Hound Dog  Elvis Presley   \n",
       "\n",
       "                                                 url  features_danceability  \\\n",
       "0  https://open.spotify.com/track/3QiAAp20rPC3dcA...                  0.465   \n",
       "1  https://open.spotify.com/track/44AyOl4qVkzS48v...                  0.396   \n",
       "2  https://open.spotify.com/track/452KBpASS5lZLeJ...                  0.623   \n",
       "3  https://open.spotify.com/track/7n7VsX3sv66znBw...                  0.575   \n",
       "4  https://open.spotify.com/track/64Ny7djQ6rNJspq...                  0.494   \n",
       "\n",
       "   features_energy  features_key  features_loudness  features_mode  \\\n",
       "0            0.270           4.0            -16.661            1.0   \n",
       "1            0.293           2.0            -14.062            1.0   \n",
       "2            0.537          10.0            -10.014            0.0   \n",
       "3            0.236           2.0            -16.982            1.0   \n",
       "4            0.756           0.0             -8.492            1.0   \n",
       "\n",
       "   features_speechiness  features_acousticness  features_instrumentalness  \\\n",
       "0                0.0425                  0.900                   0.001040   \n",
       "1                0.0275                  0.941                   0.000196   \n",
       "2                0.0726                  0.332                   0.000014   \n",
       "3                0.0422                  0.968                   0.017800   \n",
       "4                0.0499                  0.733                   0.005050   \n",
       "\n",
       "   features_liveness  features_valence  features_tempo   features_type  \\\n",
       "0             0.1450             0.580          94.518  audio_features   \n",
       "1             0.1050             0.343         100.307  audio_features   \n",
       "2             0.0963             0.905         166.885  audio_features   \n",
       "3             0.1050             0.829          79.576  audio_features   \n",
       "4             0.7600             0.949          86.895  audio_features   \n",
       "\n",
       "   features_duration_ms  features_time_signature  \n",
       "0              129173.0                      4.0  \n",
       "1              182360.0                      3.0  \n",
       "2              146933.0                      4.0  \n",
       "3              115827.0                      4.0  \n",
       "4              136027.0                      4.0  "
      ]
     },
     "execution_count": 34,
     "metadata": {},
     "output_type": "execute_result"
    }
   ],
   "source": [
    "data = pd.read_csv('asli_list.csv')\n",
    "data.head()"
   ]
  },
  {
   "cell_type": "code",
   "execution_count": null,
   "id": "c7126f20",
   "metadata": {},
   "outputs": [],
   "source": []
  }
 ],
 "metadata": {
  "kernelspec": {
   "display_name": "Python 3 (ipykernel)",
   "language": "python",
   "name": "python3"
  },
  "language_info": {
   "codemirror_mode": {
    "name": "ipython",
    "version": 3
   },
   "file_extension": ".py",
   "mimetype": "text/x-python",
   "name": "python",
   "nbconvert_exporter": "python",
   "pygments_lexer": "ipython3",
   "version": "3.9.12"
  }
 },
 "nbformat": 4,
 "nbformat_minor": 5
}
