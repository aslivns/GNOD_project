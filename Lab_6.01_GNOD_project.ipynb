{
 "cells": [
  {
   "cell_type": "markdown",
   "id": "9c0047e5",
   "metadata": {},
   "source": [
    "Importing libraries"
   ]
  },
  {
   "cell_type": "code",
   "execution_count": 1,
   "id": "14158b7b",
   "metadata": {},
   "outputs": [],
   "source": [
    "from bs4 import BeautifulSoup\n",
    "import requests\n",
    "import pandas as pd\n",
    "import numpy as np"
   ]
  },
  {
   "cell_type": "code",
   "execution_count": 2,
   "id": "6edc56f0",
   "metadata": {},
   "outputs": [],
   "source": [
    "# 1. find url and store it in a variable\n",
    "url = \"https://www.popvortex.com/music/charts/top-100-songs.php\""
   ]
  },
  {
   "cell_type": "code",
   "execution_count": 3,
   "id": "38c08a7a",
   "metadata": {},
   "outputs": [
    {
     "data": {
      "text/plain": [
       "200"
      ]
     },
     "execution_count": 3,
     "metadata": {},
     "output_type": "execute_result"
    }
   ],
   "source": [
    "# 2. download html with a get request\n",
    "response = requests.get(url)\n",
    "response.status_code # 200 status code means OK!"
   ]
  },
  {
   "cell_type": "code",
   "execution_count": 4,
   "id": "0be58da3",
   "metadata": {},
   "outputs": [],
   "source": [
    "# 3. parse html (create the 'soup')\n",
    "soup = BeautifulSoup(response.content, \"html.parser\")"
   ]
  },
  {
   "cell_type": "code",
   "execution_count": 5,
   "id": "70974813",
   "metadata": {},
   "outputs": [],
   "source": [
    "# 4. get the table\n",
    "#body > div.container > div:nth-child(4) > div.col-xs-12.col-md-8 > div.chart-wrapper\n",
    "#soup.select('body > div.container > div:nth-child(4) > div.col-xs-12.col-md-8 > div.chart-wrapper')"
   ]
  },
  {
   "cell_type": "code",
   "execution_count": 6,
   "id": "a791e8fb",
   "metadata": {},
   "outputs": [],
   "source": [
    "# # song title\n",
    "# soup.select(\"cite.title\")"
   ]
  },
  {
   "cell_type": "code",
   "execution_count": 7,
   "id": "48958a23",
   "metadata": {},
   "outputs": [],
   "source": [
    "# #artist\n",
    "# soup.select(\"em.artist\")"
   ]
  },
  {
   "cell_type": "code",
   "execution_count": 8,
   "id": "f28908f8",
   "metadata": {},
   "outputs": [],
   "source": [
    "# #genre\n",
    "# soup.select('div.chart-content.col-xs-12.col-sm-8 > ul >li >a')"
   ]
  },
  {
   "cell_type": "code",
   "execution_count": 9,
   "id": "3842bc83",
   "metadata": {},
   "outputs": [],
   "source": [
    "# soup.select('div.chart-content.col-xs-12.col-sm-8 > ul >li >a>em')"
   ]
  },
  {
   "cell_type": "code",
   "execution_count": 10,
   "id": "75adced7",
   "metadata": {},
   "outputs": [],
   "source": [
    "#initialize empty lists\n",
    "title = []\n",
    "artist = []\n",
    "\n",
    "\n",
    "# define the number of iterations of our for loop\n",
    "num_iter = len(soup.select(\"cite.title\"))\n",
    "\n",
    "title_list = soup.select(\"cite.title\")\n",
    "artist_list = soup.select(\"em.artist\")\n",
    "\n",
    "\n",
    "# iterate through the result set and retrive all the data\n",
    "for i in range(num_iter):\n",
    "    title.append(title_list[i].get_text())\n",
    "    artist.append(artist_list[i].get_text())\n",
    "  "
   ]
  },
  {
   "cell_type": "code",
   "execution_count": 11,
   "id": "e0a50e59",
   "metadata": {},
   "outputs": [],
   "source": [
    "# genre = []\n",
    "# genre_list = soup.select('div.chart-content.col-xs-12.col-sm-8 > ul >li >a')\n",
    "# genre_new_release = soup.select('div.chart-content.col-xs-12.col-sm-8 > ul > li:nth-child(2) > a')\n",
    "\n",
    "# num = len(soup.select('div.chart-content.col-xs-12.col-sm-8 > ul >li >a'))\n",
    "# num1 = len(soup.select('div.chart-content.col-xs-12.col-sm-8 > ul > li:nth-child(2) > a'))\n",
    "\n",
    "# for i in range(num):\n",
    "#     if genre_list[i].get_text() != 'New Release':\n",
    "#         genre.append(genre_list[i].get_text())\n",
    "#     else:\n",
    "#         for i in range(num1):\n",
    "#             genre.append(genre_new_release[i].get_text())   "
   ]
  },
  {
   "cell_type": "code",
   "execution_count": 12,
   "id": "ab811bc6",
   "metadata": {},
   "outputs": [],
   "source": [
    "top_100_songs = pd.DataFrame({\"title\":title, \"artist\":artist})"
   ]
  },
  {
   "cell_type": "code",
   "execution_count": 13,
   "id": "ef92d442",
   "metadata": {},
   "outputs": [
    {
     "data": {
      "text/html": [
       "<div>\n",
       "<style scoped>\n",
       "    .dataframe tbody tr th:only-of-type {\n",
       "        vertical-align: middle;\n",
       "    }\n",
       "\n",
       "    .dataframe tbody tr th {\n",
       "        vertical-align: top;\n",
       "    }\n",
       "\n",
       "    .dataframe thead th {\n",
       "        text-align: right;\n",
       "    }\n",
       "</style>\n",
       "<table border=\"1\" class=\"dataframe\">\n",
       "  <thead>\n",
       "    <tr style=\"text-align: right;\">\n",
       "      <th></th>\n",
       "      <th>title</th>\n",
       "      <th>artist</th>\n",
       "    </tr>\n",
       "  </thead>\n",
       "  <tbody>\n",
       "    <tr>\n",
       "      <th>0</th>\n",
       "      <td>Separate Ways (Worlds Apart) [feat. Lzzy Hale]</td>\n",
       "      <td>Daughtry</td>\n",
       "    </tr>\n",
       "    <tr>\n",
       "      <th>1</th>\n",
       "      <td>Anti-Hero</td>\n",
       "      <td>Taylor Swift</td>\n",
       "    </tr>\n",
       "    <tr>\n",
       "      <th>2</th>\n",
       "      <td>Unholy</td>\n",
       "      <td>Sam Smith &amp; Kim Petras</td>\n",
       "    </tr>\n",
       "    <tr>\n",
       "      <th>3</th>\n",
       "      <td>Heart Like A Truck</td>\n",
       "      <td>Lainey Wilson</td>\n",
       "    </tr>\n",
       "    <tr>\n",
       "      <th>4</th>\n",
       "      <td>Temperature</td>\n",
       "      <td>Sean Paul</td>\n",
       "    </tr>\n",
       "  </tbody>\n",
       "</table>\n",
       "</div>"
      ],
      "text/plain": [
       "                                            title                  artist\n",
       "0  Separate Ways (Worlds Apart) [feat. Lzzy Hale]                Daughtry\n",
       "1                                       Anti-Hero            Taylor Swift\n",
       "2                                          Unholy  Sam Smith & Kim Petras\n",
       "3                              Heart Like A Truck           Lainey Wilson\n",
       "4                                     Temperature               Sean Paul"
      ]
     },
     "execution_count": 13,
     "metadata": {},
     "output_type": "execute_result"
    }
   ],
   "source": [
    "top_100_songs.head()"
   ]
  },
  {
   "cell_type": "markdown",
   "id": "2f05f273",
   "metadata": {},
   "source": [
    "### GNOD part 2"
   ]
  },
  {
   "cell_type": "markdown",
   "id": "b706bdee",
   "metadata": {},
   "source": [
    "Today you are creating a recommender where the user inputs a song title and check if that song is in the list you created.   If it is,  give a different random song and artist from the list.  If it is not on the list, let the user know that you have no recommendation at this time."
   ]
  },
  {
   "cell_type": "code",
   "execution_count": 23,
   "id": "d85d84c6",
   "metadata": {},
   "outputs": [
    {
     "name": "stdout",
     "output_type": "stream",
     "text": [
      "Enter a song that you love: temperature\n"
     ]
    }
   ],
   "source": [
    "song = input(\"Enter a song that you love: \")"
   ]
  },
  {
   "cell_type": "code",
   "execution_count": 24,
   "id": "b0d52883",
   "metadata": {},
   "outputs": [
    {
     "name": "stdout",
     "output_type": "stream",
     "text": [
      "here what I found for you! \n",
      "79    Holding Out for a Hero\n",
      "Name: title, dtype: object\n"
     ]
    }
   ],
   "source": [
    "if top_100_songs['title'].str.lower().str.contains(str(song).lower()).any() == True:\n",
    "        print('here what I found for you! ')\n",
    "        print(top_100_songs['title'].sample())\n",
    "else:\n",
    "        print('I have no recommendation at this time')"
   ]
  },
  {
   "cell_type": "code",
   "execution_count": null,
   "id": "0b8889cb",
   "metadata": {},
   "outputs": [],
   "source": []
  },
  {
   "cell_type": "code",
   "execution_count": null,
   "id": "5aa56434",
   "metadata": {},
   "outputs": [],
   "source": []
  }
 ],
 "metadata": {
  "kernelspec": {
   "display_name": "Python 3 (ipykernel)",
   "language": "python",
   "name": "python3"
  },
  "language_info": {
   "codemirror_mode": {
    "name": "ipython",
    "version": 3
   },
   "file_extension": ".py",
   "mimetype": "text/x-python",
   "name": "python",
   "nbconvert_exporter": "python",
   "pygments_lexer": "ipython3",
   "version": "3.9.12"
  }
 },
 "nbformat": 4,
 "nbformat_minor": 5
}
