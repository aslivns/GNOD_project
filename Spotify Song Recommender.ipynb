{
 "cells": [
  {
   "cell_type": "markdown",
   "id": "77f5f940",
   "metadata": {},
   "source": [
    "# Spotify recommender"
   ]
  },
  {
   "cell_type": "markdown",
   "id": "d2bcab66",
   "metadata": {},
   "source": [
    "#### Steps to follow:\n",
    "**1. Web Scraping**: Create a list of top_100_songs and make a simple recommender\n",
    "\n",
    "**2. API wrappers**: Create a spotify playlist with 5000 songs\n",
    "\n",
    "**3. Unsupervised Learning**: K-means clustering\n",
    "\n",
    "**4. Song recommender**: If the input song is in top_100_songs list, it will recommend random song from the list. If it is not, it will recommend a song from the same cluster from spotify playlist\n"
   ]
  },
  {
   "cell_type": "markdown",
   "id": "603cca48",
   "metadata": {},
   "source": [
    "### Part 1: Web Scraping: Create a list of top_100_songs and make a simple recommender"
   ]
  },
  {
   "cell_type": "code",
   "execution_count": 93,
   "id": "b8380975",
   "metadata": {},
   "outputs": [],
   "source": [
    "#importing libraries\n",
    "from bs4 import BeautifulSoup\n",
    "import requests\n",
    "import pandas as pd\n",
    "import numpy as np\n",
    "import warnings\n",
    "warnings.filterwarnings(\"ignore\")"
   ]
  },
  {
   "cell_type": "code",
   "execution_count": 2,
   "id": "3ece3da1",
   "metadata": {},
   "outputs": [],
   "source": [
    "# 1. find url and store it in a variable\n",
    "url = \"https://www.popvortex.com/music/charts/top-100-songs.php\""
   ]
  },
  {
   "cell_type": "code",
   "execution_count": 3,
   "id": "b430d02a",
   "metadata": {},
   "outputs": [
    {
     "data": {
      "text/plain": [
       "200"
      ]
     },
     "execution_count": 3,
     "metadata": {},
     "output_type": "execute_result"
    }
   ],
   "source": [
    "# 2. download html with a get request\n",
    "response = requests.get(url)\n",
    "response.status_code # 200 status code means OK!"
   ]
  },
  {
   "cell_type": "code",
   "execution_count": 4,
   "id": "eb58af7a",
   "metadata": {},
   "outputs": [],
   "source": [
    "# 3. parse html (create the 'soup')\n",
    "soup = BeautifulSoup(response.content, \"html.parser\")"
   ]
  },
  {
   "cell_type": "code",
   "execution_count": 5,
   "id": "77b3ef56",
   "metadata": {},
   "outputs": [],
   "source": [
    "#initialize empty lists\n",
    "title = []\n",
    "artist = []\n",
    "\n",
    "\n",
    "# define the number of iterations of our for loop\n",
    "num_iter = len(soup.select(\"cite.title\"))\n",
    "\n",
    "title_list = soup.select(\"cite.title\")\n",
    "artist_list = soup.select(\"em.artist\")\n",
    "\n",
    "\n",
    "# iterate through the result set and retrive all the data\n",
    "for i in range(num_iter):\n",
    "    title.append(title_list[i].get_text())\n",
    "    artist.append(artist_list[i].get_text())"
   ]
  },
  {
   "cell_type": "code",
   "execution_count": 6,
   "id": "778ac862",
   "metadata": {},
   "outputs": [],
   "source": [
    "# genre = []\n",
    "# genre_list = soup.select('div.chart-content.col-xs-12.col-sm-8 > ul >li >a')\n",
    "# genre_new_release = soup.select('div.chart-content.col-xs-12.col-sm-8 > ul > li:nth-child(2) > a')\n",
    "\n",
    "# num = len(soup.select('div.chart-content.col-xs-12.col-sm-8 > ul >li >a'))\n",
    "# num1 = len(soup.select('div.chart-content.col-xs-12.col-sm-8 > ul > li:nth-child(2) > a'))\n",
    "\n",
    "# for i in range(num):\n",
    "#     if genre_list[i].get_text() != 'New Release':\n",
    "#         genre.append(genre_list[i].get_text())\n",
    "#     else:\n",
    "#         for i in range(num1):\n",
    "#             genre.append(genre_new_release[i].get_text())   "
   ]
  },
  {
   "cell_type": "code",
   "execution_count": 7,
   "id": "929bc82f",
   "metadata": {},
   "outputs": [],
   "source": [
    "top_100_songs = pd.DataFrame({\"title\":title, \"artist\":artist})"
   ]
  },
  {
   "cell_type": "code",
   "execution_count": 8,
   "id": "da676611",
   "metadata": {},
   "outputs": [],
   "source": [
    "top_100_songs['title'] = top_100_songs['title'].str.lower()\n",
    "top_100_songs['artist'] = top_100_songs['artist'].str.lower()"
   ]
  },
  {
   "cell_type": "code",
   "execution_count": 9,
   "id": "e3428635",
   "metadata": {},
   "outputs": [
    {
     "data": {
      "text/html": [
       "<div>\n",
       "<style scoped>\n",
       "    .dataframe tbody tr th:only-of-type {\n",
       "        vertical-align: middle;\n",
       "    }\n",
       "\n",
       "    .dataframe tbody tr th {\n",
       "        vertical-align: top;\n",
       "    }\n",
       "\n",
       "    .dataframe thead th {\n",
       "        text-align: right;\n",
       "    }\n",
       "</style>\n",
       "<table border=\"1\" class=\"dataframe\">\n",
       "  <thead>\n",
       "    <tr style=\"text-align: right;\">\n",
       "      <th></th>\n",
       "      <th>title</th>\n",
       "      <th>artist</th>\n",
       "    </tr>\n",
       "  </thead>\n",
       "  <tbody>\n",
       "    <tr>\n",
       "      <th>0</th>\n",
       "      <td>last night</td>\n",
       "      <td>morgan wallen</td>\n",
       "    </tr>\n",
       "    <tr>\n",
       "      <th>1</th>\n",
       "      <td>flowers</td>\n",
       "      <td>miley cyrus</td>\n",
       "    </tr>\n",
       "    <tr>\n",
       "      <th>2</th>\n",
       "      <td>nasty (extended version)</td>\n",
       "      <td>russ</td>\n",
       "    </tr>\n",
       "    <tr>\n",
       "      <th>3</th>\n",
       "      <td>fast car</td>\n",
       "      <td>luke combs</td>\n",
       "    </tr>\n",
       "    <tr>\n",
       "      <th>4</th>\n",
       "      <td>calm down</td>\n",
       "      <td>rema &amp; selena gomez</td>\n",
       "    </tr>\n",
       "  </tbody>\n",
       "</table>\n",
       "</div>"
      ],
      "text/plain": [
       "                      title               artist\n",
       "0                last night        morgan wallen\n",
       "1                   flowers          miley cyrus\n",
       "2  nasty (extended version)                 russ\n",
       "3                  fast car           luke combs\n",
       "4                 calm down  rema & selena gomez"
      ]
     },
     "execution_count": 9,
     "metadata": {},
     "output_type": "execute_result"
    }
   ],
   "source": [
    "top_100_songs.head()"
   ]
  },
  {
   "cell_type": "code",
   "execution_count": 10,
   "id": "01cf0900",
   "metadata": {},
   "outputs": [],
   "source": [
    "# sending it to csv file\n",
    "top_100_songs.to_csv('top_100_songs.csv', index = False)"
   ]
  },
  {
   "cell_type": "markdown",
   "id": "4a141706",
   "metadata": {},
   "source": [
    "Creating a recommender where the user inputs a song title and check if that song is in the list you created.   If it is,  give a different random song and artist from the list.  If it is not on the list, let the user know that you have no recommendation at this time."
   ]
  },
  {
   "cell_type": "code",
   "execution_count": 11,
   "id": "b18aa0cf",
   "metadata": {},
   "outputs": [
    {
     "name": "stdout",
     "output_type": "stream",
     "text": [
      "Enter a song that you love: flowers\n"
     ]
    }
   ],
   "source": [
    "song = input(\"Enter a song that you love: \")"
   ]
  },
  {
   "cell_type": "code",
   "execution_count": 12,
   "id": "290e24d7",
   "metadata": {},
   "outputs": [
    {
     "name": "stdout",
     "output_type": "stream",
     "text": [
      "here what I found for you! \n",
      "0    last night\n",
      "Name: title, dtype: object\n"
     ]
    }
   ],
   "source": [
    "if top_100_songs['title'].str.lower().str.contains(str(song).lower()).any() == True:\n",
    "        print('here what I found for you! ')\n",
    "        print(top_100_songs['title'].sample())\n",
    "else:\n",
    "        print('I have no recommendation at this time')"
   ]
  },
  {
   "cell_type": "markdown",
   "id": "ea94a891",
   "metadata": {},
   "source": [
    "### Part 2: API wrappers: Create a spotify playlist with 5000 songs"
   ]
  },
  {
   "cell_type": "markdown",
   "id": "3eb548f1",
   "metadata": {},
   "source": [
    "My plan is to create a playlist from various artists\n",
    "\n",
    "I will follow the plan below:\n",
    "\n",
    "**different playlists  >>> artist names >>> 10 songs from each artist**"
   ]
  },
  {
   "cell_type": "code",
   "execution_count": 13,
   "id": "09a0dec6",
   "metadata": {},
   "outputs": [],
   "source": [
    "# importing libraries\n",
    "import spotipy\n",
    "import json\n",
    "from spotipy.oauth2 import SpotifyClientCredentials"
   ]
  },
  {
   "cell_type": "code",
   "execution_count": 14,
   "id": "b7199487",
   "metadata": {},
   "outputs": [],
   "source": [
    "secrets_file = open(\"../secrets.txt\",\"r\")"
   ]
  },
  {
   "cell_type": "code",
   "execution_count": 15,
   "id": "376a4b68",
   "metadata": {},
   "outputs": [],
   "source": [
    "string = secrets_file.read()"
   ]
  },
  {
   "cell_type": "code",
   "execution_count": 17,
   "id": "cf01e826",
   "metadata": {},
   "outputs": [],
   "source": [
    "#string.split('\\n')"
   ]
  },
  {
   "cell_type": "code",
   "execution_count": 18,
   "id": "06105674",
   "metadata": {},
   "outputs": [],
   "source": [
    "secrets_dict={}\n",
    "for line in string.split('\\n'):\n",
    "    if len(line) > 0:\n",
    "        secrets_dict[line.split(':')[0]]=line.split(':')[1].strip()"
   ]
  },
  {
   "cell_type": "code",
   "execution_count": 86,
   "id": "9171aee5",
   "metadata": {},
   "outputs": [],
   "source": [
    "#Initialize SpotiPy with user credentials\n",
    "sp = spotipy.Spotify(auth_manager=SpotifyClientCredentials(client_id=secrets_dict['clientid'],\n",
    "                                                           client_secret=secrets_dict['clientsecret']))"
   ]
  },
  {
   "cell_type": "markdown",
   "id": "2f7fb25e",
   "metadata": {},
   "source": [
    "**I found different lists from different times, I will pull them now**"
   ]
  },
  {
   "cell_type": "code",
   "execution_count": 20,
   "id": "fb469edd",
   "metadata": {},
   "outputs": [],
   "source": [
    "# 1.  50's 150 >> 37i9dQZF1DWSV3Tk4GO2fq\n",
    "# 2.  60's 100 >> 3SbE5Sk5MWtNc0GRTU0X6d\n",
    "# 3.  70' 150 >> 37i9dQZF1DX1Hya1sRqqxI\n",
    "# 4.  80's 100 songs >>  37i9dQZF1DXb57FjYWz00c\n",
    "# 5.  90's 150 songs >>  37i9dQZF1DXbTxeAdrVG2l\n",
    "# 6.  2000's 100 songs>> 37i9dQZF1DX4o1oenSJRJd\n",
    "# 7.  2010 100 song >>   37i9dQZF1DX5Ejj0EkURtP\n",
    "# 8.  2020  100 song >> 4vSTV61efRmetmaoz95Vet \n",
    "# 9.  1920-2019 top 1000 >>> 23HsgHgvpjludlObYNpA1S\n",
    "# 10  top 500 of all times >>> 0JiVp7Z0pYKI8diUV6HJyQ\n",
    "# 11  bollywood 100 >>> 37i9dQZF1DWZNJXX2UeBij\n",
    "# 12  best 2000 >>> 37i9dQZF1DWTmvXBN4DgpA"
   ]
  },
  {
   "cell_type": "code",
   "execution_count": 21,
   "id": "03cb4d36",
   "metadata": {},
   "outputs": [],
   "source": [
    "playlist1 = sp.user_playlist_tracks(\"spotify\", '37i9dQZF1DWSV3Tk4GO2fq')\n",
    "playlist2 = sp.user_playlist_tracks(\"spotify\", '3SbE5Sk5MWtNc0GRTU0X6d')\n",
    "playlist3 = sp.user_playlist_tracks(\"spotify\", '37i9dQZF1DX1Hya1sRqqxI')\n",
    "playlist4 = sp.user_playlist_tracks(\"spotify\", '37i9dQZF1DXb57FjYWz00c')\n",
    "playlist5 = sp.user_playlist_tracks(\"spotify\", '37i9dQZF1DXbTxeAdrVG2l')\n",
    "playlist6 = sp.user_playlist_tracks(\"spotify\", '37i9dQZF1DX4o1oenSJRJd')\n",
    "playlist7 = sp.user_playlist_tracks(\"spotify\", '37i9dQZF1DX5Ejj0EkURtP')\n",
    "playlist8 = sp.user_playlist_tracks(\"spotify\", '4vSTV61efRmetmaoz95Vet')\n",
    "playlist9 = sp.user_playlist_tracks(\"spotify\", '23HsgHgvpjludlObYNpA1S')\n",
    "playlist10 = sp.user_playlist_tracks(\"spotify\", '0JiVp7Z0pYKI8diUV6HJyQ')\n",
    "playlist11 = sp.user_playlist_tracks(\"spotify\", '37i9dQZF1DWZNJXX2UeBij')\n",
    "playlist12 = sp.user_playlist_tracks(\"spotify\", '37i9dQZF1DWTmvXBN4DgpA')"
   ]
  },
  {
   "cell_type": "markdown",
   "id": "d41c5b15",
   "metadata": {},
   "source": [
    "**I will get the artist names from the playlists**"
   ]
  },
  {
   "cell_type": "code",
   "execution_count": 22,
   "id": "0decbba5",
   "metadata": {},
   "outputs": [],
   "source": [
    "def get_artist(put_the_playlist):\n",
    "    \n",
    "    artist_1 =[]\n",
    "    for i in range (len(put_the_playlist[\"items\"])):\n",
    "         artist_1.append(put_the_playlist[\"items\"][i]['track']['artists'][0]['name']) \n",
    "\n",
    "    artist_list1 = []\n",
    "    for word in artist_1:\n",
    "        if word not in artist_list1:\n",
    "            artist_list1.append(word)  \n",
    "\n",
    "    return artist_list1"
   ]
  },
  {
   "cell_type": "code",
   "execution_count": 23,
   "id": "3977c177",
   "metadata": {},
   "outputs": [],
   "source": [
    "artist_list = get_artist(playlist1) + get_artist(playlist2) + get_artist(playlist3) + get_artist(playlist4) + get_artist(playlist5) + get_artist(playlist6) + get_artist(playlist7) + get_artist(playlist8) + get_artist(playlist9) + get_artist(playlist10) + get_artist(playlist11) + get_artist(playlist12)"
   ]
  },
  {
   "cell_type": "code",
   "execution_count": 24,
   "id": "426fa221",
   "metadata": {},
   "outputs": [],
   "source": [
    "# removing duplicates from artist list\n",
    "my_artists = []\n",
    "for word in artist_list:\n",
    "    if word not in my_artists:\n",
    "        my_artists.append(word)"
   ]
  },
  {
   "cell_type": "code",
   "execution_count": 25,
   "id": "8ec34d54",
   "metadata": {},
   "outputs": [],
   "source": [
    "#print(my_artists)"
   ]
  },
  {
   "cell_type": "code",
   "execution_count": 26,
   "id": "1d8eb113",
   "metadata": {},
   "outputs": [],
   "source": [
    "artists = ['Elvis Presley', 'Frank Sinatra', 'The Platters', 'Ray Charles', 'Louis Armstrong', 'Buddy Holly', 'Chuck Berry', 'Jerry Lee Lewis', 'Ritchie Valens', 'Bobby Darin', 'Nat King Cole', 'The Everly Brothers', 'Ella Fitzgerald', 'Chet Baker', 'Harry Belafonte', 'Dinah Washington', 'Billie Holiday', 'Little Richard', 'Dean Martin', 'Paul Anka', 'Bill Haley & His Comets', 'The Flamingos', 'Peggy Lee', 'Louis Prima', 'Eddie Cochran', 'Muddy Waters', 'Fats Domino', 'Neil Sedaka', 'Dion & The Belmonts', 'Bobby Day', 'Barrett Strong', 'Pat Boone', 'The Del-Vikings', 'Jackie Wilson', 'Perry Como', 'The Coasters', 'Danny & The Juniors', 'The Penguins', 'The Isley Brothers', 'Sam Cooke', 'Doris Day', 'Carl Perkins', 'The Crew Cuts', 'Tommy Edwards', 'The Clovers', 'The Diamonds', 'The Big Bopper', 'Percy Faith & His Orchestra', 'Johnny Mathis', 'Conway Twitty', 'The Fleetwoods', 'The Chordettes', 'Frankie Lymon', 'The Animals', 'The Rolling Stones', 'Big Blanco', 'Ben E. King', 'Creedence Clearwater Revival', 'The Mamas & The Papas', 'The Beatles', 'Shocking Blue', 'Etta James', 'Nina Simone', 'Circle the Earth', 'David Bowie', 'Marvin Gaye', 'Solomon Burke', 'The Ronettes', 'The Archies', 'Engelbert Humperdinck', 'James Brown & The Famous Flames', 'Frankie Valli', 'The Foundations', 'Led Zeppelin', 'The Seekers', 'Dion', 'Procol Harum', 'Aretha Franklin', 'B.J. Thomas', 'Johnny Cash', 'The Backstage Beatles', 'Gerry & The Pacemakers', 'Neil Diamond', 'The Doors', 'Chubby Checker', 'Patsy Cline', 'Van Morrison', 'Born For Bliss', 'The Trashmen', 'Simon & Garfunkel', 'Buffalo Springfield', 'The Ventures', 'The Tokens', 'Elton John', 'Cream', 'Bob Dylan', 'Diana Ross & The Supremes', 'Skeeter Davis', 'Scott McKenzie', 'Steppenwolf', 'Tom Jones', 'John Denver', 'Roy Orbison', 'The Band', 'Zager & Evans', 'The Cascades', 'Jeannie C. Riley', 'Stevie Wonder', 'Bee Gees', 'John Travolta', 'Earth, Wind & Fire', 'The Jacksons', 'Gloria Gaynor', 'Queen', 'The Trammps', 'Sister Sledge', 'John Paul Young', 'Billy Ocean', 'ABBA', 'Barry White', 'Frankie Valli & The Four Seasons', 'The Emotions', 'KC & The Sunshine Band', 'The Jackson 5', 'Donna Summer', 'CHIC', 'Wild Cherry', 'Village People', 'AC/DC', 'KISS', 'Lynyrd Skynyrd', 'TOTO', 'Fleetwood Mac', 'Stealers Wheel', 'Eagles', 'Edison Lighthouse', 'Michael Jackson', 'Thin Lizzy', 'Boney M.', 'King Harvest', 'Patrick Hernandez', 'The Doobie Brothers', 'Free', 'Rod Stewart', 'Hot Chocolate', \"The O'Jays\", 'The Bellamy Brothers', 'Curtis Mayfield', 'Grand Funk Railroad', 'Candi Staton', 'Jackson Browne', 'Alice Cooper', 'Chris Norman', 'Sly & The Family Stone', 'War', 'Carl Douglas', 'Don McLean', 'The Spinners', 'Jim Croce', 'Steve Miller Band', 'Hues Corporation', 'Cheryl Lynn', 'Blondie', 'Steve Harley', 'Todd Rundgren', 'The Buggles', 'Steely Dan', 'Boz Scaggs', 'Deep Purple', 'Lynn Anderson', 'Three Dog Night', 'Billy Preston', 'T. Rex', 'Gary Glitter', 'Carpenters', 'Sylvester', 'a-ha', 'Michael Sembello', 'Eurythmics', 'Journey', 'Tears For Fears', 'Kenny Loggins', 'Men At Work', 'Soft Cell', 'Bryan Adams', 'Whitney Houston', 'Simple Minds', 'Cyndi Lauper', 'Daryl Hall & John Oates', 'Bon Jovi', 'Starship', 'Bonnie Tyler', 'Rick Astley', 'Lipps Inc.', 'Kim Carnes', 'Wham!', 'New Order', 'The Human League', 'Matthew Wilder', 'Van Halen', 'UB40', 'Culture Club', 'Belinda Carlisle', 'Phil Collins', 'Philip Bailey', 'The Pointer Sisters', 'Dire Straits', 'The Proclaimers', 'Pet Shop Boys', 'Survivor', 'Huey Lewis & The News', 'Eric Carmen', 'Taylor Dayne', 'Duran Duran', 'Paul Simon', 'Billy Joel', 'Fine Young Cannibals', 'Katrina & The Waves', 'Lionel Richie', 'The Cure', 'U2', 'Genesis', 'Run–D.M.C.', 'Dexys Midnight Runners', 'INXS', 'Dead Or Alive', 'Don Henley', 'Prince', 'Tina Turner', 'Depeche Mode', 'Billy Idol', 'Men Without Hats', 'Kim Wilde', 'Madonna', 'Kool & The Gang', 'Deniece Williams', 'George Michael', 'Madness', 'Tiffany', 'Irene Cara', 'George Harrison', 'Frankie Goes To Hollywood', 'The Police', 'Cameo', 'Spandau Ballet', 'Whitesnake', 'Steve Winwood', 'Chaka Khan', 'Erasure', \"The B-52's\", 'Nena', 'The Communards', 'Phil Oakey', 'Luther Vandross', 'Joy Division', 'Four Tops', 'Boy Meets Girl', 'Tight Fit', 'Diana Ross', 'Womack & Womack', 'The Stranglers', 'Spice Girls', 'Backstreet Boys', 'Mariah Carey', 'Roxette', 'Coolio', 'Radiohead', 'Dr. Dre', 'R.E.M.', 'The Goo Goo Dolls', 'Red Hot Chili Peppers', 'The Cranberries', 'blink-182', 'The Offspring', 'Green Day', '4 Non Blondes', \"Guns N' Roses\", 'Gala', 'The Verve', 'TLC', 'Scorpions', 'Blur', 'Mazzy Star', 'Britney Spears', 'Nirvana', 'Smash Mouth', 'Shaggy', 'Chris Isaak', 'Sixpence None The Richer', 'Counting Crows', 'Blackstreet', 'Shania Twain', 'Cher', 'Sublime', 'Oasis', 'Soundgarden', 'Fugees', 'Eminem', 'No Doubt', 'The Smashing Pumpkins', 'Lou Bega', 'Foo Fighters', 'Pearl Jam', 'Alice Deejay', 'Metallica', 'Mark Morrison', 'Blind Melon', 'Natalie Imbruglia', 'Fools Garden', 'Aqua', 'Aerosmith', 'Warren G', 'Céline Dion', 'Luniz', 'Vengaboys', 'The Cardigans', 'The Notorious B.I.G.', 'Ricky Martin', 'Ace of Base', 'New Radicals', 'Ms. Lauryn Hill', 'Lenny Kravitz', 'Weezer', 'Cypress Hill', 'Savage Garden', 'Dido', 'Robbie Williams', '2Pac', 'MC Hammer', 'Daft Punk', 'Third Eye Blind', 'Seal', 'Black Eyed Peas', '50 Cent', 'Lady Gaga', 'Rihanna', 'Shakira', 'Usher', 'Mary J. Blige', 'Gnarls Barkley', 'JAY-Z', 'Maroon 5', 'Coldplay', 'The Killers', 'Linkin Park', 'The White Stripes', 'Gorillaz', 'Nelly Furtado', 'Foster The People', 'The Game', 'Daddy Yankee', 'Outkast', 'Timbaland', 'Evanescence', 'Train', 'Kesha', 'Flo Rida', 'Akon', 'Kings of Leon', 'Hoobastank', 'Taio Cruz', 'Papa Roach', 'Snow Patrol', 'Jimmy Eat World', 'Alicia Keys', 'Kendrick Lamar', 'Amy Winehouse', 'Nickelback', 'The Fray', 'Stromae', 'Sean Paul', 'Avril Lavigne', 'Franz Ferdinand', \"Plain White T's\", 'Empire of the Sun', 'Beyoncé', 't.A.T.u.', 'Owl City', 'Justin Timberlake', 'Bruno Mars', 'Nelly', 'Sean Kingston', 'Jay Sean', 'My Chemical Romance', 'Fall Out Boy', 'Ne-Yo', 'Taylor Swift', 'Toploader', 'P!nk', 'MGMT', 'Soulja Boy', 'Modjo', \"Destiny's Child\", 'Snoop Dogg', 'Avicii', 'Justin Bieber', 'Ellie Goulding', 'Ed Sheeran', 'The Chainsmokers', 'Sam Smith', 'Post Malone', 'Khalid', 'Tom Odell', 'The Neighbourhood', 'The Weeknd', 'Miguel', 'Billie Eilish', 'Harry Styles', 'J Balvin', 'J. Cole', 'Calvin Harris', 'Imagine Dragons', 'Arctic Monkeys', 'One Direction', 'Lewis Capaldi', 'Shawn Mendes', 'Frank Ocean', 'Alec Benjamin', 'Drake', 'Gesaffelstein', 'Juice WRLD', 'Måneskin', 'John Legend', 'Ariana Grande', 'Lil Baby', 'Jaymes Young', 'Joji', 'Twenty One Pilots', 'Childish Gambino', 'XXXTENTACION', 'Travis Scott', 'Tame Impala', 'Bryson Tiller', 'DJ Snake', 'Cigarettes After Sex', 'Mark Ronson', 'CKay', 'WALK THE MOON', 'Marshmello', 'Doja Cat', 'Sia', 'Lana Del Rey', 'Meghan Trainor', 'Capital Cities', 'SZA', 'Metro Boomin', 'Powfu', 'RAYE', 'Steve Lacy', 'Olivia Rodrigo', 'Pop Smoke', 'Lil Nas X', 'David Guetta', 'Rema', 'Nicki Minaj', 'BLACKPINK', 'Cardi B', 'Jack Harlow', 'Dua Lipa', 'Giveon', 'LISA', 'BTS', 'Adele', 'Glass Animals', 'Internet Money', 'Future', '24kGoldn', 'Charlie Puth', 'GAYLE', 'DJ Khaled', 'Lizzo', 'Miley Cyrus', 'The Kid LAROI', 'Camila Cabello', 'Selena Gomez', 'Anitta', 'Kali Uchis', 'Dove Cameron', 'Judy Garland', 'Édith Piaf', 'Charles Trenet', 'Stevie Nicks', 'M.I.A.', 'Florence + The Machine', \"Sinéad O'Connor\", 'Gotye', 'Missy Elliott', 'Benny Goodman', 'John Lennon', 'Tones And I', 'The Kinks', 'Vera Lynn', 'Tracy Chapman', 'The Beach Boys', 'Vanessa Carlton', 'The Smiths', 'Vance Joy', 'Carly Simon', 'The Shirelles', 'Electric Light Orchestra', 'Enya', 'Major Lazer', 'Pink Floyd', 'Macy Gray', 'James Arthur', 'Hozier', 'Lil Uzi Vert', 'OneRepublic', 'Passenger', 'Macklemore & Ryan Lewis', 'SAINt JHN', 'Alan Walker', 'Halsey', 'Mike Posner', 'Bad Bunny', 'Luis Fonsi', 'French Montana', 'Roddy Ricch', 'Wiz Khalifa', 'Lauv', 'Lukas Graham', 'Jason Mraz', 'DaBaby', 'Pritam', 'Atif Aslam', 'Salim–Sulaiman', 'Rashid Ali', 'A.R. Rahman', 'Madan Mohan', 'Shankar-Ehsaan-Loy', 'Sonu Nigam', 'Jatin-Lalit', 'Sukhwinder Singh', 'Monty Sharma', 'Suraj Jagan', 'KK', 'Vishal-Shekhar', 'Mohit Chauhan', 'Javed Ali', 'Shaan', 'Kailash Kher', 'Wajid', 'Rekha Bhardwaj', 'Benny Dayal', 'Sandesh Shandilya', \"Suzzane D'Mello\", 'Shankar', 'Himesh Reshammiya', 'Suzanne', 'Abhijeet', 'Alka Yagnik', 'Mithoon', 'Shankar Mahadevan', 'Sunidhi Chauhan', 'Udit Narayan', 'Adnan Sami', 'Raman Mahadevan', 'Mika Singh', 'Monali Thakur', 'Pinky', 'Kumar Sanu', 'Alisha Chinai', 'Rahat Fateh Ali Khan', 'Kunal Ganjawala', 'Jaspinder Narula', 'Manak-E', 'Neeraj Shridhar', 'Danny Vera', 'Boudewijn de Groot', 'Golden Earring', 'Disturbed', 'DI-RECT', 'Bruce Springsteen', 'Meat Loaf', 'Racoon', 'Miss Montreal', 'Michael Kiwanuka', 'Klein Orkest', 'Rage Against The Machine', 'Supertramp', 'Kate Bush', 'Goldband', 'Wim Sonneveld', 'Paolo Nutini', 'Volbeat', 'Stef Bos', 'Floor Jansen', 'Muse', 'Nothing But Thieves', 'Kensington', 'Guus Meeuwis', 'The Alan Parsons Project', 'Liesbeth List', 'Rammstein']"
   ]
  },
  {
   "cell_type": "code",
   "execution_count": 27,
   "id": "cb885963",
   "metadata": {},
   "outputs": [
    {
     "data": {
      "text/plain": [
       "594"
      ]
     },
     "execution_count": 27,
     "metadata": {},
     "output_type": "execute_result"
    }
   ],
   "source": [
    "len(artists)"
   ]
  },
  {
   "cell_type": "markdown",
   "id": "06cf0f13",
   "metadata": {},
   "source": [
    "**Now I will have 10 songs from each artist**"
   ]
  },
  {
   "cell_type": "code",
   "execution_count": 28,
   "id": "5a14c739",
   "metadata": {},
   "outputs": [],
   "source": [
    "my_10_tracks = []\n",
    "\n",
    "for artist in artists:   \n",
    "    my_10_tracks.append(sp.search(q=artist, limit=10))"
   ]
  },
  {
   "cell_type": "markdown",
   "id": "1e1d2139",
   "metadata": {},
   "source": [
    "Importing song features"
   ]
  },
  {
   "cell_type": "code",
   "execution_count": 29,
   "id": "3dcf696d",
   "metadata": {},
   "outputs": [],
   "source": [
    "# range differs according to artist count\n",
    "songs_5940 = []\n",
    "songs_5940_uri = []\n",
    "songs_5940_url = []\n",
    "for i in range(594):\n",
    "    for j in range(10):\n",
    "        songs_5940.append(my_10_tracks[i]['tracks']['items'][j]['name'])\n",
    "        songs_5940_uri.append(my_10_tracks[i]['tracks']['items'][j]['uri'])\n",
    "        songs_5940_url.append(my_10_tracks[i]['tracks']['items'][j]['external_urls']['spotify'])"
   ]
  },
  {
   "cell_type": "markdown",
   "id": "84b298fd",
   "metadata": {},
   "source": [
    "Expanding artist list"
   ]
  },
  {
   "cell_type": "code",
   "execution_count": 30,
   "id": "9ab1ad00",
   "metadata": {},
   "outputs": [],
   "source": [
    "songs_5940_artists = []\n",
    "for i in range(len(artists)):\n",
    "    j = 10\n",
    "    while j != 0:\n",
    "        songs_5940_artists.append(artists[i])\n",
    "        j-=1"
   ]
  },
  {
   "cell_type": "code",
   "execution_count": 31,
   "id": "3dcc619e",
   "metadata": {},
   "outputs": [],
   "source": [
    "# range len artist * 10\n",
    "songs_5940_features = []\n",
    "for i in range(5940):\n",
    "    songs_5940_features.append(sp.audio_features(songs_5940_uri[i]))"
   ]
  },
  {
   "cell_type": "markdown",
   "id": "54854a85",
   "metadata": {},
   "source": [
    "I need to flatten the results"
   ]
  },
  {
   "cell_type": "code",
   "execution_count": 32,
   "id": "3f8d2360",
   "metadata": {},
   "outputs": [],
   "source": [
    "def flatten(input_list):\n",
    "    return [item for sublist in input_list for item in sublist]"
   ]
  },
  {
   "cell_type": "code",
   "execution_count": 33,
   "id": "55500419",
   "metadata": {},
   "outputs": [],
   "source": [
    "songs_5940_features = flatten(songs_5940_features)"
   ]
  },
  {
   "cell_type": "code",
   "execution_count": 34,
   "id": "43b480e9",
   "metadata": {},
   "outputs": [],
   "source": [
    "artist_594_song_5940 = pd.DataFrame({'title':songs_5940,'artist':songs_5940_artists,'url':songs_5940_url,'features':songs_5940_features})"
   ]
  },
  {
   "cell_type": "markdown",
   "id": "bdb2f04b",
   "metadata": {},
   "source": [
    "Normalizing features column"
   ]
  },
  {
   "cell_type": "code",
   "execution_count": 35,
   "id": "239bf133",
   "metadata": {},
   "outputs": [],
   "source": [
    "ftr = pd.json_normalize(artist_594_song_5940.features)\n",
    "ftr.columns = [f'features_{col}' for col in ftr.columns]"
   ]
  },
  {
   "cell_type": "code",
   "execution_count": 51,
   "id": "e5c8ea1d",
   "metadata": {},
   "outputs": [],
   "source": [
    "artist594_song5940 = pd.concat([artist_594_song_5940, ftr], axis=1)\n",
    "cleaned_1 = artist594_song5940.drop(columns=['features', 'features_uri', 'features_track_href' , 'features_analysis_url', 'features_id'])"
   ]
  },
  {
   "cell_type": "code",
   "execution_count": 52,
   "id": "f841c737",
   "metadata": {},
   "outputs": [
    {
     "data": {
      "text/plain": [
       "title                        0\n",
       "artist                       0\n",
       "url                          0\n",
       "features_danceability        2\n",
       "features_energy              2\n",
       "features_key                 2\n",
       "features_loudness            2\n",
       "features_mode                2\n",
       "features_speechiness         2\n",
       "features_acousticness        2\n",
       "features_instrumentalness    2\n",
       "features_liveness            2\n",
       "features_valence             2\n",
       "features_tempo               2\n",
       "features_type                2\n",
       "features_duration_ms         2\n",
       "features_time_signature      2\n",
       "dtype: int64"
      ]
     },
     "execution_count": 52,
     "metadata": {},
     "output_type": "execute_result"
    }
   ],
   "source": [
    "cleaned_1.isna().sum()"
   ]
  },
  {
   "cell_type": "code",
   "execution_count": 53,
   "id": "846bd610",
   "metadata": {},
   "outputs": [],
   "source": [
    "cleaned_1 = cleaned_1.dropna()"
   ]
  },
  {
   "cell_type": "code",
   "execution_count": 54,
   "id": "40d0a01c",
   "metadata": {},
   "outputs": [],
   "source": [
    "#Saving to csv file for future\n",
    "cleaned_1.to_csv('asli_list.csv', index = False)"
   ]
  },
  {
   "cell_type": "markdown",
   "id": "4be04cc8",
   "metadata": {},
   "source": [
    "### Part 3: Unsupervised Learning: K-means clustering"
   ]
  },
  {
   "cell_type": "code",
   "execution_count": 56,
   "id": "d50fbbb4",
   "metadata": {},
   "outputs": [],
   "source": [
    "# importing libraries\n",
    "from sklearn.cluster import KMeans\n",
    "import matplotlib.pyplot as plt\n",
    "from sklearn import cluster, datasets\n",
    "from matplotlib.lines import Line2D"
   ]
  },
  {
   "cell_type": "code",
   "execution_count": 57,
   "id": "ff6d0c71",
   "metadata": {},
   "outputs": [
    {
     "data": {
      "text/html": [
       "<div>\n",
       "<style scoped>\n",
       "    .dataframe tbody tr th:only-of-type {\n",
       "        vertical-align: middle;\n",
       "    }\n",
       "\n",
       "    .dataframe tbody tr th {\n",
       "        vertical-align: top;\n",
       "    }\n",
       "\n",
       "    .dataframe thead th {\n",
       "        text-align: right;\n",
       "    }\n",
       "</style>\n",
       "<table border=\"1\" class=\"dataframe\">\n",
       "  <thead>\n",
       "    <tr style=\"text-align: right;\">\n",
       "      <th></th>\n",
       "      <th>title</th>\n",
       "      <th>artist</th>\n",
       "      <th>url</th>\n",
       "      <th>features_danceability</th>\n",
       "      <th>features_energy</th>\n",
       "      <th>features_key</th>\n",
       "      <th>features_loudness</th>\n",
       "      <th>features_mode</th>\n",
       "      <th>features_speechiness</th>\n",
       "      <th>features_acousticness</th>\n",
       "      <th>features_instrumentalness</th>\n",
       "      <th>features_liveness</th>\n",
       "      <th>features_valence</th>\n",
       "      <th>features_tempo</th>\n",
       "      <th>features_type</th>\n",
       "      <th>features_duration_ms</th>\n",
       "      <th>features_time_signature</th>\n",
       "    </tr>\n",
       "  </thead>\n",
       "  <tbody>\n",
       "    <tr>\n",
       "      <th>0</th>\n",
       "      <td>Can't Help Falling in Love</td>\n",
       "      <td>Elvis Presley</td>\n",
       "      <td>https://open.spotify.com/track/44AyOl4qVkzS48v...</td>\n",
       "      <td>0.396</td>\n",
       "      <td>0.293</td>\n",
       "      <td>2.0</td>\n",
       "      <td>-14.062</td>\n",
       "      <td>1.0</td>\n",
       "      <td>0.0275</td>\n",
       "      <td>0.9410</td>\n",
       "      <td>0.000196</td>\n",
       "      <td>0.1050</td>\n",
       "      <td>0.343</td>\n",
       "      <td>100.307</td>\n",
       "      <td>audio_features</td>\n",
       "      <td>182360.0</td>\n",
       "      <td>3.0</td>\n",
       "    </tr>\n",
       "    <tr>\n",
       "      <th>1</th>\n",
       "      <td>Hound Dog</td>\n",
       "      <td>Elvis Presley</td>\n",
       "      <td>https://open.spotify.com/track/64Ny7djQ6rNJspq...</td>\n",
       "      <td>0.494</td>\n",
       "      <td>0.756</td>\n",
       "      <td>0.0</td>\n",
       "      <td>-8.492</td>\n",
       "      <td>1.0</td>\n",
       "      <td>0.0499</td>\n",
       "      <td>0.7330</td>\n",
       "      <td>0.005050</td>\n",
       "      <td>0.7600</td>\n",
       "      <td>0.949</td>\n",
       "      <td>86.895</td>\n",
       "      <td>audio_features</td>\n",
       "      <td>136027.0</td>\n",
       "      <td>4.0</td>\n",
       "    </tr>\n",
       "    <tr>\n",
       "      <th>2</th>\n",
       "      <td>Jailhouse Rock</td>\n",
       "      <td>Elvis Presley</td>\n",
       "      <td>https://open.spotify.com/track/452KBpASS5lZLeJ...</td>\n",
       "      <td>0.623</td>\n",
       "      <td>0.537</td>\n",
       "      <td>10.0</td>\n",
       "      <td>-10.014</td>\n",
       "      <td>0.0</td>\n",
       "      <td>0.0726</td>\n",
       "      <td>0.3320</td>\n",
       "      <td>0.000014</td>\n",
       "      <td>0.0963</td>\n",
       "      <td>0.905</td>\n",
       "      <td>166.885</td>\n",
       "      <td>audio_features</td>\n",
       "      <td>146933.0</td>\n",
       "      <td>4.0</td>\n",
       "    </tr>\n",
       "    <tr>\n",
       "      <th>3</th>\n",
       "      <td>Suspicious Minds</td>\n",
       "      <td>Elvis Presley</td>\n",
       "      <td>https://open.spotify.com/track/1H5IfYyIIAlgDX8...</td>\n",
       "      <td>0.487</td>\n",
       "      <td>0.382</td>\n",
       "      <td>7.0</td>\n",
       "      <td>-10.889</td>\n",
       "      <td>1.0</td>\n",
       "      <td>0.0309</td>\n",
       "      <td>0.0422</td>\n",
       "      <td>0.000005</td>\n",
       "      <td>0.4110</td>\n",
       "      <td>0.714</td>\n",
       "      <td>116.557</td>\n",
       "      <td>audio_features</td>\n",
       "      <td>261280.0</td>\n",
       "      <td>4.0</td>\n",
       "    </tr>\n",
       "    <tr>\n",
       "      <th>4</th>\n",
       "      <td>Burning Love</td>\n",
       "      <td>Elvis Presley</td>\n",
       "      <td>https://open.spotify.com/track/7zMUCLm1TN9o9Jl...</td>\n",
       "      <td>0.660</td>\n",
       "      <td>0.748</td>\n",
       "      <td>2.0</td>\n",
       "      <td>-11.206</td>\n",
       "      <td>1.0</td>\n",
       "      <td>0.0284</td>\n",
       "      <td>0.0993</td>\n",
       "      <td>0.005850</td>\n",
       "      <td>0.2830</td>\n",
       "      <td>0.972</td>\n",
       "      <td>143.549</td>\n",
       "      <td>audio_features</td>\n",
       "      <td>170293.0</td>\n",
       "      <td>4.0</td>\n",
       "    </tr>\n",
       "  </tbody>\n",
       "</table>\n",
       "</div>"
      ],
      "text/plain": [
       "                        title         artist  \\\n",
       "0  Can't Help Falling in Love  Elvis Presley   \n",
       "1                   Hound Dog  Elvis Presley   \n",
       "2              Jailhouse Rock  Elvis Presley   \n",
       "3            Suspicious Minds  Elvis Presley   \n",
       "4                Burning Love  Elvis Presley   \n",
       "\n",
       "                                                 url  features_danceability  \\\n",
       "0  https://open.spotify.com/track/44AyOl4qVkzS48v...                  0.396   \n",
       "1  https://open.spotify.com/track/64Ny7djQ6rNJspq...                  0.494   \n",
       "2  https://open.spotify.com/track/452KBpASS5lZLeJ...                  0.623   \n",
       "3  https://open.spotify.com/track/1H5IfYyIIAlgDX8...                  0.487   \n",
       "4  https://open.spotify.com/track/7zMUCLm1TN9o9Jl...                  0.660   \n",
       "\n",
       "   features_energy  features_key  features_loudness  features_mode  \\\n",
       "0            0.293           2.0            -14.062            1.0   \n",
       "1            0.756           0.0             -8.492            1.0   \n",
       "2            0.537          10.0            -10.014            0.0   \n",
       "3            0.382           7.0            -10.889            1.0   \n",
       "4            0.748           2.0            -11.206            1.0   \n",
       "\n",
       "   features_speechiness  features_acousticness  features_instrumentalness  \\\n",
       "0                0.0275                 0.9410                   0.000196   \n",
       "1                0.0499                 0.7330                   0.005050   \n",
       "2                0.0726                 0.3320                   0.000014   \n",
       "3                0.0309                 0.0422                   0.000005   \n",
       "4                0.0284                 0.0993                   0.005850   \n",
       "\n",
       "   features_liveness  features_valence  features_tempo   features_type  \\\n",
       "0             0.1050             0.343         100.307  audio_features   \n",
       "1             0.7600             0.949          86.895  audio_features   \n",
       "2             0.0963             0.905         166.885  audio_features   \n",
       "3             0.4110             0.714         116.557  audio_features   \n",
       "4             0.2830             0.972         143.549  audio_features   \n",
       "\n",
       "   features_duration_ms  features_time_signature  \n",
       "0              182360.0                      3.0  \n",
       "1              136027.0                      4.0  \n",
       "2              146933.0                      4.0  \n",
       "3              261280.0                      4.0  \n",
       "4              170293.0                      4.0  "
      ]
     },
     "execution_count": 57,
     "metadata": {},
     "output_type": "execute_result"
    }
   ],
   "source": [
    "playlist = cleaned_1.copy()\n",
    "playlist.head()"
   ]
  },
  {
   "cell_type": "code",
   "execution_count": 72,
   "id": "64b24c75",
   "metadata": {},
   "outputs": [
    {
     "data": {
      "text/plain": [
       "(5938, 13)"
      ]
     },
     "metadata": {},
     "output_type": "display_data"
    },
    {
     "data": {
      "text/html": [
       "<div>\n",
       "<style scoped>\n",
       "    .dataframe tbody tr th:only-of-type {\n",
       "        vertical-align: middle;\n",
       "    }\n",
       "\n",
       "    .dataframe tbody tr th {\n",
       "        vertical-align: top;\n",
       "    }\n",
       "\n",
       "    .dataframe thead th {\n",
       "        text-align: right;\n",
       "    }\n",
       "</style>\n",
       "<table border=\"1\" class=\"dataframe\">\n",
       "  <thead>\n",
       "    <tr style=\"text-align: right;\">\n",
       "      <th></th>\n",
       "      <th>features_danceability</th>\n",
       "      <th>features_energy</th>\n",
       "      <th>features_key</th>\n",
       "      <th>features_loudness</th>\n",
       "      <th>features_mode</th>\n",
       "      <th>features_speechiness</th>\n",
       "      <th>features_acousticness</th>\n",
       "      <th>features_instrumentalness</th>\n",
       "      <th>features_liveness</th>\n",
       "      <th>features_valence</th>\n",
       "      <th>features_tempo</th>\n",
       "      <th>features_duration_ms</th>\n",
       "      <th>features_time_signature</th>\n",
       "    </tr>\n",
       "  </thead>\n",
       "  <tbody>\n",
       "    <tr>\n",
       "      <th>0</th>\n",
       "      <td>0.396</td>\n",
       "      <td>0.293</td>\n",
       "      <td>2.0</td>\n",
       "      <td>-14.062</td>\n",
       "      <td>1.0</td>\n",
       "      <td>0.0275</td>\n",
       "      <td>0.9410</td>\n",
       "      <td>0.000196</td>\n",
       "      <td>0.1050</td>\n",
       "      <td>0.343</td>\n",
       "      <td>100.307</td>\n",
       "      <td>182360.0</td>\n",
       "      <td>3.0</td>\n",
       "    </tr>\n",
       "    <tr>\n",
       "      <th>1</th>\n",
       "      <td>0.494</td>\n",
       "      <td>0.756</td>\n",
       "      <td>0.0</td>\n",
       "      <td>-8.492</td>\n",
       "      <td>1.0</td>\n",
       "      <td>0.0499</td>\n",
       "      <td>0.7330</td>\n",
       "      <td>0.005050</td>\n",
       "      <td>0.7600</td>\n",
       "      <td>0.949</td>\n",
       "      <td>86.895</td>\n",
       "      <td>136027.0</td>\n",
       "      <td>4.0</td>\n",
       "    </tr>\n",
       "    <tr>\n",
       "      <th>2</th>\n",
       "      <td>0.623</td>\n",
       "      <td>0.537</td>\n",
       "      <td>10.0</td>\n",
       "      <td>-10.014</td>\n",
       "      <td>0.0</td>\n",
       "      <td>0.0726</td>\n",
       "      <td>0.3320</td>\n",
       "      <td>0.000014</td>\n",
       "      <td>0.0963</td>\n",
       "      <td>0.905</td>\n",
       "      <td>166.885</td>\n",
       "      <td>146933.0</td>\n",
       "      <td>4.0</td>\n",
       "    </tr>\n",
       "    <tr>\n",
       "      <th>3</th>\n",
       "      <td>0.487</td>\n",
       "      <td>0.382</td>\n",
       "      <td>7.0</td>\n",
       "      <td>-10.889</td>\n",
       "      <td>1.0</td>\n",
       "      <td>0.0309</td>\n",
       "      <td>0.0422</td>\n",
       "      <td>0.000005</td>\n",
       "      <td>0.4110</td>\n",
       "      <td>0.714</td>\n",
       "      <td>116.557</td>\n",
       "      <td>261280.0</td>\n",
       "      <td>4.0</td>\n",
       "    </tr>\n",
       "    <tr>\n",
       "      <th>4</th>\n",
       "      <td>0.660</td>\n",
       "      <td>0.748</td>\n",
       "      <td>2.0</td>\n",
       "      <td>-11.206</td>\n",
       "      <td>1.0</td>\n",
       "      <td>0.0284</td>\n",
       "      <td>0.0993</td>\n",
       "      <td>0.005850</td>\n",
       "      <td>0.2830</td>\n",
       "      <td>0.972</td>\n",
       "      <td>143.549</td>\n",
       "      <td>170293.0</td>\n",
       "      <td>4.0</td>\n",
       "    </tr>\n",
       "  </tbody>\n",
       "</table>\n",
       "</div>"
      ],
      "text/plain": [
       "   features_danceability  features_energy  features_key  features_loudness  \\\n",
       "0                  0.396            0.293           2.0            -14.062   \n",
       "1                  0.494            0.756           0.0             -8.492   \n",
       "2                  0.623            0.537          10.0            -10.014   \n",
       "3                  0.487            0.382           7.0            -10.889   \n",
       "4                  0.660            0.748           2.0            -11.206   \n",
       "\n",
       "   features_mode  features_speechiness  features_acousticness  \\\n",
       "0            1.0                0.0275                 0.9410   \n",
       "1            1.0                0.0499                 0.7330   \n",
       "2            0.0                0.0726                 0.3320   \n",
       "3            1.0                0.0309                 0.0422   \n",
       "4            1.0                0.0284                 0.0993   \n",
       "\n",
       "   features_instrumentalness  features_liveness  features_valence  \\\n",
       "0                   0.000196             0.1050             0.343   \n",
       "1                   0.005050             0.7600             0.949   \n",
       "2                   0.000014             0.0963             0.905   \n",
       "3                   0.000005             0.4110             0.714   \n",
       "4                   0.005850             0.2830             0.972   \n",
       "\n",
       "   features_tempo  features_duration_ms  features_time_signature  \n",
       "0         100.307              182360.0                      3.0  \n",
       "1          86.895              136027.0                      4.0  \n",
       "2         166.885              146933.0                      4.0  \n",
       "3         116.557              261280.0                      4.0  \n",
       "4         143.549              170293.0                      4.0  "
      ]
     },
     "execution_count": 72,
     "metadata": {},
     "output_type": "execute_result"
    }
   ],
   "source": [
    "# dropping columns for clustering\n",
    "data = playlist.drop(columns=['title', 'artist', 'url', 'features_type'])\n",
    "display(data.shape)\n",
    "data.head()"
   ]
  },
  {
   "cell_type": "markdown",
   "id": "2bc1124f",
   "metadata": {},
   "source": [
    "scaling my data"
   ]
  },
  {
   "cell_type": "code",
   "execution_count": 73,
   "id": "053256af",
   "metadata": {},
   "outputs": [
    {
     "data": {
      "text/html": [
       "<div>\n",
       "<style scoped>\n",
       "    .dataframe tbody tr th:only-of-type {\n",
       "        vertical-align: middle;\n",
       "    }\n",
       "\n",
       "    .dataframe tbody tr th {\n",
       "        vertical-align: top;\n",
       "    }\n",
       "\n",
       "    .dataframe thead th {\n",
       "        text-align: right;\n",
       "    }\n",
       "</style>\n",
       "<table border=\"1\" class=\"dataframe\">\n",
       "  <thead>\n",
       "    <tr style=\"text-align: right;\">\n",
       "      <th></th>\n",
       "      <th>features_danceability</th>\n",
       "      <th>features_energy</th>\n",
       "      <th>features_key</th>\n",
       "      <th>features_loudness</th>\n",
       "      <th>features_mode</th>\n",
       "      <th>features_speechiness</th>\n",
       "      <th>features_acousticness</th>\n",
       "      <th>features_instrumentalness</th>\n",
       "      <th>features_liveness</th>\n",
       "      <th>features_valence</th>\n",
       "      <th>features_tempo</th>\n",
       "      <th>features_duration_ms</th>\n",
       "      <th>features_time_signature</th>\n",
       "    </tr>\n",
       "  </thead>\n",
       "  <tbody>\n",
       "    <tr>\n",
       "      <th>0</th>\n",
       "      <td>-1.318349</td>\n",
       "      <td>-1.516373</td>\n",
       "      <td>-0.893353</td>\n",
       "      <td>-1.396413</td>\n",
       "      <td>0.705946</td>\n",
       "      <td>-0.598875</td>\n",
       "      <td>2.205984</td>\n",
       "      <td>-0.292288</td>\n",
       "      <td>-0.524661</td>\n",
       "      <td>-0.892113</td>\n",
       "      <td>-0.714694</td>\n",
       "      <td>-0.519350</td>\n",
       "      <td>-2.794334</td>\n",
       "    </tr>\n",
       "    <tr>\n",
       "      <th>1</th>\n",
       "      <td>-0.705421</td>\n",
       "      <td>0.606691</td>\n",
       "      <td>-1.453722</td>\n",
       "      <td>-0.033728</td>\n",
       "      <td>0.705946</td>\n",
       "      <td>-0.321395</td>\n",
       "      <td>1.502542</td>\n",
       "      <td>-0.265519</td>\n",
       "      <td>3.893639</td>\n",
       "      <td>1.528347</td>\n",
       "      <td>-1.202391</td>\n",
       "      <td>-1.046477</td>\n",
       "      <td>0.203995</td>\n",
       "    </tr>\n",
       "    <tr>\n",
       "      <th>2</th>\n",
       "      <td>0.101393</td>\n",
       "      <td>-0.397523</td>\n",
       "      <td>1.348122</td>\n",
       "      <td>-0.406081</td>\n",
       "      <td>-1.416539</td>\n",
       "      <td>-0.040199</td>\n",
       "      <td>0.146388</td>\n",
       "      <td>-0.293291</td>\n",
       "      <td>-0.583347</td>\n",
       "      <td>1.352604</td>\n",
       "      <td>1.706261</td>\n",
       "      <td>-0.922400</td>\n",
       "      <td>0.203995</td>\n",
       "    </tr>\n",
       "    <tr>\n",
       "      <th>3</th>\n",
       "      <td>-0.749201</td>\n",
       "      <td>-1.108268</td>\n",
       "      <td>0.507569</td>\n",
       "      <td>-0.620147</td>\n",
       "      <td>0.705946</td>\n",
       "      <td>-0.556757</td>\n",
       "      <td>-0.833696</td>\n",
       "      <td>-0.293342</td>\n",
       "      <td>1.539461</td>\n",
       "      <td>0.589719</td>\n",
       "      <td>-0.123801</td>\n",
       "      <td>0.378518</td>\n",
       "      <td>0.203995</td>\n",
       "    </tr>\n",
       "    <tr>\n",
       "      <th>4</th>\n",
       "      <td>0.332805</td>\n",
       "      <td>0.570007</td>\n",
       "      <td>-0.893353</td>\n",
       "      <td>-0.697701</td>\n",
       "      <td>0.705946</td>\n",
       "      <td>-0.587726</td>\n",
       "      <td>-0.640587</td>\n",
       "      <td>-0.261107</td>\n",
       "      <td>0.676037</td>\n",
       "      <td>1.620212</td>\n",
       "      <td>0.857701</td>\n",
       "      <td>-0.656635</td>\n",
       "      <td>0.203995</td>\n",
       "    </tr>\n",
       "  </tbody>\n",
       "</table>\n",
       "</div>"
      ],
      "text/plain": [
       "   features_danceability  features_energy  features_key  features_loudness  \\\n",
       "0              -1.318349        -1.516373     -0.893353          -1.396413   \n",
       "1              -0.705421         0.606691     -1.453722          -0.033728   \n",
       "2               0.101393        -0.397523      1.348122          -0.406081   \n",
       "3              -0.749201        -1.108268      0.507569          -0.620147   \n",
       "4               0.332805         0.570007     -0.893353          -0.697701   \n",
       "\n",
       "   features_mode  features_speechiness  features_acousticness  \\\n",
       "0       0.705946             -0.598875               2.205984   \n",
       "1       0.705946             -0.321395               1.502542   \n",
       "2      -1.416539             -0.040199               0.146388   \n",
       "3       0.705946             -0.556757              -0.833696   \n",
       "4       0.705946             -0.587726              -0.640587   \n",
       "\n",
       "   features_instrumentalness  features_liveness  features_valence  \\\n",
       "0                  -0.292288          -0.524661         -0.892113   \n",
       "1                  -0.265519           3.893639          1.528347   \n",
       "2                  -0.293291          -0.583347          1.352604   \n",
       "3                  -0.293342           1.539461          0.589719   \n",
       "4                  -0.261107           0.676037          1.620212   \n",
       "\n",
       "   features_tempo  features_duration_ms  features_time_signature  \n",
       "0       -0.714694             -0.519350                -2.794334  \n",
       "1       -1.202391             -1.046477                 0.203995  \n",
       "2        1.706261             -0.922400                 0.203995  \n",
       "3       -0.123801              0.378518                 0.203995  \n",
       "4        0.857701             -0.656635                 0.203995  "
      ]
     },
     "execution_count": 73,
     "metadata": {},
     "output_type": "execute_result"
    }
   ],
   "source": [
    "from sklearn.preprocessing import StandardScaler\n",
    "transformer = StandardScaler().fit(data)\n",
    "data_prep = transformer.transform(data)\n",
    "\n",
    "# Now, all features will have the same weight.\n",
    "data_prep = pd.DataFrame(data_prep,columns=data.columns)\n",
    "data_prep.head()"
   ]
  },
  {
   "cell_type": "markdown",
   "id": "74dee606",
   "metadata": {},
   "source": [
    "choosing K"
   ]
  },
  {
   "cell_type": "code",
   "execution_count": 74,
   "id": "95692d7f",
   "metadata": {},
   "outputs": [
    {
     "data": {
      "text/plain": [
       "Text(0.5, 1.0, 'Elbow Method showing the optimal k')"
      ]
     },
     "execution_count": 74,
     "metadata": {},
     "output_type": "execute_result"
    },
    {
     "data": {
      "image/png": "[encoded data removed]",
      "text/plain": [
       "<Figure size 1600x800 with 1 Axes>"
      ]
     },
     "metadata": {},
     "output_type": "display_data"
    }
   ],
   "source": [
    "from sklearn.cluster import KMeans\n",
    "K = range(2, 20)\n",
    "inertia = []\n",
    "\n",
    "for k in K:\n",
    "    kmeans = KMeans(n_clusters=k,\n",
    "                    random_state=1234)\n",
    "    kmeans.fit(data_prep)\n",
    "    inertia.append(kmeans.inertia_)\n",
    "\n",
    "\n",
    "plt.figure(figsize=(16,8))\n",
    "plt.plot(K, inertia, 'bx-')\n",
    "plt.xlabel('k')\n",
    "plt.ylabel('inertia')\n",
    "plt.xticks(np.arange(min(K), max(K)+1, 1.0))\n",
    "plt.title('Elbow Method showing the optimal k')"
   ]
  },
  {
   "cell_type": "code",
   "execution_count": 75,
   "id": "ff927ce2",
   "metadata": {},
   "outputs": [
    {
     "data": {
      "text/plain": [
       "Text(0.5, 1.0, 'Slhouette score showing the optimal k')"
      ]
     },
     "execution_count": 75,
     "metadata": {},
     "output_type": "execute_result"
    },
    {
     "data": {
      "image/png": "[encoded data removed]",
      "text/plain": [
       "<Figure size 1600x800 with 1 Axes>"
      ]
     },
     "metadata": {},
     "output_type": "display_data"
    }
   ],
   "source": [
    "from sklearn.metrics import silhouette_score\n",
    "K = range(2, 20)\n",
    "silhouette = []\n",
    "\n",
    "for k in K:\n",
    "    kmeans = KMeans(n_clusters=k,\n",
    "                    random_state=1234)\n",
    "    kmeans.fit(data_prep)\n",
    "    silhouette.append(silhouette_score(data_prep, kmeans.predict(data_prep)))\n",
    "\n",
    "\n",
    "plt.figure(figsize=(16,8))\n",
    "plt.plot(K, silhouette, 'bx-')\n",
    "plt.xlabel('k')\n",
    "plt.ylabel('silhouette score')\n",
    "plt.xticks(np.arange(min(K), max(K)+1, 1.0))\n",
    "plt.title('Slhouette score showing the optimal k')"
   ]
  },
  {
   "cell_type": "markdown",
   "id": "fcebc04e",
   "metadata": {},
   "source": [
    "I will choose 7 clusters"
   ]
  },
  {
   "cell_type": "code",
   "execution_count": 80,
   "id": "62404a92",
   "metadata": {},
   "outputs": [
    {
     "data": {
      "text/plain": [
       "KMeans(n_clusters=7, random_state=1234)"
      ]
     },
     "execution_count": 80,
     "metadata": {},
     "output_type": "execute_result"
    }
   ],
   "source": [
    "kmeans = KMeans(n_clusters=7, random_state=1234)\n",
    "kmeans.fit(data_prep)"
   ]
  },
  {
   "cell_type": "code",
   "execution_count": 82,
   "id": "03d89097",
   "metadata": {},
   "outputs": [
    {
     "data": {
      "text/plain": [
       "0    1302\n",
       "1    1012\n",
       "2     427\n",
       "3    2092\n",
       "4     316\n",
       "5     297\n",
       "6     492\n",
       "dtype: int64"
      ]
     },
     "execution_count": 82,
     "metadata": {},
     "output_type": "execute_result"
    }
   ],
   "source": [
    "# Predicting / assigning the clusters:\n",
    "clusters = kmeans.predict(data_prep)\n",
    "\n",
    "# Check the size of the clusters (3rd cluster is a bit too much)\n",
    "pd.Series(clusters).value_counts().sort_index()"
   ]
  },
  {
   "cell_type": "code",
   "execution_count": 83,
   "id": "a4302e47",
   "metadata": {},
   "outputs": [
    {
     "data": {
      "text/plain": [
       "47919.57233826648"
      ]
     },
     "execution_count": 83,
     "metadata": {},
     "output_type": "execute_result"
    }
   ],
   "source": [
    "kmeans.inertia_ ##### "
   ]
  },
  {
   "cell_type": "code",
   "execution_count": 84,
   "id": "2ddf058d",
   "metadata": {},
   "outputs": [
    {
     "data": {
      "text/html": [
       "<div>\n",
       "<style scoped>\n",
       "    .dataframe tbody tr th:only-of-type {\n",
       "        vertical-align: middle;\n",
       "    }\n",
       "\n",
       "    .dataframe tbody tr th {\n",
       "        vertical-align: top;\n",
       "    }\n",
       "\n",
       "    .dataframe thead th {\n",
       "        text-align: right;\n",
       "    }\n",
       "</style>\n",
       "<table border=\"1\" class=\"dataframe\">\n",
       "  <thead>\n",
       "    <tr style=\"text-align: right;\">\n",
       "      <th></th>\n",
       "      <th>title</th>\n",
       "      <th>artist</th>\n",
       "      <th>url</th>\n",
       "      <th>features_danceability</th>\n",
       "      <th>features_energy</th>\n",
       "      <th>features_key</th>\n",
       "      <th>features_loudness</th>\n",
       "      <th>features_mode</th>\n",
       "      <th>features_speechiness</th>\n",
       "      <th>features_acousticness</th>\n",
       "      <th>features_instrumentalness</th>\n",
       "      <th>features_liveness</th>\n",
       "      <th>features_valence</th>\n",
       "      <th>features_tempo</th>\n",
       "      <th>features_type</th>\n",
       "      <th>features_duration_ms</th>\n",
       "      <th>features_time_signature</th>\n",
       "      <th>clusters</th>\n",
       "    </tr>\n",
       "  </thead>\n",
       "  <tbody>\n",
       "    <tr>\n",
       "      <th>0</th>\n",
       "      <td>Can't Help Falling in Love</td>\n",
       "      <td>Elvis Presley</td>\n",
       "      <td>https://open.spotify.com/track/44AyOl4qVkzS48v...</td>\n",
       "      <td>0.396</td>\n",
       "      <td>0.293</td>\n",
       "      <td>2.0</td>\n",
       "      <td>-14.062</td>\n",
       "      <td>1.0</td>\n",
       "      <td>0.0275</td>\n",
       "      <td>0.9410</td>\n",
       "      <td>0.000196</td>\n",
       "      <td>0.1050</td>\n",
       "      <td>0.343</td>\n",
       "      <td>100.307</td>\n",
       "      <td>audio_features</td>\n",
       "      <td>182360.0</td>\n",
       "      <td>3.0</td>\n",
       "      <td>4</td>\n",
       "    </tr>\n",
       "    <tr>\n",
       "      <th>1</th>\n",
       "      <td>Hound Dog</td>\n",
       "      <td>Elvis Presley</td>\n",
       "      <td>https://open.spotify.com/track/64Ny7djQ6rNJspq...</td>\n",
       "      <td>0.494</td>\n",
       "      <td>0.756</td>\n",
       "      <td>0.0</td>\n",
       "      <td>-8.492</td>\n",
       "      <td>1.0</td>\n",
       "      <td>0.0499</td>\n",
       "      <td>0.7330</td>\n",
       "      <td>0.005050</td>\n",
       "      <td>0.7600</td>\n",
       "      <td>0.949</td>\n",
       "      <td>86.895</td>\n",
       "      <td>audio_features</td>\n",
       "      <td>136027.0</td>\n",
       "      <td>4.0</td>\n",
       "      <td>6</td>\n",
       "    </tr>\n",
       "    <tr>\n",
       "      <th>2</th>\n",
       "      <td>Jailhouse Rock</td>\n",
       "      <td>Elvis Presley</td>\n",
       "      <td>https://open.spotify.com/track/452KBpASS5lZLeJ...</td>\n",
       "      <td>0.623</td>\n",
       "      <td>0.537</td>\n",
       "      <td>10.0</td>\n",
       "      <td>-10.014</td>\n",
       "      <td>0.0</td>\n",
       "      <td>0.0726</td>\n",
       "      <td>0.3320</td>\n",
       "      <td>0.000014</td>\n",
       "      <td>0.0963</td>\n",
       "      <td>0.905</td>\n",
       "      <td>166.885</td>\n",
       "      <td>audio_features</td>\n",
       "      <td>146933.0</td>\n",
       "      <td>4.0</td>\n",
       "      <td>0</td>\n",
       "    </tr>\n",
       "    <tr>\n",
       "      <th>3</th>\n",
       "      <td>Suspicious Minds</td>\n",
       "      <td>Elvis Presley</td>\n",
       "      <td>https://open.spotify.com/track/1H5IfYyIIAlgDX8...</td>\n",
       "      <td>0.487</td>\n",
       "      <td>0.382</td>\n",
       "      <td>7.0</td>\n",
       "      <td>-10.889</td>\n",
       "      <td>1.0</td>\n",
       "      <td>0.0309</td>\n",
       "      <td>0.0422</td>\n",
       "      <td>0.000005</td>\n",
       "      <td>0.4110</td>\n",
       "      <td>0.714</td>\n",
       "      <td>116.557</td>\n",
       "      <td>audio_features</td>\n",
       "      <td>261280.0</td>\n",
       "      <td>4.0</td>\n",
       "      <td>6</td>\n",
       "    </tr>\n",
       "    <tr>\n",
       "      <th>4</th>\n",
       "      <td>Burning Love</td>\n",
       "      <td>Elvis Presley</td>\n",
       "      <td>https://open.spotify.com/track/7zMUCLm1TN9o9Jl...</td>\n",
       "      <td>0.660</td>\n",
       "      <td>0.748</td>\n",
       "      <td>2.0</td>\n",
       "      <td>-11.206</td>\n",
       "      <td>1.0</td>\n",
       "      <td>0.0284</td>\n",
       "      <td>0.0993</td>\n",
       "      <td>0.005850</td>\n",
       "      <td>0.2830</td>\n",
       "      <td>0.972</td>\n",
       "      <td>143.549</td>\n",
       "      <td>audio_features</td>\n",
       "      <td>170293.0</td>\n",
       "      <td>4.0</td>\n",
       "      <td>3</td>\n",
       "    </tr>\n",
       "  </tbody>\n",
       "</table>\n",
       "</div>"
      ],
      "text/plain": [
       "                        title         artist  \\\n",
       "0  Can't Help Falling in Love  Elvis Presley   \n",
       "1                   Hound Dog  Elvis Presley   \n",
       "2              Jailhouse Rock  Elvis Presley   \n",
       "3            Suspicious Minds  Elvis Presley   \n",
       "4                Burning Love  Elvis Presley   \n",
       "\n",
       "                                                 url  features_danceability  \\\n",
       "0  https://open.spotify.com/track/44AyOl4qVkzS48v...                  0.396   \n",
       "1  https://open.spotify.com/track/64Ny7djQ6rNJspq...                  0.494   \n",
       "2  https://open.spotify.com/track/452KBpASS5lZLeJ...                  0.623   \n",
       "3  https://open.spotify.com/track/1H5IfYyIIAlgDX8...                  0.487   \n",
       "4  https://open.spotify.com/track/7zMUCLm1TN9o9Jl...                  0.660   \n",
       "\n",
       "   features_energy  features_key  features_loudness  features_mode  \\\n",
       "0            0.293           2.0            -14.062            1.0   \n",
       "1            0.756           0.0             -8.492            1.0   \n",
       "2            0.537          10.0            -10.014            0.0   \n",
       "3            0.382           7.0            -10.889            1.0   \n",
       "4            0.748           2.0            -11.206            1.0   \n",
       "\n",
       "   features_speechiness  features_acousticness  features_instrumentalness  \\\n",
       "0                0.0275                 0.9410                   0.000196   \n",
       "1                0.0499                 0.7330                   0.005050   \n",
       "2                0.0726                 0.3320                   0.000014   \n",
       "3                0.0309                 0.0422                   0.000005   \n",
       "4                0.0284                 0.0993                   0.005850   \n",
       "\n",
       "   features_liveness  features_valence  features_tempo   features_type  \\\n",
       "0             0.1050             0.343         100.307  audio_features   \n",
       "1             0.7600             0.949          86.895  audio_features   \n",
       "2             0.0963             0.905         166.885  audio_features   \n",
       "3             0.4110             0.714         116.557  audio_features   \n",
       "4             0.2830             0.972         143.549  audio_features   \n",
       "\n",
       "   features_duration_ms  features_time_signature  clusters  \n",
       "0              182360.0                      3.0         4  \n",
       "1              136027.0                      4.0         6  \n",
       "2              146933.0                      4.0         0  \n",
       "3              261280.0                      4.0         6  \n",
       "4              170293.0                      4.0         3  "
      ]
     },
     "execution_count": 84,
     "metadata": {},
     "output_type": "execute_result"
    }
   ],
   "source": [
    "playlist_clustered = playlist.assign(clusters = clusters)\n",
    "playlist_clustered.head()"
   ]
  },
  {
   "cell_type": "markdown",
   "id": "0dabd2fd",
   "metadata": {},
   "source": [
    "### Part 4: Song Recommender"
   ]
  },
  {
   "cell_type": "code",
   "execution_count": 94,
   "id": "ad40b225",
   "metadata": {},
   "outputs": [
    {
     "name": "stdout",
     "output_type": "stream",
     "text": [
      "Enter a song that you love: my heart will go on\n",
      "Here what I found for you !!!\n",
      "               title          artist  \\\n",
      "1306  Tuesday's Gone  Lynyrd Skynyrd   \n",
      "\n",
      "                                                    url  \n",
      "1306  https://open.spotify.com/track/64sn7wgJfeQKY3J...  \n"
     ]
    }
   ],
   "source": [
    "track = input(\"Enter a song that you love: \")\n",
    "\n",
    "\n",
    "if top_100_songs['title'].str.lower().str.contains(str(track).lower()).any() == True:\n",
    "        print('here what I found for you! ')\n",
    "        print(top_100_songs['title'].sample())\n",
    "else:\n",
    "    # get the track name\n",
    "    results = sp.search(q=\"track:\" + track, type=\"track\")\n",
    "    \n",
    "    # find the song uri with spotipy\n",
    "    song_uri = results['tracks']['items'][0]['uri'].split(':')[2]\n",
    "    \n",
    "    #find song features\n",
    "    song_features = sp.audio_features(song_uri)\n",
    "    \n",
    "    #clean song features\n",
    "    new = pd.DataFrame.from_dict(song_features)\n",
    "    y_pred = new.drop(columns=['type', 'id' , 'uri', 'track_href', 'analysis_url'])\n",
    "    \n",
    "    # scale the data\n",
    "    y_scaled = transformer.transform(y_pred)\n",
    "    y_scaled = pd.DataFrame(y_scaled,columns=y_pred.columns)\n",
    "    \n",
    "    # use the Kmeans created before to predict the cluster for the song\n",
    "    look_for = kmeans.predict(y_scaled)\n",
    "    print('Here what I found for you !!!')\n",
    "    \n",
    "    # choose a random row from the platlist with same cluster\n",
    "    print(playlist_clustered.loc[playlist_clustered.clusters == look_for[0],['title','artist','url']].sample(1))"
   ]
  },
  {
   "cell_type": "code",
   "execution_count": null,
   "id": "636cfb6b",
   "metadata": {},
   "outputs": [],
   "source": []
  }
 ],
 "metadata": {
  "kernelspec": {
   "display_name": "Python 3 (ipykernel)",
   "language": "python",
   "name": "python3"
  },
  "language_info": {
   "codemirror_mode": {
    "name": "ipython",
    "version": 3
   },
   "file_extension": ".py",
   "mimetype": "text/x-python",
   "name": "python",
   "nbconvert_exporter": "python",
   "pygments_lexer": "ipython3",
   "version": "3.9.12"
  }
 },
 "nbformat": 4,
 "nbformat_minor": 5
}
