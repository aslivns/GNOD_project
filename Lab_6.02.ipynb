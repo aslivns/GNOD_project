{
 "cells": [
  {
   "cell_type": "markdown",
   "id": "82587741",
   "metadata": {},
   "source": [
    "Create a Python list with the top ten FBI's Most Wanted names: url = 'https://www.fbi.gov/wanted/topten'"
   ]
  },
  {
   "cell_type": "markdown",
   "id": "8939cf6a",
   "metadata": {},
   "source": [
    "### FBI"
   ]
  },
  {
   "cell_type": "code",
   "execution_count": 1,
   "id": "fc9e675f",
   "metadata": {},
   "outputs": [],
   "source": [
    "from bs4 import BeautifulSoup\n",
    "import requests\n",
    "import pandas as pd"
   ]
  },
  {
   "cell_type": "code",
   "execution_count": 2,
   "id": "ccad6698",
   "metadata": {},
   "outputs": [],
   "source": [
    "url = 'https://www.fbi.gov/wanted/topten'"
   ]
  },
  {
   "cell_type": "code",
   "execution_count": 3,
   "id": "9ce6e9b2",
   "metadata": {},
   "outputs": [
    {
     "data": {
      "text/plain": [
       "200"
      ]
     },
     "execution_count": 3,
     "metadata": {},
     "output_type": "execute_result"
    }
   ],
   "source": [
    "response = requests.get(url)\n",
    "response.status_code # 200 status code means OK!"
   ]
  },
  {
   "cell_type": "code",
   "execution_count": 4,
   "id": "20f602e5",
   "metadata": {},
   "outputs": [],
   "source": [
    "soup = BeautifulSoup(response.content, \"html.parser\")"
   ]
  },
  {
   "cell_type": "code",
   "execution_count": 5,
   "id": "c410f64e",
   "metadata": {},
   "outputs": [
    {
     "data": {
      "text/plain": [
       "[<ul class=\"full-grid wanted-grid-natural infinity castle-grid-block-xs-2 castle-grid-block-sm-2castle-grid-block-md-3 castle-grid-block-lg-5 dt-grid\" style=\"\">\n",
       " <li class=\"portal-type-person castle-grid-block-item\">\n",
       " <a href=\"https://www.fbi.gov/wanted/topten/yulan-adonay-archaga-carias\">\n",
       " <div class=\"focuspoint\" data-base-url=\"https://www.fbi.gov/wanted/topten/yulan-adonay-archaga-carias/@@images/image/\" data-focus-x=\"0.0866666666667\" data-focus-y=\"-0.0993117160853\" data-h=\"692\" data-scale=\"preview\" data-scales-info='{\"preview\": {\"h\": 452, \"w\": 400}, \"high\": {\"h\": 1583, \"w\": 1400}, \"thumb\": {\"h\": 144, \"w\": 128}, \"mini\": {\"h\": 226, \"w\": 200}, \"tile\": {\"h\": 72, \"w\": 64}, \"large\": {\"h\": 868, \"w\": 768}, \"icon\": {\"h\": 36, \"w\": 32}, \"listing\": {\"h\": 18, \"w\": 16}}' data-w=\"612\"><img alt=\"YULAN ADONAY ARCHAGA CARIAS\" class=\"\" src=\"https://www.fbi.gov/wanted/topten/yulan-adonay-archaga-carias/@@images/image/preview\"/></div>\n",
       " </a>\n",
       " <h3 class=\"title\">\n",
       " <a href=\"https://www.fbi.gov/wanted/topten/yulan-adonay-archaga-carias\">YULAN ADONAY ARCHAGA CARIAS</a>\n",
       " </h3>\n",
       " </li>\n",
       " <li class=\"portal-type-person castle-grid-block-item\">\n",
       " <a href=\"https://www.fbi.gov/wanted/topten/bhadreshkumar-chetanbhai-patel\">\n",
       " <div class=\"focuspoint\" data-base-url=\"https://www.fbi.gov/wanted/topten/bhadreshkumar-chetanbhai-patel/@@images/image/\" data-focus-x=\"0.0\" data-focus-y=\"-0.0\" data-h=\"600\" data-scale=\"preview\" data-scales-info='{\"preview\": {\"h\": 533, \"w\": 400}, \"high\": {\"h\": 1866, \"w\": 1400}, \"thumb\": {\"h\": 170, \"w\": 128}, \"mini\": {\"h\": 266, \"w\": 200}, \"tile\": {\"h\": 85, \"w\": 64}, \"large\": {\"h\": 1024, \"w\": 768}, \"icon\": {\"h\": 42, \"w\": 32}, \"listing\": {\"h\": 21, \"w\": 16}}' data-w=\"450\"><img alt=\"BHADRESHKUMAR CHETANBHAI PATEL\" class=\"\" src=\"https://www.fbi.gov/wanted/topten/bhadreshkumar-chetanbhai-patel/@@images/image/preview\"/></div>\n",
       " </a>\n",
       " <h3 class=\"title\">\n",
       " <a href=\"https://www.fbi.gov/wanted/topten/bhadreshkumar-chetanbhai-patel\">BHADRESHKUMAR CHETANBHAI PATEL</a>\n",
       " </h3>\n",
       " </li>\n",
       " <li class=\"portal-type-person castle-grid-block-item\">\n",
       " <a href=\"https://www.fbi.gov/wanted/topten/alejandro-castillo\">\n",
       " <div class=\"focuspoint\" data-base-url=\"https://www.fbi.gov/wanted/topten/alejandro-castillo/@@images/image/\" data-focus-x=\"-0.0322580645161\" data-focus-y=\"-0.144328217008\" data-h=\"692\" data-scale=\"preview\" data-scales-info='{\"preview\": {\"h\": 494, \"w\": 400}, \"high\": {\"h\": 1730, \"w\": 1400}, \"thumb\": {\"h\": 158, \"w\": 128}, \"mini\": {\"h\": 247, \"w\": 200}, \"tile\": {\"h\": 79, \"w\": 64}, \"large\": {\"h\": 949, \"w\": 768}, \"icon\": {\"h\": 39, \"w\": 32}, \"listing\": {\"h\": 19, \"w\": 16}}' data-w=\"560\"><img alt=\"ALEJANDRO ROSALES CASTILLO\" class=\"\" src=\"https://www.fbi.gov/wanted/topten/alejandro-castillo/@@images/image/preview\"/></div>\n",
       " </a>\n",
       " <h3 class=\"title\">\n",
       " <a href=\"https://www.fbi.gov/wanted/topten/alejandro-castillo\">ALEJANDRO ROSALES CASTILLO</a>\n",
       " </h3>\n",
       " </li>\n",
       " <li class=\"portal-type-person castle-grid-block-item\">\n",
       " <a href=\"https://www.fbi.gov/wanted/topten/ruja-ignatova\">\n",
       " <div class=\"focuspoint\" data-base-url=\"https://www.fbi.gov/wanted/topten/ruja-ignatova/@@images/image/\" data-focus-x=\"-0.0933333333333\" data-focus-y=\"-0.0320872369214\" data-h=\"692\" data-scale=\"preview\" data-scales-info='{\"preview\": {\"h\": 428, \"w\": 400}, \"high\": {\"h\": 1499, \"w\": 1400}, \"thumb\": {\"h\": 137, \"w\": 128}, \"mini\": {\"h\": 214, \"w\": 200}, \"tile\": {\"h\": 68, \"w\": 64}, \"large\": {\"h\": 822, \"w\": 768}, \"icon\": {\"h\": 34, \"w\": 32}, \"listing\": {\"h\": 17, \"w\": 16}}' data-w=\"646\"><img alt=\"RUJA IGNATOVA\" class=\"\" src=\"https://www.fbi.gov/wanted/topten/ruja-ignatova/@@images/image/preview\"/></div>\n",
       " </a>\n",
       " <h3 class=\"title\">\n",
       " <a href=\"https://www.fbi.gov/wanted/topten/ruja-ignatova\">RUJA IGNATOVA</a>\n",
       " </h3>\n",
       " </li>\n",
       " <li class=\"portal-type-person castle-grid-block-item\">\n",
       " <a href=\"https://www.fbi.gov/wanted/topten/arnoldo-jimenez\">\n",
       " <div class=\"focuspoint\" data-base-url=\"https://www.fbi.gov/wanted/topten/arnoldo-jimenez/@@images/image/\" data-focus-x=\"-0.123333333333\" data-focus-y=\"0.03466668023\" data-h=\"711\" data-scale=\"preview\" data-scales-info='{\"preview\": {\"h\": 600, \"w\": 400}, \"high\": {\"h\": 2100, \"w\": 1400}, \"thumb\": {\"h\": 191, \"w\": 127}, \"mini\": {\"h\": 300, \"w\": 200}, \"tile\": {\"h\": 95, \"w\": 63}, \"large\": {\"h\": 1152, \"w\": 768}, \"icon\": {\"h\": 47, \"w\": 31}, \"listing\": {\"h\": 23, \"w\": 15}}' data-w=\"474\"><img alt=\"ARNOLDO JIMENEZ\" class=\"\" src=\"https://www.fbi.gov/wanted/topten/arnoldo-jimenez/@@images/image/preview\"/></div>\n",
       " </a>\n",
       " <h3 class=\"title\">\n",
       " <a href=\"https://www.fbi.gov/wanted/topten/arnoldo-jimenez\">ARNOLDO JIMENEZ</a>\n",
       " </h3>\n",
       " </li>\n",
       " <li class=\"portal-type-person castle-grid-block-item\">\n",
       " <a href=\"https://www.fbi.gov/wanted/topten/omar-alexander-cardenas\">\n",
       " <div class=\"focuspoint\" data-base-url=\"https://www.fbi.gov/wanted/topten/omar-alexander-cardenas/@@images/image/\" data-focus-x=\"-0.0266666666667\" data-focus-y=\"-0.0495260518874\" data-h=\"692\" data-scale=\"preview\" data-scales-info='{\"preview\": {\"h\": 562, \"w\": 400}, \"high\": {\"h\": 1969, \"w\": 1400}, \"thumb\": {\"h\": 180, \"w\": 128}, \"mini\": {\"h\": 281, \"w\": 200}, \"tile\": {\"h\": 90, \"w\": 64}, \"large\": {\"h\": 1080, \"w\": 768}, \"icon\": {\"h\": 45, \"w\": 32}, \"listing\": {\"h\": 22, \"w\": 16}}' data-w=\"492\"><img alt=\"OMAR ALEXANDER CARDENAS\" class=\"\" src=\"https://www.fbi.gov/wanted/topten/omar-alexander-cardenas/@@images/image/preview\"/></div>\n",
       " </a>\n",
       " <h3 class=\"title\">\n",
       " <a href=\"https://www.fbi.gov/wanted/topten/omar-alexander-cardenas\">OMAR ALEXANDER CARDENAS</a>\n",
       " </h3>\n",
       " </li>\n",
       " <li class=\"portal-type-person castle-grid-block-item\">\n",
       " <a href=\"https://www.fbi.gov/wanted/topten/alexis-flores\">\n",
       " <div class=\"focuspoint\" data-base-url=\"https://www.fbi.gov/wanted/topten/alexis-flores/@@images/image/\" data-focus-x=\"-0.0563106796117\" data-focus-y=\"0.0262599349711\" data-h=\"692\" data-scale=\"preview\" data-scales-info='{\"preview\": {\"h\": 537, \"w\": 400}, \"high\": {\"h\": 1881, \"w\": 1400}, \"thumb\": {\"h\": 171, \"w\": 128}, \"mini\": {\"h\": 268, \"w\": 200}, \"tile\": {\"h\": 85, \"w\": 64}, \"large\": {\"h\": 1031, \"w\": 768}, \"icon\": {\"h\": 42, \"w\": 32}, \"listing\": {\"h\": 21, \"w\": 16}}' data-w=\"515\"><img alt=\"ALEXIS FLORES\" class=\"\" src=\"https://www.fbi.gov/wanted/topten/alexis-flores/@@images/image/preview\"/></div>\n",
       " </a>\n",
       " <h3 class=\"title\">\n",
       " <a href=\"https://www.fbi.gov/wanted/topten/alexis-flores\">ALEXIS FLORES</a>\n",
       " </h3>\n",
       " </li>\n",
       " <li class=\"portal-type-person castle-grid-block-item\">\n",
       " <a href=\"https://www.fbi.gov/wanted/topten/jose-rodolfo-villarreal-hernandez\">\n",
       " <div class=\"focuspoint\" data-base-url=\"https://www.fbi.gov/wanted/topten/jose-rodolfo-villarreal-hernandez/@@images/image/\" data-focus-x=\"0.0\" data-focus-y=\"-0.0\" data-h=\"692\" data-scale=\"preview\" data-scales-info='{\"preview\": {\"h\": 532, \"w\": 400}, \"high\": {\"h\": 1863, \"w\": 1400}, \"thumb\": {\"h\": 170, \"w\": 128}, \"mini\": {\"h\": 266, \"w\": 200}, \"tile\": {\"h\": 85, \"w\": 64}, \"large\": {\"h\": 1022, \"w\": 768}, \"icon\": {\"h\": 42, \"w\": 32}, \"listing\": {\"h\": 21, \"w\": 16}}' data-w=\"520\"><img alt=\"JOSE RODOLFO VILLARREAL-HERNANDEZ\" class=\"\" src=\"https://www.fbi.gov/wanted/topten/jose-rodolfo-villarreal-hernandez/@@images/image/preview\"/></div>\n",
       " </a>\n",
       " <h3 class=\"title\">\n",
       " <a href=\"https://www.fbi.gov/wanted/topten/jose-rodolfo-villarreal-hernandez\">JOSE RODOLFO VILLARREAL-HERNANDEZ</a>\n",
       " </h3>\n",
       " </li>\n",
       " <li class=\"portal-type-person castle-grid-block-item\">\n",
       " <a href=\"https://www.fbi.gov/wanted/topten/michael-james-pratt\">\n",
       " <div class=\"focuspoint\" data-base-url=\"https://www.fbi.gov/wanted/topten/michael-james-pratt/@@images/image/\" data-focus-x=\"-0.0466666666667\" data-focus-y=\"-0.099999988202\" data-h=\"692\" data-scale=\"preview\" data-scales-info='{\"preview\": {\"h\": 517, \"w\": 400}, \"high\": {\"h\": 1810, \"w\": 1400}, \"thumb\": {\"h\": 165, \"w\": 128}, \"mini\": {\"h\": 258, \"w\": 200}, \"tile\": {\"h\": 82, \"w\": 64}, \"large\": {\"h\": 993, \"w\": 767}, \"icon\": {\"h\": 41, \"w\": 32}, \"listing\": {\"h\": 20, \"w\": 16}}' data-w=\"535\"><img alt=\"MICHAEL JAMES PRATT\" class=\"\" src=\"https://www.fbi.gov/wanted/topten/michael-james-pratt/@@images/image/preview\"/></div>\n",
       " </a>\n",
       " <h3 class=\"title\">\n",
       " <a href=\"https://www.fbi.gov/wanted/topten/michael-james-pratt\">MICHAEL JAMES PRATT</a>\n",
       " </h3>\n",
       " </li>\n",
       " <li class=\"portal-type-person castle-grid-block-item\">\n",
       " <a href=\"https://www.fbi.gov/wanted/topten/rafael-caro-quintero\">\n",
       " <div class=\"focuspoint\" data-base-url=\"https://www.fbi.gov/wanted/topten/rafael-caro-quintero/@@images/image/\" data-focus-x=\"0.2\" data-focus-y=\"-0.103592081851\" data-h=\"692\" data-scale=\"preview\" data-scales-info='{\"preview\": {\"h\": 375, \"w\": 399}, \"high\": {\"h\": 1312, \"w\": 1400}, \"thumb\": {\"h\": 120, \"w\": 128}, \"mini\": {\"h\": 187, \"w\": 199}, \"tile\": {\"h\": 60, \"w\": 64}, \"large\": {\"h\": 720, \"w\": 768}, \"icon\": {\"h\": 30, \"w\": 32}, \"listing\": {\"h\": 15, \"w\": 16}}' data-w=\"738\"><img alt=\"RAFAEL CARO-QUINTERO\" class=\"\" src=\"https://www.fbi.gov/wanted/topten/rafael-caro-quintero/@@images/image/preview\"/></div>\n",
       " </a>\n",
       " <h3 class=\"title\">\n",
       " <a href=\"https://www.fbi.gov/wanted/topten/rafael-caro-quintero\">RAFAEL CARO-QUINTERO</a>\n",
       " </h3>\n",
       " </li>\n",
       " </ul>]"
      ]
     },
     "execution_count": 5,
     "metadata": {},
     "output_type": "execute_result"
    }
   ],
   "source": [
    "soup.select('#query-results-0f737222c5054a81a120bce207b0446a > ul')"
   ]
  },
  {
   "cell_type": "code",
   "execution_count": 16,
   "id": "d28aac67",
   "metadata": {},
   "outputs": [
    {
     "data": {
      "text/plain": [
       "[<a href=\"https://www.fbi.gov/wanted/topten/yulan-adonay-archaga-carias\">YULAN ADONAY ARCHAGA CARIAS</a>,\n",
       " <a href=\"https://www.fbi.gov/wanted/topten/bhadreshkumar-chetanbhai-patel\">BHADRESHKUMAR CHETANBHAI PATEL</a>,\n",
       " <a href=\"https://www.fbi.gov/wanted/topten/alejandro-castillo\">ALEJANDRO ROSALES CASTILLO</a>,\n",
       " <a href=\"https://www.fbi.gov/wanted/topten/ruja-ignatova\">RUJA IGNATOVA</a>,\n",
       " <a href=\"https://www.fbi.gov/wanted/topten/arnoldo-jimenez\">ARNOLDO JIMENEZ</a>,\n",
       " <a href=\"https://www.fbi.gov/wanted/topten/omar-alexander-cardenas\">OMAR ALEXANDER CARDENAS</a>,\n",
       " <a href=\"https://www.fbi.gov/wanted/topten/alexis-flores\">ALEXIS FLORES</a>,\n",
       " <a href=\"https://www.fbi.gov/wanted/topten/jose-rodolfo-villarreal-hernandez\">JOSE RODOLFO VILLARREAL-HERNANDEZ</a>,\n",
       " <a href=\"https://www.fbi.gov/wanted/topten/michael-james-pratt\">MICHAEL JAMES PRATT</a>,\n",
       " <a href=\"https://www.fbi.gov/wanted/topten/rafael-caro-quintero\">RAFAEL CARO-QUINTERO</a>]"
      ]
     },
     "execution_count": 16,
     "metadata": {},
     "output_type": "execute_result"
    }
   ],
   "source": [
    "soup.select(\"h3 > a\")"
   ]
  },
  {
   "cell_type": "code",
   "execution_count": 17,
   "id": "eaec3a24",
   "metadata": {},
   "outputs": [],
   "source": [
    "names = []\n",
    "\n",
    "num_iter = len(soup.select(\"h3 > a\"))\n",
    "\n",
    "names_list = soup.select(\"h3 > a\")\n",
    "\n",
    "for i in range(num_iter):\n",
    "    names.append(names_list[i].get_text())"
   ]
  },
  {
   "cell_type": "code",
   "execution_count": 19,
   "id": "a25bbd11",
   "metadata": {},
   "outputs": [],
   "source": [
    "top_10_wanted = pd.DataFrame({'names':names})"
   ]
  },
  {
   "cell_type": "code",
   "execution_count": 20,
   "id": "42156b2a",
   "metadata": {},
   "outputs": [
    {
     "data": {
      "text/html": [
       "<div>\n",
       "<style scoped>\n",
       "    .dataframe tbody tr th:only-of-type {\n",
       "        vertical-align: middle;\n",
       "    }\n",
       "\n",
       "    .dataframe tbody tr th {\n",
       "        vertical-align: top;\n",
       "    }\n",
       "\n",
       "    .dataframe thead th {\n",
       "        text-align: right;\n",
       "    }\n",
       "</style>\n",
       "<table border=\"1\" class=\"dataframe\">\n",
       "  <thead>\n",
       "    <tr style=\"text-align: right;\">\n",
       "      <th></th>\n",
       "      <th>names</th>\n",
       "    </tr>\n",
       "  </thead>\n",
       "  <tbody>\n",
       "    <tr>\n",
       "      <th>0</th>\n",
       "      <td>YULAN ADONAY ARCHAGA CARIAS</td>\n",
       "    </tr>\n",
       "    <tr>\n",
       "      <th>1</th>\n",
       "      <td>BHADRESHKUMAR CHETANBHAI PATEL</td>\n",
       "    </tr>\n",
       "    <tr>\n",
       "      <th>2</th>\n",
       "      <td>ALEJANDRO ROSALES CASTILLO</td>\n",
       "    </tr>\n",
       "    <tr>\n",
       "      <th>3</th>\n",
       "      <td>RUJA IGNATOVA</td>\n",
       "    </tr>\n",
       "    <tr>\n",
       "      <th>4</th>\n",
       "      <td>ARNOLDO JIMENEZ</td>\n",
       "    </tr>\n",
       "    <tr>\n",
       "      <th>5</th>\n",
       "      <td>OMAR ALEXANDER CARDENAS</td>\n",
       "    </tr>\n",
       "    <tr>\n",
       "      <th>6</th>\n",
       "      <td>ALEXIS FLORES</td>\n",
       "    </tr>\n",
       "    <tr>\n",
       "      <th>7</th>\n",
       "      <td>JOSE RODOLFO VILLARREAL-HERNANDEZ</td>\n",
       "    </tr>\n",
       "    <tr>\n",
       "      <th>8</th>\n",
       "      <td>MICHAEL JAMES PRATT</td>\n",
       "    </tr>\n",
       "    <tr>\n",
       "      <th>9</th>\n",
       "      <td>RAFAEL CARO-QUINTERO</td>\n",
       "    </tr>\n",
       "  </tbody>\n",
       "</table>\n",
       "</div>"
      ],
      "text/plain": [
       "                               names\n",
       "0        YULAN ADONAY ARCHAGA CARIAS\n",
       "1     BHADRESHKUMAR CHETANBHAI PATEL\n",
       "2         ALEJANDRO ROSALES CASTILLO\n",
       "3                      RUJA IGNATOVA\n",
       "4                    ARNOLDO JIMENEZ\n",
       "5            OMAR ALEXANDER CARDENAS\n",
       "6                      ALEXIS FLORES\n",
       "7  JOSE RODOLFO VILLARREAL-HERNANDEZ\n",
       "8                MICHAEL JAMES PRATT\n",
       "9               RAFAEL CARO-QUINTERO"
      ]
     },
     "execution_count": 20,
     "metadata": {},
     "output_type": "execute_result"
    }
   ],
   "source": [
    "top_10_wanted.head(10)"
   ]
  },
  {
   "cell_type": "markdown",
   "id": "373858fd",
   "metadata": {},
   "source": []
  }
 ],
 "metadata": {
  "kernelspec": {
   "display_name": "Python 3 (ipykernel)",
   "language": "python",
   "name": "python3"
  },
  "language_info": {
   "codemirror_mode": {
    "name": "ipython",
    "version": 3
   },
   "file_extension": ".py",
   "mimetype": "text/x-python",
   "name": "python",
   "nbconvert_exporter": "python",
   "pygments_lexer": "ipython3",
   "version": "3.9.12"
  }
 },
 "nbformat": 4,
 "nbformat_minor": 5
}
