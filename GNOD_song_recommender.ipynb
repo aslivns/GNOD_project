{
 "cells": [
  {
   "cell_type": "markdown",
   "id": "9c0047e5",
   "metadata": {},
   "source": [
    "#### Importing libraries"
   ]
  },
  {
   "cell_type": "code",
   "execution_count": 1,
   "id": "14158b7b",
   "metadata": {},
   "outputs": [],
   "source": [
    "import requests\n",
    "import pandas as pd\n",
    "import numpy as np\n",
    "import pickle"
   ]
  },
  {
   "cell_type": "markdown",
   "id": "2743a34a",
   "metadata": {},
   "source": [
    "#### getting my playlists"
   ]
  },
  {
   "cell_type": "code",
   "execution_count": 2,
   "id": "3c9f98cb",
   "metadata": {},
   "outputs": [],
   "source": [
    "top_100_songs = pd.read_csv('top_100_songs.csv')\n",
    "playlist_8_cluster = pd.read_csv('playlist_8_cluster.csv')"
   ]
  },
  {
   "cell_type": "markdown",
   "id": "171df5eb",
   "metadata": {},
   "source": [
    "#### connect to spotify"
   ]
  },
  {
   "cell_type": "code",
   "execution_count": 63,
   "id": "2b3ecf86",
   "metadata": {},
   "outputs": [],
   "source": [
    "import spotipy\n",
    "import json\n",
    "from spotipy.oauth2 import SpotifyClientCredentials"
   ]
  },
  {
   "cell_type": "code",
   "execution_count": 64,
   "id": "ee743da7",
   "metadata": {},
   "outputs": [],
   "source": [
    "secrets_file = open(\"../secrets.txt\",\"r\")"
   ]
  },
  {
   "cell_type": "code",
   "execution_count": 65,
   "id": "26180f6b",
   "metadata": {},
   "outputs": [],
   "source": [
    "string = secrets_file.read()"
   ]
  },
  {
   "cell_type": "code",
   "execution_count": 66,
   "id": "627cffcc",
   "metadata": {},
   "outputs": [
    {
     "data": {
      "text/plain": [
       "['clientid:e9c8174323214a1d84247cc1e2018d9d',\n",
       " 'clientsecret:11813fb826984d6ab23b42023d4a5b28']"
      ]
     },
     "execution_count": 66,
     "metadata": {},
     "output_type": "execute_result"
    }
   ],
   "source": [
    "string.split('\\n')"
   ]
  },
  {
   "cell_type": "code",
   "execution_count": 67,
   "id": "7e37bdce",
   "metadata": {},
   "outputs": [],
   "source": [
    "secrets_dict={}\n",
    "for line in string.split('\\n'):\n",
    "    if len(line) > 0:\n",
    "        secrets_dict[line.split(':')[0]]=line.split(':')[1].strip()"
   ]
  },
  {
   "cell_type": "code",
   "execution_count": 68,
   "id": "b5d46090",
   "metadata": {},
   "outputs": [],
   "source": [
    "import spotipy\n",
    "from spotipy.oauth2 import SpotifyClientCredentials\n",
    "\n",
    "#Initialize SpotiPy with user credentials\n",
    "sp = spotipy.Spotify(auth_manager=SpotifyClientCredentials(client_id=secrets_dict['clientid'],\n",
    "                                                           client_secret=secrets_dict['clientsecret']))"
   ]
  },
  {
   "cell_type": "markdown",
   "id": "2f05f273",
   "metadata": {},
   "source": [
    "### create a sample recommender"
   ]
  },
  {
   "cell_type": "code",
   "execution_count": 69,
   "id": "d85d84c6",
   "metadata": {},
   "outputs": [
    {
     "name": "stdout",
     "output_type": "stream",
     "text": [
      "Enter a song that you love: simarik\n"
     ]
    }
   ],
   "source": [
    "track = input(\"Enter a song that you love: \")"
   ]
  },
  {
   "cell_type": "code",
   "execution_count": 70,
   "id": "b0d52883",
   "metadata": {},
   "outputs": [
    {
     "name": "stdout",
     "output_type": "stream",
     "text": [
      "continue below !!!\n"
     ]
    }
   ],
   "source": [
    "if top_100_songs['title'].str.lower().str.contains(str(track).lower()).any() == True:\n",
    "        print('here what I found for you! ')\n",
    "        print(top_100_songs['title'].sample())\n",
    "else:\n",
    "        print('continue below !!!')"
   ]
  },
  {
   "cell_type": "markdown",
   "id": "654c9009",
   "metadata": {},
   "source": [
    "### improve the simple recommender"
   ]
  },
  {
   "cell_type": "markdown",
   "id": "f818920c",
   "metadata": {},
   "source": [
    "### searching the track"
   ]
  },
  {
   "cell_type": "code",
   "execution_count": 71,
   "id": "576e5026",
   "metadata": {},
   "outputs": [],
   "source": [
    "results = sp.search(q=\"track:\" + track, type=\"track\")"
   ]
  },
  {
   "cell_type": "code",
   "execution_count": 72,
   "id": "d64b3a01",
   "metadata": {},
   "outputs": [
    {
     "data": {
      "text/plain": [
       "'6vEL7E8TGzrxuxbrgdlkLL'"
      ]
     },
     "execution_count": 72,
     "metadata": {},
     "output_type": "execute_result"
    }
   ],
   "source": [
    "song_uri = results['tracks']['items'][0]['uri'].split(':')[2]\n",
    "song_uri"
   ]
  },
  {
   "cell_type": "code",
   "execution_count": 73,
   "id": "53897e45",
   "metadata": {},
   "outputs": [
    {
     "data": {
      "text/plain": [
       "[{'danceability': 0.775,\n",
       "  'energy': 0.818,\n",
       "  'key': 7,\n",
       "  'loudness': -8.687,\n",
       "  'mode': 1,\n",
       "  'speechiness': 0.164,\n",
       "  'acousticness': 0.0518,\n",
       "  'instrumentalness': 0,\n",
       "  'liveness': 0.114,\n",
       "  'valence': 0.826,\n",
       "  'tempo': 97.06,\n",
       "  'type': 'audio_features',\n",
       "  'id': '6vEL7E8TGzrxuxbrgdlkLL',\n",
       "  'uri': 'spotify:track:6vEL7E8TGzrxuxbrgdlkLL',\n",
       "  'track_href': 'https://api.spotify.com/v1/tracks/6vEL7E8TGzrxuxbrgdlkLL',\n",
       "  'analysis_url': 'https://api.spotify.com/v1/audio-analysis/6vEL7E8TGzrxuxbrgdlkLL',\n",
       "  'duration_ms': 235218,\n",
       "  'time_signature': 3}]"
      ]
     },
     "execution_count": 73,
     "metadata": {},
     "output_type": "execute_result"
    }
   ],
   "source": [
    "# get the audio features for that song\n",
    "song_features = sp.audio_features(song_uri)\n",
    "song_features"
   ]
  },
  {
   "cell_type": "code",
   "execution_count": 74,
   "id": "f8484387",
   "metadata": {},
   "outputs": [],
   "source": [
    "new = pd.DataFrame.from_dict(song_features)"
   ]
  },
  {
   "cell_type": "code",
   "execution_count": 75,
   "id": "3ada32eb",
   "metadata": {},
   "outputs": [
    {
     "data": {
      "text/html": [
       "<div>\n",
       "<style scoped>\n",
       "    .dataframe tbody tr th:only-of-type {\n",
       "        vertical-align: middle;\n",
       "    }\n",
       "\n",
       "    .dataframe tbody tr th {\n",
       "        vertical-align: top;\n",
       "    }\n",
       "\n",
       "    .dataframe thead th {\n",
       "        text-align: right;\n",
       "    }\n",
       "</style>\n",
       "<table border=\"1\" class=\"dataframe\">\n",
       "  <thead>\n",
       "    <tr style=\"text-align: right;\">\n",
       "      <th></th>\n",
       "      <th>danceability</th>\n",
       "      <th>energy</th>\n",
       "      <th>key</th>\n",
       "      <th>loudness</th>\n",
       "      <th>mode</th>\n",
       "      <th>speechiness</th>\n",
       "      <th>acousticness</th>\n",
       "      <th>instrumentalness</th>\n",
       "      <th>liveness</th>\n",
       "      <th>valence</th>\n",
       "      <th>tempo</th>\n",
       "      <th>duration_ms</th>\n",
       "      <th>time_signature</th>\n",
       "    </tr>\n",
       "  </thead>\n",
       "  <tbody>\n",
       "    <tr>\n",
       "      <th>0</th>\n",
       "      <td>0.775</td>\n",
       "      <td>0.818</td>\n",
       "      <td>7</td>\n",
       "      <td>-8.687</td>\n",
       "      <td>1</td>\n",
       "      <td>0.164</td>\n",
       "      <td>0.0518</td>\n",
       "      <td>0</td>\n",
       "      <td>0.114</td>\n",
       "      <td>0.826</td>\n",
       "      <td>97.06</td>\n",
       "      <td>235218</td>\n",
       "      <td>3</td>\n",
       "    </tr>\n",
       "  </tbody>\n",
       "</table>\n",
       "</div>"
      ],
      "text/plain": [
       "   danceability  energy  key  loudness  mode  speechiness  acousticness  \\\n",
       "0         0.775   0.818    7    -8.687     1        0.164        0.0518   \n",
       "\n",
       "   instrumentalness  liveness  valence  tempo  duration_ms  time_signature  \n",
       "0                 0     0.114    0.826  97.06       235218               3  "
      ]
     },
     "execution_count": 75,
     "metadata": {},
     "output_type": "execute_result"
    }
   ],
   "source": [
    "y_pred = new.drop(columns=['type', 'id' , 'uri', 'track_href', 'analysis_url'])\n",
    "y_pred"
   ]
  },
  {
   "cell_type": "code",
   "execution_count": 76,
   "id": "4dc68da4",
   "metadata": {},
   "outputs": [],
   "source": [
    "### SCALING???"
   ]
  },
  {
   "cell_type": "code",
   "execution_count": 77,
   "id": "8e10bb89",
   "metadata": {},
   "outputs": [],
   "source": [
    "# from sklearn.preprocessing import StandardScaler\n",
    "# target = StandardScaler().fit_transform(y_pred)\n",
    "\n",
    "# # Now, all features will have the same weight.\n",
    "# pd.DataFrame(target,columns=y_pred.columns).head()"
   ]
  },
  {
   "cell_type": "markdown",
   "id": "a36d9847",
   "metadata": {},
   "source": [
    "#### predict the song cluster"
   ]
  },
  {
   "cell_type": "code",
   "execution_count": 78,
   "id": "f4721d8f",
   "metadata": {},
   "outputs": [],
   "source": [
    "kmeans = pickle.load(open('kmeans_8_cluster.p', 'rb'))"
   ]
  },
  {
   "cell_type": "code",
   "execution_count": 79,
   "id": "40689cb6",
   "metadata": {},
   "outputs": [],
   "source": [
    "look_for = kmeans.predict(y_pred)"
   ]
  },
  {
   "cell_type": "code",
   "execution_count": 80,
   "id": "84895b1a",
   "metadata": {},
   "outputs": [
    {
     "data": {
      "text/plain": [
       "array([2])"
      ]
     },
     "execution_count": 80,
     "metadata": {},
     "output_type": "execute_result"
    }
   ],
   "source": [
    "look_for"
   ]
  },
  {
   "cell_type": "code",
   "execution_count": 81,
   "id": "3abcd9b1",
   "metadata": {},
   "outputs": [
    {
     "data": {
      "text/html": [
       "<div>\n",
       "<style scoped>\n",
       "    .dataframe tbody tr th:only-of-type {\n",
       "        vertical-align: middle;\n",
       "    }\n",
       "\n",
       "    .dataframe tbody tr th {\n",
       "        vertical-align: top;\n",
       "    }\n",
       "\n",
       "    .dataframe thead th {\n",
       "        text-align: right;\n",
       "    }\n",
       "</style>\n",
       "<table border=\"1\" class=\"dataframe\">\n",
       "  <thead>\n",
       "    <tr style=\"text-align: right;\">\n",
       "      <th></th>\n",
       "      <th>title</th>\n",
       "      <th>artist</th>\n",
       "      <th>url</th>\n",
       "      <th>danceability</th>\n",
       "      <th>energy</th>\n",
       "      <th>key</th>\n",
       "      <th>loudness</th>\n",
       "      <th>mode</th>\n",
       "      <th>speechiness</th>\n",
       "      <th>acousticness</th>\n",
       "      <th>...</th>\n",
       "      <th>liveness</th>\n",
       "      <th>valence</th>\n",
       "      <th>tempo</th>\n",
       "      <th>id</th>\n",
       "      <th>uri</th>\n",
       "      <th>track_href</th>\n",
       "      <th>analysis_url</th>\n",
       "      <th>duration_ms</th>\n",
       "      <th>time_signature</th>\n",
       "      <th>clusters</th>\n",
       "    </tr>\n",
       "  </thead>\n",
       "  <tbody>\n",
       "    <tr>\n",
       "      <th>3835</th>\n",
       "      <td>Crank That (Soulja Boy) [Travis Barker Remix]</td>\n",
       "      <td>Soulja Boy</td>\n",
       "      <td>https://open.spotify.com/track/5WeiB5JDBy6T5QQ...</td>\n",
       "      <td>0.671</td>\n",
       "      <td>0.531</td>\n",
       "      <td>8.0</td>\n",
       "      <td>-5.551</td>\n",
       "      <td>1.0</td>\n",
       "      <td>0.0467</td>\n",
       "      <td>0.0307</td>\n",
       "      <td>...</td>\n",
       "      <td>0.365</td>\n",
       "      <td>0.28</td>\n",
       "      <td>140.013</td>\n",
       "      <td>5WeiB5JDBy6T5QQxtj09zb</td>\n",
       "      <td>spotify:track:5WeiB5JDBy6T5QQxtj09zb</td>\n",
       "      <td>https://api.spotify.com/v1/tracks/5WeiB5JDBy6T...</td>\n",
       "      <td>https://api.spotify.com/v1/audio-analysis/5Wei...</td>\n",
       "      <td>247013.0</td>\n",
       "      <td>4.0</td>\n",
       "      <td>2</td>\n",
       "    </tr>\n",
       "  </tbody>\n",
       "</table>\n",
       "<p>1 rows × 21 columns</p>\n",
       "</div>"
      ],
      "text/plain": [
       "                                              title      artist  \\\n",
       "3835  Crank That (Soulja Boy) [Travis Barker Remix]  Soulja Boy   \n",
       "\n",
       "                                                    url  danceability  energy  \\\n",
       "3835  https://open.spotify.com/track/5WeiB5JDBy6T5QQ...         0.671   0.531   \n",
       "\n",
       "      key  loudness  mode  speechiness  acousticness  ...  liveness  valence  \\\n",
       "3835  8.0    -5.551   1.0       0.0467        0.0307  ...     0.365     0.28   \n",
       "\n",
       "        tempo                      id                                   uri  \\\n",
       "3835  140.013  5WeiB5JDBy6T5QQxtj09zb  spotify:track:5WeiB5JDBy6T5QQxtj09zb   \n",
       "\n",
       "                                             track_href  \\\n",
       "3835  https://api.spotify.com/v1/tracks/5WeiB5JDBy6T...   \n",
       "\n",
       "                                           analysis_url duration_ms  \\\n",
       "3835  https://api.spotify.com/v1/audio-analysis/5Wei...    247013.0   \n",
       "\n",
       "      time_signature  clusters  \n",
       "3835             4.0         2  \n",
       "\n",
       "[1 rows x 21 columns]"
      ]
     },
     "metadata": {},
     "output_type": "display_data"
    }
   ],
   "source": [
    "display(playlist_8_cluster.loc[playlist_8_cluster.clusters == look_for[0]].sample(1))"
   ]
  },
  {
   "cell_type": "code",
   "execution_count": null,
   "id": "0fc2c57d",
   "metadata": {},
   "outputs": [],
   "source": []
  },
  {
   "cell_type": "code",
   "execution_count": null,
   "id": "b260ce77",
   "metadata": {},
   "outputs": [],
   "source": []
  }
 ],
 "metadata": {
  "kernelspec": {
   "display_name": "Python 3 (ipykernel)",
   "language": "python",
   "name": "python3"
  },
  "language_info": {
   "codemirror_mode": {
    "name": "ipython",
    "version": 3
   },
   "file_extension": ".py",
   "mimetype": "text/x-python",
   "name": "python",
   "nbconvert_exporter": "python",
   "pygments_lexer": "ipython3",
   "version": "3.9.12"
  }
 },
 "nbformat": 4,
 "nbformat_minor": 5
}
