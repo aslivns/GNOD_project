{
 "cells": [
  {
   "cell_type": "markdown",
   "id": "9c0047e5",
   "metadata": {},
   "source": [
    "#### Importing libraries"
   ]
  },
  {
   "cell_type": "code",
   "execution_count": 1,
   "id": "14158b7b",
   "metadata": {},
   "outputs": [],
   "source": [
    "import requests\n",
    "import pandas as pd\n",
    "import numpy as np"
   ]
  },
  {
   "cell_type": "markdown",
   "id": "a7855b72",
   "metadata": {},
   "source": [
    "#### getting my playlists"
   ]
  },
  {
   "cell_type": "code",
   "execution_count": 2,
   "id": "ab3f0014",
   "metadata": {},
   "outputs": [],
   "source": [
    "top_100_songs = pd.read_csv('top_100_songs.csv')"
   ]
  },
  {
   "cell_type": "code",
   "execution_count": 3,
   "id": "ef92d442",
   "metadata": {},
   "outputs": [
    {
     "data": {
      "text/html": [
       "<div>\n",
       "<style scoped>\n",
       "    .dataframe tbody tr th:only-of-type {\n",
       "        vertical-align: middle;\n",
       "    }\n",
       "\n",
       "    .dataframe tbody tr th {\n",
       "        vertical-align: top;\n",
       "    }\n",
       "\n",
       "    .dataframe thead th {\n",
       "        text-align: right;\n",
       "    }\n",
       "</style>\n",
       "<table border=\"1\" class=\"dataframe\">\n",
       "  <thead>\n",
       "    <tr style=\"text-align: right;\">\n",
       "      <th></th>\n",
       "      <th>title</th>\n",
       "      <th>artist</th>\n",
       "    </tr>\n",
       "  </thead>\n",
       "  <tbody>\n",
       "    <tr>\n",
       "      <th>0</th>\n",
       "      <td>flowers</td>\n",
       "      <td>miley cyrus</td>\n",
       "    </tr>\n",
       "    <tr>\n",
       "      <th>1</th>\n",
       "      <td>vibe (feat. jimin of bts)</td>\n",
       "      <td>taeyang</td>\n",
       "    </tr>\n",
       "    <tr>\n",
       "      <th>2</th>\n",
       "      <td>shakira: bzrp music sessions, vol. 53</td>\n",
       "      <td>bizarrap &amp; shakira</td>\n",
       "    </tr>\n",
       "    <tr>\n",
       "      <th>3</th>\n",
       "      <td>anti-hero</td>\n",
       "      <td>taylor swift</td>\n",
       "    </tr>\n",
       "    <tr>\n",
       "      <th>4</th>\n",
       "      <td>unholy</td>\n",
       "      <td>sam smith &amp; kim petras</td>\n",
       "    </tr>\n",
       "  </tbody>\n",
       "</table>\n",
       "</div>"
      ],
      "text/plain": [
       "                                   title                  artist\n",
       "0                                flowers             miley cyrus\n",
       "1              vibe (feat. jimin of bts)                 taeyang\n",
       "2  shakira: bzrp music sessions, vol. 53      bizarrap & shakira\n",
       "3                              anti-hero            taylor swift\n",
       "4                                 unholy  sam smith & kim petras"
      ]
     },
     "execution_count": 3,
     "metadata": {},
     "output_type": "execute_result"
    }
   ],
   "source": [
    "top_100_songs.head()"
   ]
  },
  {
   "cell_type": "code",
   "execution_count": 4,
   "id": "cd32b976",
   "metadata": {},
   "outputs": [],
   "source": [
    "playlist_8_cluster = pd.read_csv('playlist_8_cluster.csv')\n",
    "# playlist_8_cluster['artist'] = playlist_8_cluster['artist'].str.lower()\n",
    "# playlist_8_cluster['title'] = playlist_8_cluster['title'].str.lower()"
   ]
  },
  {
   "cell_type": "code",
   "execution_count": 6,
   "id": "529921cb",
   "metadata": {},
   "outputs": [
    {
     "data": {
      "text/html": [
       "<div>\n",
       "<style scoped>\n",
       "    .dataframe tbody tr th:only-of-type {\n",
       "        vertical-align: middle;\n",
       "    }\n",
       "\n",
       "    .dataframe tbody tr th {\n",
       "        vertical-align: top;\n",
       "    }\n",
       "\n",
       "    .dataframe thead th {\n",
       "        text-align: right;\n",
       "    }\n",
       "</style>\n",
       "<table border=\"1\" class=\"dataframe\">\n",
       "  <thead>\n",
       "    <tr style=\"text-align: right;\">\n",
       "      <th></th>\n",
       "      <th>title</th>\n",
       "      <th>artist</th>\n",
       "      <th>url</th>\n",
       "      <th>danceability</th>\n",
       "      <th>energy</th>\n",
       "      <th>key</th>\n",
       "      <th>loudness</th>\n",
       "      <th>mode</th>\n",
       "      <th>speechiness</th>\n",
       "      <th>acousticness</th>\n",
       "      <th>...</th>\n",
       "      <th>liveness</th>\n",
       "      <th>valence</th>\n",
       "      <th>tempo</th>\n",
       "      <th>id</th>\n",
       "      <th>uri</th>\n",
       "      <th>track_href</th>\n",
       "      <th>analysis_url</th>\n",
       "      <th>duration_ms</th>\n",
       "      <th>time_signature</th>\n",
       "      <th>clusters</th>\n",
       "    </tr>\n",
       "  </thead>\n",
       "  <tbody>\n",
       "    <tr>\n",
       "      <th>0</th>\n",
       "      <td>Blue Christmas</td>\n",
       "      <td>Elvis Presley</td>\n",
       "      <td>https://open.spotify.com/track/3QiAAp20rPC3dcA...</td>\n",
       "      <td>0.465</td>\n",
       "      <td>0.270</td>\n",
       "      <td>4.0</td>\n",
       "      <td>-16.661</td>\n",
       "      <td>1.0</td>\n",
       "      <td>0.0425</td>\n",
       "      <td>0.900</td>\n",
       "      <td>...</td>\n",
       "      <td>0.1450</td>\n",
       "      <td>0.580</td>\n",
       "      <td>94.518</td>\n",
       "      <td>3QiAAp20rPC3dcAtKtMaqQ</td>\n",
       "      <td>spotify:track:3QiAAp20rPC3dcAtKtMaqQ</td>\n",
       "      <td>https://api.spotify.com/v1/tracks/3QiAAp20rPC3...</td>\n",
       "      <td>https://api.spotify.com/v1/audio-analysis/3QiA...</td>\n",
       "      <td>129173.0</td>\n",
       "      <td>4.0</td>\n",
       "      <td>4</td>\n",
       "    </tr>\n",
       "    <tr>\n",
       "      <th>1</th>\n",
       "      <td>Can't Help Falling in Love</td>\n",
       "      <td>Elvis Presley</td>\n",
       "      <td>https://open.spotify.com/track/44AyOl4qVkzS48v...</td>\n",
       "      <td>0.396</td>\n",
       "      <td>0.293</td>\n",
       "      <td>2.0</td>\n",
       "      <td>-14.062</td>\n",
       "      <td>1.0</td>\n",
       "      <td>0.0275</td>\n",
       "      <td>0.941</td>\n",
       "      <td>...</td>\n",
       "      <td>0.1050</td>\n",
       "      <td>0.343</td>\n",
       "      <td>100.307</td>\n",
       "      <td>44AyOl4qVkzS48vBsbNXaC</td>\n",
       "      <td>spotify:track:44AyOl4qVkzS48vBsbNXaC</td>\n",
       "      <td>https://api.spotify.com/v1/tracks/44AyOl4qVkzS...</td>\n",
       "      <td>https://api.spotify.com/v1/audio-analysis/44Ay...</td>\n",
       "      <td>182360.0</td>\n",
       "      <td>3.0</td>\n",
       "      <td>6</td>\n",
       "    </tr>\n",
       "    <tr>\n",
       "      <th>2</th>\n",
       "      <td>Jailhouse Rock</td>\n",
       "      <td>Elvis Presley</td>\n",
       "      <td>https://open.spotify.com/track/452KBpASS5lZLeJ...</td>\n",
       "      <td>0.623</td>\n",
       "      <td>0.537</td>\n",
       "      <td>10.0</td>\n",
       "      <td>-10.014</td>\n",
       "      <td>0.0</td>\n",
       "      <td>0.0726</td>\n",
       "      <td>0.332</td>\n",
       "      <td>...</td>\n",
       "      <td>0.0963</td>\n",
       "      <td>0.905</td>\n",
       "      <td>166.885</td>\n",
       "      <td>452KBpASS5lZLeJWX9Ixub</td>\n",
       "      <td>spotify:track:452KBpASS5lZLeJWX9Ixub</td>\n",
       "      <td>https://api.spotify.com/v1/tracks/452KBpASS5lZ...</td>\n",
       "      <td>https://api.spotify.com/v1/audio-analysis/452K...</td>\n",
       "      <td>146933.0</td>\n",
       "      <td>4.0</td>\n",
       "      <td>0</td>\n",
       "    </tr>\n",
       "    <tr>\n",
       "      <th>3</th>\n",
       "      <td>Here Comes Santa Claus (Right Down Santa Claus...</td>\n",
       "      <td>Elvis Presley</td>\n",
       "      <td>https://open.spotify.com/track/7n7VsX3sv66znBw...</td>\n",
       "      <td>0.575</td>\n",
       "      <td>0.236</td>\n",
       "      <td>2.0</td>\n",
       "      <td>-16.982</td>\n",
       "      <td>1.0</td>\n",
       "      <td>0.0422</td>\n",
       "      <td>0.968</td>\n",
       "      <td>...</td>\n",
       "      <td>0.1050</td>\n",
       "      <td>0.829</td>\n",
       "      <td>79.576</td>\n",
       "      <td>7n7VsX3sv66znBwA8b5uhp</td>\n",
       "      <td>spotify:track:7n7VsX3sv66znBwA8b5uhp</td>\n",
       "      <td>https://api.spotify.com/v1/tracks/7n7VsX3sv66z...</td>\n",
       "      <td>https://api.spotify.com/v1/audio-analysis/7n7V...</td>\n",
       "      <td>115827.0</td>\n",
       "      <td>4.0</td>\n",
       "      <td>4</td>\n",
       "    </tr>\n",
       "    <tr>\n",
       "      <th>4</th>\n",
       "      <td>Hound Dog</td>\n",
       "      <td>Elvis Presley</td>\n",
       "      <td>https://open.spotify.com/track/64Ny7djQ6rNJspq...</td>\n",
       "      <td>0.494</td>\n",
       "      <td>0.756</td>\n",
       "      <td>0.0</td>\n",
       "      <td>-8.492</td>\n",
       "      <td>1.0</td>\n",
       "      <td>0.0499</td>\n",
       "      <td>0.733</td>\n",
       "      <td>...</td>\n",
       "      <td>0.7600</td>\n",
       "      <td>0.949</td>\n",
       "      <td>86.895</td>\n",
       "      <td>64Ny7djQ6rNJspquof2KoX</td>\n",
       "      <td>spotify:track:64Ny7djQ6rNJspquof2KoX</td>\n",
       "      <td>https://api.spotify.com/v1/tracks/64Ny7djQ6rNJ...</td>\n",
       "      <td>https://api.spotify.com/v1/audio-analysis/64Ny...</td>\n",
       "      <td>136027.0</td>\n",
       "      <td>4.0</td>\n",
       "      <td>7</td>\n",
       "    </tr>\n",
       "  </tbody>\n",
       "</table>\n",
       "<p>5 rows × 21 columns</p>\n",
       "</div>"
      ],
      "text/plain": [
       "                                               title         artist  \\\n",
       "0                                     Blue Christmas  Elvis Presley   \n",
       "1                         Can't Help Falling in Love  Elvis Presley   \n",
       "2                                     Jailhouse Rock  Elvis Presley   \n",
       "3  Here Comes Santa Claus (Right Down Santa Claus...  Elvis Presley   \n",
       "4                                          Hound Dog  Elvis Presley   \n",
       "\n",
       "                                                 url  danceability  energy  \\\n",
       "0  https://open.spotify.com/track/3QiAAp20rPC3dcA...         0.465   0.270   \n",
       "1  https://open.spotify.com/track/44AyOl4qVkzS48v...         0.396   0.293   \n",
       "2  https://open.spotify.com/track/452KBpASS5lZLeJ...         0.623   0.537   \n",
       "3  https://open.spotify.com/track/7n7VsX3sv66znBw...         0.575   0.236   \n",
       "4  https://open.spotify.com/track/64Ny7djQ6rNJspq...         0.494   0.756   \n",
       "\n",
       "    key  loudness  mode  speechiness  acousticness  ...  liveness  valence  \\\n",
       "0   4.0   -16.661   1.0       0.0425         0.900  ...    0.1450    0.580   \n",
       "1   2.0   -14.062   1.0       0.0275         0.941  ...    0.1050    0.343   \n",
       "2  10.0   -10.014   0.0       0.0726         0.332  ...    0.0963    0.905   \n",
       "3   2.0   -16.982   1.0       0.0422         0.968  ...    0.1050    0.829   \n",
       "4   0.0    -8.492   1.0       0.0499         0.733  ...    0.7600    0.949   \n",
       "\n",
       "     tempo                      id                                   uri  \\\n",
       "0   94.518  3QiAAp20rPC3dcAtKtMaqQ  spotify:track:3QiAAp20rPC3dcAtKtMaqQ   \n",
       "1  100.307  44AyOl4qVkzS48vBsbNXaC  spotify:track:44AyOl4qVkzS48vBsbNXaC   \n",
       "2  166.885  452KBpASS5lZLeJWX9Ixub  spotify:track:452KBpASS5lZLeJWX9Ixub   \n",
       "3   79.576  7n7VsX3sv66znBwA8b5uhp  spotify:track:7n7VsX3sv66znBwA8b5uhp   \n",
       "4   86.895  64Ny7djQ6rNJspquof2KoX  spotify:track:64Ny7djQ6rNJspquof2KoX   \n",
       "\n",
       "                                          track_href  \\\n",
       "0  https://api.spotify.com/v1/tracks/3QiAAp20rPC3...   \n",
       "1  https://api.spotify.com/v1/tracks/44AyOl4qVkzS...   \n",
       "2  https://api.spotify.com/v1/tracks/452KBpASS5lZ...   \n",
       "3  https://api.spotify.com/v1/tracks/7n7VsX3sv66z...   \n",
       "4  https://api.spotify.com/v1/tracks/64Ny7djQ6rNJ...   \n",
       "\n",
       "                                        analysis_url duration_ms  \\\n",
       "0  https://api.spotify.com/v1/audio-analysis/3QiA...    129173.0   \n",
       "1  https://api.spotify.com/v1/audio-analysis/44Ay...    182360.0   \n",
       "2  https://api.spotify.com/v1/audio-analysis/452K...    146933.0   \n",
       "3  https://api.spotify.com/v1/audio-analysis/7n7V...    115827.0   \n",
       "4  https://api.spotify.com/v1/audio-analysis/64Ny...    136027.0   \n",
       "\n",
       "   time_signature  clusters  \n",
       "0             4.0         4  \n",
       "1             3.0         6  \n",
       "2             4.0         0  \n",
       "3             4.0         4  \n",
       "4             4.0         7  \n",
       "\n",
       "[5 rows x 21 columns]"
      ]
     },
     "execution_count": 6,
     "metadata": {},
     "output_type": "execute_result"
    }
   ],
   "source": [
    "playlist_8_cluster.head()"
   ]
  },
  {
   "cell_type": "code",
   "execution_count": 23,
   "id": "834326df",
   "metadata": {},
   "outputs": [],
   "source": [
    "data_prep = pd.read_csv('playlist_scaled.csv')"
   ]
  },
  {
   "cell_type": "code",
   "execution_count": 24,
   "id": "a51892e9",
   "metadata": {},
   "outputs": [
    {
     "data": {
      "text/html": [
       "<div>\n",
       "<style scoped>\n",
       "    .dataframe tbody tr th:only-of-type {\n",
       "        vertical-align: middle;\n",
       "    }\n",
       "\n",
       "    .dataframe tbody tr th {\n",
       "        vertical-align: top;\n",
       "    }\n",
       "\n",
       "    .dataframe thead th {\n",
       "        text-align: right;\n",
       "    }\n",
       "</style>\n",
       "<table border=\"1\" class=\"dataframe\">\n",
       "  <thead>\n",
       "    <tr style=\"text-align: right;\">\n",
       "      <th></th>\n",
       "      <th>danceability</th>\n",
       "      <th>energy</th>\n",
       "      <th>key</th>\n",
       "      <th>loudness</th>\n",
       "      <th>mode</th>\n",
       "      <th>speechiness</th>\n",
       "      <th>acousticness</th>\n",
       "      <th>instrumentalness</th>\n",
       "      <th>liveness</th>\n",
       "      <th>valence</th>\n",
       "      <th>tempo</th>\n",
       "      <th>duration_ms</th>\n",
       "      <th>time_signature</th>\n",
       "    </tr>\n",
       "  </thead>\n",
       "  <tbody>\n",
       "    <tr>\n",
       "      <th>0</th>\n",
       "      <td>-0.854463</td>\n",
       "      <td>-1.588469</td>\n",
       "      <td>-0.342108</td>\n",
       "      <td>-2.010988</td>\n",
       "      <td>0.695392</td>\n",
       "      <td>-0.412763</td>\n",
       "      <td>2.031443</td>\n",
       "      <td>-0.292214</td>\n",
       "      <td>-0.266020</td>\n",
       "      <td>0.071820</td>\n",
       "      <td>-0.893168</td>\n",
       "      <td>-1.022950</td>\n",
       "      <td>0.217667</td>\n",
       "    </tr>\n",
       "    <tr>\n",
       "      <th>1</th>\n",
       "      <td>-1.281975</td>\n",
       "      <td>-1.483946</td>\n",
       "      <td>-0.904508</td>\n",
       "      <td>-1.377738</td>\n",
       "      <td>0.695392</td>\n",
       "      <td>-0.593407</td>\n",
       "      <td>2.168496</td>\n",
       "      <td>-0.296789</td>\n",
       "      <td>-0.531949</td>\n",
       "      <td>-0.871380</td>\n",
       "      <td>-0.686670</td>\n",
       "      <td>-0.469799</td>\n",
       "      <td>-2.625395</td>\n",
       "    </tr>\n",
       "    <tr>\n",
       "      <th>2</th>\n",
       "      <td>0.124476</td>\n",
       "      <td>-0.375088</td>\n",
       "      <td>1.345090</td>\n",
       "      <td>-0.391439</td>\n",
       "      <td>-1.438037</td>\n",
       "      <td>-0.050270</td>\n",
       "      <td>0.132751</td>\n",
       "      <td>-0.297776</td>\n",
       "      <td>-0.589788</td>\n",
       "      <td>1.365237</td>\n",
       "      <td>1.688214</td>\n",
       "      <td>-0.838244</td>\n",
       "      <td>0.217667</td>\n",
       "    </tr>\n",
       "    <tr>\n",
       "      <th>3</th>\n",
       "      <td>-0.172923</td>\n",
       "      <td>-1.742982</td>\n",
       "      <td>-0.904508</td>\n",
       "      <td>-2.089200</td>\n",
       "      <td>0.695392</td>\n",
       "      <td>-0.416376</td>\n",
       "      <td>2.258751</td>\n",
       "      <td>-0.201362</td>\n",
       "      <td>-0.531949</td>\n",
       "      <td>1.062776</td>\n",
       "      <td>-1.426159</td>\n",
       "      <td>-1.161750</td>\n",
       "      <td>0.217667</td>\n",
       "    </tr>\n",
       "    <tr>\n",
       "      <th>4</th>\n",
       "      <td>-0.674785</td>\n",
       "      <td>0.620158</td>\n",
       "      <td>-1.466908</td>\n",
       "      <td>-0.020602</td>\n",
       "      <td>0.695392</td>\n",
       "      <td>-0.323645</td>\n",
       "      <td>1.473201</td>\n",
       "      <td>-0.270477</td>\n",
       "      <td>3.822623</td>\n",
       "      <td>1.540346</td>\n",
       "      <td>-1.165086</td>\n",
       "      <td>-0.951668</td>\n",
       "      <td>0.217667</td>\n",
       "    </tr>\n",
       "  </tbody>\n",
       "</table>\n",
       "</div>"
      ],
      "text/plain": [
       "   danceability    energy       key  loudness      mode  speechiness  \\\n",
       "0     -0.854463 -1.588469 -0.342108 -2.010988  0.695392    -0.412763   \n",
       "1     -1.281975 -1.483946 -0.904508 -1.377738  0.695392    -0.593407   \n",
       "2      0.124476 -0.375088  1.345090 -0.391439 -1.438037    -0.050270   \n",
       "3     -0.172923 -1.742982 -0.904508 -2.089200  0.695392    -0.416376   \n",
       "4     -0.674785  0.620158 -1.466908 -0.020602  0.695392    -0.323645   \n",
       "\n",
       "   acousticness  instrumentalness  liveness   valence     tempo  duration_ms  \\\n",
       "0      2.031443         -0.292214 -0.266020  0.071820 -0.893168    -1.022950   \n",
       "1      2.168496         -0.296789 -0.531949 -0.871380 -0.686670    -0.469799   \n",
       "2      0.132751         -0.297776 -0.589788  1.365237  1.688214    -0.838244   \n",
       "3      2.258751         -0.201362 -0.531949  1.062776 -1.426159    -1.161750   \n",
       "4      1.473201         -0.270477  3.822623  1.540346 -1.165086    -0.951668   \n",
       "\n",
       "   time_signature  \n",
       "0        0.217667  \n",
       "1       -2.625395  \n",
       "2        0.217667  \n",
       "3        0.217667  \n",
       "4        0.217667  "
      ]
     },
     "execution_count": 24,
     "metadata": {},
     "output_type": "execute_result"
    }
   ],
   "source": [
    "data_prep.head()"
   ]
  },
  {
   "cell_type": "markdown",
   "id": "2f05f273",
   "metadata": {},
   "source": [
    "### create a sample recommender"
   ]
  },
  {
   "cell_type": "code",
   "execution_count": 7,
   "id": "d85d84c6",
   "metadata": {},
   "outputs": [
    {
     "name": "stdout",
     "output_type": "stream",
     "text": [
      "Enter a song that you love: unholy\n"
     ]
    }
   ],
   "source": [
    "song = input(\"Enter a song that you love: \")"
   ]
  },
  {
   "cell_type": "code",
   "execution_count": 8,
   "id": "b0d52883",
   "metadata": {},
   "outputs": [
    {
     "name": "stdout",
     "output_type": "stream",
     "text": [
      "here what I found for you! \n",
      "67    i'm good (blue)\n",
      "Name: title, dtype: object\n"
     ]
    }
   ],
   "source": [
    "if top_100_songs['title'].str.lower().str.contains(str(song).lower()).any() == True:\n",
    "        print('here what I found for you! ')\n",
    "        print(top_100_songs['title'].sample())\n",
    "else:\n",
    "        print('I have no recommendation at this time')"
   ]
  },
  {
   "cell_type": "markdown",
   "id": "654c9009",
   "metadata": {},
   "source": [
    "### improve the simple recommender"
   ]
  },
  {
   "cell_type": "code",
   "execution_count": 9,
   "id": "e1f6b79a",
   "metadata": {},
   "outputs": [],
   "source": [
    "import spotipy\n",
    "import json\n",
    "from spotipy.oauth2 import SpotifyClientCredentials"
   ]
  },
  {
   "cell_type": "code",
   "execution_count": 10,
   "id": "194a7ac0",
   "metadata": {},
   "outputs": [],
   "source": [
    "secrets_file = open(\"../secrets.txt\",\"r\")"
   ]
  },
  {
   "cell_type": "code",
   "execution_count": 11,
   "id": "240852f6",
   "metadata": {},
   "outputs": [],
   "source": [
    "string = secrets_file.read()"
   ]
  },
  {
   "cell_type": "code",
   "execution_count": 12,
   "id": "ac92cf3c",
   "metadata": {},
   "outputs": [
    {
     "data": {
      "text/plain": [
       "['clientid:e9c8174323214a1d84247cc1e2018d9d',\n",
       " 'clientsecret:11813fb826984d6ab23b42023d4a5b28']"
      ]
     },
     "execution_count": 12,
     "metadata": {},
     "output_type": "execute_result"
    }
   ],
   "source": [
    "string.split('\\n')"
   ]
  },
  {
   "cell_type": "code",
   "execution_count": 13,
   "id": "b452e5c7",
   "metadata": {},
   "outputs": [],
   "source": [
    "secrets_dict={}\n",
    "for line in string.split('\\n'):\n",
    "    if len(line) > 0:\n",
    "        secrets_dict[line.split(':')[0]]=line.split(':')[1].strip()"
   ]
  },
  {
   "cell_type": "code",
   "execution_count": 14,
   "id": "f97b23bf",
   "metadata": {},
   "outputs": [],
   "source": [
    "import spotipy\n",
    "from spotipy.oauth2 import SpotifyClientCredentials\n",
    "\n",
    "#Initialize SpotiPy with user credentials\n",
    "sp = spotipy.Spotify(auth_manager=SpotifyClientCredentials(client_id=secrets_dict['clientid'],\n",
    "                                                           client_secret=secrets_dict['clientsecret']))"
   ]
  },
  {
   "cell_type": "markdown",
   "id": "f818920c",
   "metadata": {},
   "source": [
    "### searching the track"
   ]
  },
  {
   "cell_type": "code",
   "execution_count": 15,
   "id": "576e5026",
   "metadata": {},
   "outputs": [],
   "source": [
    "track = \"Unholy\"\n",
    "results = sp.search(q=\"track:\" + track, type=\"track\")"
   ]
  },
  {
   "cell_type": "code",
   "execution_count": 17,
   "id": "d64b3a01",
   "metadata": {},
   "outputs": [
    {
     "data": {
      "text/plain": [
       "'3nqQXoyQOWXiESFLlDF1hG'"
      ]
     },
     "execution_count": 17,
     "metadata": {},
     "output_type": "execute_result"
    }
   ],
   "source": [
    "song_uri = results['tracks']['items'][0]['uri'].split(':')[2]\n",
    "song_uri"
   ]
  },
  {
   "cell_type": "code",
   "execution_count": 50,
   "id": "53897e45",
   "metadata": {},
   "outputs": [
    {
     "data": {
      "text/plain": [
       "[{'danceability': 0.714,\n",
       "  'energy': 0.472,\n",
       "  'key': 2,\n",
       "  'loudness': -7.375,\n",
       "  'mode': 1,\n",
       "  'speechiness': 0.0864,\n",
       "  'acousticness': 0.013,\n",
       "  'instrumentalness': 4.51e-06,\n",
       "  'liveness': 0.266,\n",
       "  'valence': 0.238,\n",
       "  'tempo': 131.121,\n",
       "  'type': 'audio_features',\n",
       "  'id': '3nqQXoyQOWXiESFLlDF1hG',\n",
       "  'uri': 'spotify:track:3nqQXoyQOWXiESFLlDF1hG',\n",
       "  'track_href': 'https://api.spotify.com/v1/tracks/3nqQXoyQOWXiESFLlDF1hG',\n",
       "  'analysis_url': 'https://api.spotify.com/v1/audio-analysis/3nqQXoyQOWXiESFLlDF1hG',\n",
       "  'duration_ms': 156943,\n",
       "  'time_signature': 4}]"
      ]
     },
     "execution_count": 50,
     "metadata": {},
     "output_type": "execute_result"
    }
   ],
   "source": [
    "# get the audio features for that song\n",
    "song_features = sp.audio_features(song_uri)\n",
    "song_features"
   ]
  },
  {
   "cell_type": "code",
   "execution_count": 51,
   "id": "f8484387",
   "metadata": {},
   "outputs": [],
   "source": [
    "new = pd.DataFrame.from_dict(song_features)"
   ]
  },
  {
   "cell_type": "code",
   "execution_count": 52,
   "id": "3ada32eb",
   "metadata": {},
   "outputs": [
    {
     "data": {
      "text/html": [
       "<div>\n",
       "<style scoped>\n",
       "    .dataframe tbody tr th:only-of-type {\n",
       "        vertical-align: middle;\n",
       "    }\n",
       "\n",
       "    .dataframe tbody tr th {\n",
       "        vertical-align: top;\n",
       "    }\n",
       "\n",
       "    .dataframe thead th {\n",
       "        text-align: right;\n",
       "    }\n",
       "</style>\n",
       "<table border=\"1\" class=\"dataframe\">\n",
       "  <thead>\n",
       "    <tr style=\"text-align: right;\">\n",
       "      <th></th>\n",
       "      <th>danceability</th>\n",
       "      <th>energy</th>\n",
       "      <th>key</th>\n",
       "      <th>loudness</th>\n",
       "      <th>mode</th>\n",
       "      <th>speechiness</th>\n",
       "      <th>acousticness</th>\n",
       "      <th>instrumentalness</th>\n",
       "      <th>liveness</th>\n",
       "      <th>valence</th>\n",
       "      <th>tempo</th>\n",
       "      <th>duration_ms</th>\n",
       "      <th>time_signature</th>\n",
       "    </tr>\n",
       "  </thead>\n",
       "  <tbody>\n",
       "    <tr>\n",
       "      <th>0</th>\n",
       "      <td>0.714</td>\n",
       "      <td>0.472</td>\n",
       "      <td>2</td>\n",
       "      <td>-7.375</td>\n",
       "      <td>1</td>\n",
       "      <td>0.0864</td>\n",
       "      <td>0.013</td>\n",
       "      <td>0.000005</td>\n",
       "      <td>0.266</td>\n",
       "      <td>0.238</td>\n",
       "      <td>131.121</td>\n",
       "      <td>156943</td>\n",
       "      <td>4</td>\n",
       "    </tr>\n",
       "  </tbody>\n",
       "</table>\n",
       "</div>"
      ],
      "text/plain": [
       "   danceability  energy  key  loudness  mode  speechiness  acousticness  \\\n",
       "0         0.714   0.472    2    -7.375     1       0.0864         0.013   \n",
       "\n",
       "   instrumentalness  liveness  valence    tempo  duration_ms  time_signature  \n",
       "0          0.000005     0.266    0.238  131.121       156943               4  "
      ]
     },
     "execution_count": 52,
     "metadata": {},
     "output_type": "execute_result"
    }
   ],
   "source": [
    "y_pred = new.drop(columns=['type', 'id' , 'uri', 'track_href', 'analysis_url'])\n",
    "y_pred"
   ]
  },
  {
   "cell_type": "code",
   "execution_count": 53,
   "id": "ebba439c",
   "metadata": {},
   "outputs": [],
   "source": [
    "### SCALING???"
   ]
  },
  {
   "cell_type": "code",
   "execution_count": 54,
   "id": "8fe42031",
   "metadata": {},
   "outputs": [],
   "source": [
    "# from sklearn.preprocessing import StandardScaler\n",
    "# target = StandardScaler().fit_transform(y_pred)\n",
    "\n",
    "# # Now, all features will have the same weight.\n",
    "# pd.DataFrame(target,columns=y_pred.columns).head()"
   ]
  },
  {
   "cell_type": "code",
   "execution_count": 55,
   "id": "95f1d106",
   "metadata": {},
   "outputs": [
    {
     "data": {
      "text/plain": [
       "KMeans(n_clusters=10, random_state=1234)"
      ]
     },
     "execution_count": 55,
     "metadata": {},
     "output_type": "execute_result"
    }
   ],
   "source": [
    "from sklearn.cluster import KMeans\n",
    "\n",
    "kmeans = KMeans(n_clusters=10, random_state=1234)\n",
    "kmeans.fit(data_prep)"
   ]
  },
  {
   "cell_type": "markdown",
   "id": "8fbc2ffc",
   "metadata": {},
   "source": [
    "#### predict the song cluster"
   ]
  },
  {
   "cell_type": "code",
   "execution_count": 56,
   "id": "40689cb6",
   "metadata": {},
   "outputs": [
    {
     "data": {
      "text/plain": [
       "array([7])"
      ]
     },
     "execution_count": 56,
     "metadata": {},
     "output_type": "execute_result"
    }
   ],
   "source": [
    "kmeans.predict(y_pred)"
   ]
  },
  {
   "cell_type": "code",
   "execution_count": null,
   "id": "cf6a1620",
   "metadata": {},
   "outputs": [],
   "source": []
  }
 ],
 "metadata": {
  "kernelspec": {
   "display_name": "Python 3 (ipykernel)",
   "language": "python",
   "name": "python3"
  },
  "language_info": {
   "codemirror_mode": {
    "name": "ipython",
    "version": 3
   },
   "file_extension": ".py",
   "mimetype": "text/x-python",
   "name": "python",
   "nbconvert_exporter": "python",
   "pygments_lexer": "ipython3",
   "version": "3.9.12"
  }
 },
 "nbformat": 4,
 "nbformat_minor": 5
}
