{
 "cells": [
  {
   "cell_type": "markdown",
   "id": "9c0047e5",
   "metadata": {},
   "source": [
    "#### Importing libraries"
   ]
  },
  {
   "cell_type": "code",
   "execution_count": 1,
   "id": "14158b7b",
   "metadata": {},
   "outputs": [],
   "source": [
    "import requests\n",
    "import pandas as pd\n",
    "import numpy as np\n",
    "import pickle"
   ]
  },
  {
   "cell_type": "markdown",
   "id": "2743a34a",
   "metadata": {},
   "source": [
    "#### getting my playlists"
   ]
  },
  {
   "cell_type": "code",
   "execution_count": 2,
   "id": "3c9f98cb",
   "metadata": {},
   "outputs": [],
   "source": [
    "top_100_songs = pd.read_csv('top_100_songs.csv')\n",
    "playlist_8_cluster = pd.read_csv('playlist_8_cluster.csv')"
   ]
  },
  {
   "cell_type": "markdown",
   "id": "aa020a18",
   "metadata": {},
   "source": [
    "#### connect to spotify"
   ]
  },
  {
   "cell_type": "code",
   "execution_count": 24,
   "id": "d1f865fb",
   "metadata": {},
   "outputs": [],
   "source": [
    "import spotipy\n",
    "import json\n",
    "from spotipy.oauth2 import SpotifyClientCredentials"
   ]
  },
  {
   "cell_type": "code",
   "execution_count": 25,
   "id": "d832f231",
   "metadata": {},
   "outputs": [],
   "source": [
    "secrets_file = open(\"../secrets.txt\",\"r\")"
   ]
  },
  {
   "cell_type": "code",
   "execution_count": 26,
   "id": "38b692f0",
   "metadata": {},
   "outputs": [],
   "source": [
    "string = secrets_file.read()"
   ]
  },
  {
   "cell_type": "code",
   "execution_count": 27,
   "id": "23e0f50f",
   "metadata": {},
   "outputs": [
    {
     "data": {
      "text/plain": [
       "['clientid:e9c8174323214a1d84247cc1e2018d9d',\n",
       " 'clientsecret:11813fb826984d6ab23b42023d4a5b28']"
      ]
     },
     "execution_count": 27,
     "metadata": {},
     "output_type": "execute_result"
    }
   ],
   "source": [
    "string.split('\\n')"
   ]
  },
  {
   "cell_type": "code",
   "execution_count": 28,
   "id": "8f499ebb",
   "metadata": {},
   "outputs": [],
   "source": [
    "secrets_dict={}\n",
    "for line in string.split('\\n'):\n",
    "    if len(line) > 0:\n",
    "        secrets_dict[line.split(':')[0]]=line.split(':')[1].strip()"
   ]
  },
  {
   "cell_type": "code",
   "execution_count": 29,
   "id": "db0dfddf",
   "metadata": {},
   "outputs": [],
   "source": [
    "import spotipy\n",
    "from spotipy.oauth2 import SpotifyClientCredentials\n",
    "\n",
    "#Initialize SpotiPy with user credentials\n",
    "sp = spotipy.Spotify(auth_manager=SpotifyClientCredentials(client_id=secrets_dict['clientid'],\n",
    "                                                           client_secret=secrets_dict['clientsecret']))"
   ]
  },
  {
   "cell_type": "markdown",
   "id": "2f05f273",
   "metadata": {},
   "source": [
    "### create a sample recommender"
   ]
  },
  {
   "cell_type": "code",
   "execution_count": 3,
   "id": "d85d84c6",
   "metadata": {},
   "outputs": [
    {
     "name": "stdout",
     "output_type": "stream",
     "text": [
      "Enter a song that you love: sen aglama\n"
     ]
    }
   ],
   "source": [
    "track = input(\"Enter a song that you love: \")"
   ]
  },
  {
   "cell_type": "code",
   "execution_count": 4,
   "id": "b0d52883",
   "metadata": {},
   "outputs": [
    {
     "name": "stdout",
     "output_type": "stream",
     "text": [
      "continue below !!!\n"
     ]
    }
   ],
   "source": [
    "if top_100_songs['title'].str.lower().str.contains(str(track).lower()).any() == True:\n",
    "        print('here what I found for you! ')\n",
    "        print(top_100_songs['title'].sample())\n",
    "else:\n",
    "        print('continue below !!!')"
   ]
  },
  {
   "cell_type": "markdown",
   "id": "654c9009",
   "metadata": {},
   "source": [
    "### improve the simple recommender"
   ]
  },
  {
   "cell_type": "markdown",
   "id": "f818920c",
   "metadata": {},
   "source": [
    "### searching the track"
   ]
  },
  {
   "cell_type": "code",
   "execution_count": 30,
   "id": "576e5026",
   "metadata": {},
   "outputs": [],
   "source": [
    "results = sp.search(q=\"track:\" + track, type=\"track\")"
   ]
  },
  {
   "cell_type": "code",
   "execution_count": 31,
   "id": "d64b3a01",
   "metadata": {},
   "outputs": [
    {
     "data": {
      "text/plain": [
       "'5zasbkVjlMqviBcNCscbi2'"
      ]
     },
     "execution_count": 31,
     "metadata": {},
     "output_type": "execute_result"
    }
   ],
   "source": [
    "song_uri = results['tracks']['items'][0]['uri'].split(':')[2]\n",
    "song_uri"
   ]
  },
  {
   "cell_type": "code",
   "execution_count": 32,
   "id": "53897e45",
   "metadata": {},
   "outputs": [
    {
     "data": {
      "text/plain": [
       "[{'danceability': 0.39,\n",
       "  'energy': 0.558,\n",
       "  'key': 6,\n",
       "  'loudness': -8.502,\n",
       "  'mode': 0,\n",
       "  'speechiness': 0.0407,\n",
       "  'acousticness': 0.47,\n",
       "  'instrumentalness': 1.58e-06,\n",
       "  'liveness': 0.206,\n",
       "  'valence': 0.351,\n",
       "  'tempo': 79.559,\n",
       "  'type': 'audio_features',\n",
       "  'id': '5zasbkVjlMqviBcNCscbi2',\n",
       "  'uri': 'spotify:track:5zasbkVjlMqviBcNCscbi2',\n",
       "  'track_href': 'https://api.spotify.com/v1/tracks/5zasbkVjlMqviBcNCscbi2',\n",
       "  'analysis_url': 'https://api.spotify.com/v1/audio-analysis/5zasbkVjlMqviBcNCscbi2',\n",
       "  'duration_ms': 346196,\n",
       "  'time_signature': 4}]"
      ]
     },
     "execution_count": 32,
     "metadata": {},
     "output_type": "execute_result"
    }
   ],
   "source": [
    "# get the audio features for that song\n",
    "song_features = sp.audio_features(song_uri)\n",
    "song_features"
   ]
  },
  {
   "cell_type": "code",
   "execution_count": 33,
   "id": "f8484387",
   "metadata": {},
   "outputs": [],
   "source": [
    "new = pd.DataFrame.from_dict(song_features)"
   ]
  },
  {
   "cell_type": "code",
   "execution_count": 34,
   "id": "3ada32eb",
   "metadata": {},
   "outputs": [
    {
     "data": {
      "text/html": [
       "<div>\n",
       "<style scoped>\n",
       "    .dataframe tbody tr th:only-of-type {\n",
       "        vertical-align: middle;\n",
       "    }\n",
       "\n",
       "    .dataframe tbody tr th {\n",
       "        vertical-align: top;\n",
       "    }\n",
       "\n",
       "    .dataframe thead th {\n",
       "        text-align: right;\n",
       "    }\n",
       "</style>\n",
       "<table border=\"1\" class=\"dataframe\">\n",
       "  <thead>\n",
       "    <tr style=\"text-align: right;\">\n",
       "      <th></th>\n",
       "      <th>danceability</th>\n",
       "      <th>energy</th>\n",
       "      <th>key</th>\n",
       "      <th>loudness</th>\n",
       "      <th>mode</th>\n",
       "      <th>speechiness</th>\n",
       "      <th>acousticness</th>\n",
       "      <th>instrumentalness</th>\n",
       "      <th>liveness</th>\n",
       "      <th>valence</th>\n",
       "      <th>tempo</th>\n",
       "      <th>duration_ms</th>\n",
       "      <th>time_signature</th>\n",
       "    </tr>\n",
       "  </thead>\n",
       "  <tbody>\n",
       "    <tr>\n",
       "      <th>0</th>\n",
       "      <td>0.39</td>\n",
       "      <td>0.558</td>\n",
       "      <td>6</td>\n",
       "      <td>-8.502</td>\n",
       "      <td>0</td>\n",
       "      <td>0.0407</td>\n",
       "      <td>0.47</td>\n",
       "      <td>0.000002</td>\n",
       "      <td>0.206</td>\n",
       "      <td>0.351</td>\n",
       "      <td>79.559</td>\n",
       "      <td>346196</td>\n",
       "      <td>4</td>\n",
       "    </tr>\n",
       "  </tbody>\n",
       "</table>\n",
       "</div>"
      ],
      "text/plain": [
       "   danceability  energy  key  loudness  mode  speechiness  acousticness  \\\n",
       "0          0.39   0.558    6    -8.502     0       0.0407          0.47   \n",
       "\n",
       "   instrumentalness  liveness  valence   tempo  duration_ms  time_signature  \n",
       "0          0.000002     0.206    0.351  79.559       346196               4  "
      ]
     },
     "execution_count": 34,
     "metadata": {},
     "output_type": "execute_result"
    }
   ],
   "source": [
    "y_pred = new.drop(columns=['type', 'id' , 'uri', 'track_href', 'analysis_url'])\n",
    "y_pred"
   ]
  },
  {
   "cell_type": "code",
   "execution_count": 35,
   "id": "4dc68da4",
   "metadata": {},
   "outputs": [],
   "source": [
    "### SCALING???"
   ]
  },
  {
   "cell_type": "code",
   "execution_count": 36,
   "id": "8e10bb89",
   "metadata": {},
   "outputs": [],
   "source": [
    "# from sklearn.preprocessing import StandardScaler\n",
    "# target = StandardScaler().fit_transform(y_pred)\n",
    "\n",
    "# # Now, all features will have the same weight.\n",
    "# pd.DataFrame(target,columns=y_pred.columns).head()"
   ]
  },
  {
   "cell_type": "markdown",
   "id": "a36d9847",
   "metadata": {},
   "source": [
    "#### predict the song cluster"
   ]
  },
  {
   "cell_type": "code",
   "execution_count": 37,
   "id": "6bc6313c",
   "metadata": {},
   "outputs": [],
   "source": [
    "kmeans = pickle.load(open('kmeans_8_cluster.p', 'rb'))"
   ]
  },
  {
   "cell_type": "code",
   "execution_count": 38,
   "id": "40689cb6",
   "metadata": {},
   "outputs": [],
   "source": [
    "look_for = kmeans.predict(y_pred)"
   ]
  },
  {
   "cell_type": "code",
   "execution_count": 47,
   "id": "2416bb09",
   "metadata": {},
   "outputs": [
    {
     "data": {
      "text/plain": [
       "array([2])"
      ]
     },
     "execution_count": 47,
     "metadata": {},
     "output_type": "execute_result"
    }
   ],
   "source": [
    "look_for"
   ]
  },
  {
   "cell_type": "code",
   "execution_count": 46,
   "id": "9bf98c90",
   "metadata": {},
   "outputs": [
    {
     "data": {
      "text/html": [
       "<div>\n",
       "<style scoped>\n",
       "    .dataframe tbody tr th:only-of-type {\n",
       "        vertical-align: middle;\n",
       "    }\n",
       "\n",
       "    .dataframe tbody tr th {\n",
       "        vertical-align: top;\n",
       "    }\n",
       "\n",
       "    .dataframe thead th {\n",
       "        text-align: right;\n",
       "    }\n",
       "</style>\n",
       "<table border=\"1\" class=\"dataframe\">\n",
       "  <thead>\n",
       "    <tr style=\"text-align: right;\">\n",
       "      <th></th>\n",
       "      <th>title</th>\n",
       "      <th>artist</th>\n",
       "      <th>url</th>\n",
       "      <th>danceability</th>\n",
       "      <th>energy</th>\n",
       "      <th>key</th>\n",
       "      <th>loudness</th>\n",
       "      <th>mode</th>\n",
       "      <th>speechiness</th>\n",
       "      <th>acousticness</th>\n",
       "      <th>...</th>\n",
       "      <th>liveness</th>\n",
       "      <th>valence</th>\n",
       "      <th>tempo</th>\n",
       "      <th>id</th>\n",
       "      <th>uri</th>\n",
       "      <th>track_href</th>\n",
       "      <th>analysis_url</th>\n",
       "      <th>duration_ms</th>\n",
       "      <th>time_signature</th>\n",
       "      <th>clusters</th>\n",
       "    </tr>\n",
       "  </thead>\n",
       "  <tbody>\n",
       "    <tr>\n",
       "      <th>3611</th>\n",
       "      <td>Back To Black</td>\n",
       "      <td>Amy Winehouse</td>\n",
       "      <td>https://open.spotify.com/track/30FURVTCpbKyykj...</td>\n",
       "      <td>0.49</td>\n",
       "      <td>0.725</td>\n",
       "      <td>10.0</td>\n",
       "      <td>-3.304</td>\n",
       "      <td>1.0</td>\n",
       "      <td>0.0392</td>\n",
       "      <td>0.123</td>\n",
       "      <td>...</td>\n",
       "      <td>0.0983</td>\n",
       "      <td>0.335</td>\n",
       "      <td>123.28</td>\n",
       "      <td>30FURVTCpbKyykjSEQzGkH</td>\n",
       "      <td>spotify:track:30FURVTCpbKyykjSEQzGkH</td>\n",
       "      <td>https://api.spotify.com/v1/tracks/30FURVTCpbKy...</td>\n",
       "      <td>https://api.spotify.com/v1/audio-analysis/30FU...</td>\n",
       "      <td>240440.0</td>\n",
       "      <td>4.0</td>\n",
       "      <td>2</td>\n",
       "    </tr>\n",
       "  </tbody>\n",
       "</table>\n",
       "<p>1 rows × 21 columns</p>\n",
       "</div>"
      ],
      "text/plain": [
       "              title         artist  \\\n",
       "3611  Back To Black  Amy Winehouse   \n",
       "\n",
       "                                                    url  danceability  energy  \\\n",
       "3611  https://open.spotify.com/track/30FURVTCpbKyykj...          0.49   0.725   \n",
       "\n",
       "       key  loudness  mode  speechiness  acousticness  ...  liveness  valence  \\\n",
       "3611  10.0    -3.304   1.0       0.0392         0.123  ...    0.0983    0.335   \n",
       "\n",
       "       tempo                      id                                   uri  \\\n",
       "3611  123.28  30FURVTCpbKyykjSEQzGkH  spotify:track:30FURVTCpbKyykjSEQzGkH   \n",
       "\n",
       "                                             track_href  \\\n",
       "3611  https://api.spotify.com/v1/tracks/30FURVTCpbKy...   \n",
       "\n",
       "                                           analysis_url duration_ms  \\\n",
       "3611  https://api.spotify.com/v1/audio-analysis/30FU...    240440.0   \n",
       "\n",
       "      time_signature  clusters  \n",
       "3611             4.0         2  \n",
       "\n",
       "[1 rows x 21 columns]"
      ]
     },
     "metadata": {},
     "output_type": "display_data"
    }
   ],
   "source": [
    "display(playlist_8_cluster.loc[playlist_8_cluster.clusters == look_for[0]].sample(1))"
   ]
  },
  {
   "cell_type": "code",
   "execution_count": null,
   "id": "52080bb6",
   "metadata": {},
   "outputs": [],
   "source": []
  },
  {
   "cell_type": "code",
   "execution_count": null,
   "id": "6f1bf9db",
   "metadata": {},
   "outputs": [],
   "source": []
  }
 ],
 "metadata": {
  "kernelspec": {
   "display_name": "Python 3 (ipykernel)",
   "language": "python",
   "name": "python3"
  },
  "language_info": {
   "codemirror_mode": {
    "name": "ipython",
    "version": 3
   },
   "file_extension": ".py",
   "mimetype": "text/x-python",
   "name": "python",
   "nbconvert_exporter": "python",
   "pygments_lexer": "ipython3",
   "version": "3.9.12"
  }
 },
 "nbformat": 4,
 "nbformat_minor": 5
}
