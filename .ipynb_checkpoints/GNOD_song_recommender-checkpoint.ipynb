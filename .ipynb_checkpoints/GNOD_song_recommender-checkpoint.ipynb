{
 "cells": [
  {
   "cell_type": "markdown",
   "id": "9c0047e5",
   "metadata": {},
   "source": [
    "#### Importing libraries"
   ]
  },
  {
   "cell_type": "code",
   "execution_count": 30,
   "id": "14158b7b",
   "metadata": {},
   "outputs": [],
   "source": [
    "import requests\n",
    "import pandas as pd\n",
    "import numpy as np\n",
    "import pickle\n",
    "from sklearn.preprocessing import StandardScaler\n",
    "from sklearn.cluster import KMeans\n",
    "\n",
    "# I am retrieving the kmeans model which I add 8 clusters to my playlist\n",
    "kmeans = pickle.load(open('kmeans_8_cluster.p', 'rb'))\n",
    "\n",
    "# I am retrieving my scaler that I used at my original dataset\n",
    "transformer = pickle.load(open('transformer.p', 'rb'))"
   ]
  },
  {
   "cell_type": "markdown",
   "id": "2743a34a",
   "metadata": {},
   "source": [
    "#### getting my playlists"
   ]
  },
  {
   "cell_type": "code",
   "execution_count": 2,
   "id": "3c9f98cb",
   "metadata": {},
   "outputs": [],
   "source": [
    "top_100_songs = pd.read_csv('top_100_songs.csv')\n",
    "playlist_8_cluster = pd.read_csv('playlist_8_cluster.csv')"
   ]
  },
  {
   "cell_type": "markdown",
   "id": "96a7712f",
   "metadata": {},
   "source": [
    "#### connect to spotify"
   ]
  },
  {
   "cell_type": "code",
   "execution_count": 3,
   "id": "208c4ffa",
   "metadata": {},
   "outputs": [],
   "source": [
    "import spotipy\n",
    "import json\n",
    "from spotipy.oauth2 import SpotifyClientCredentials"
   ]
  },
  {
   "cell_type": "code",
   "execution_count": 4,
   "id": "2d1e33bd",
   "metadata": {},
   "outputs": [],
   "source": [
    "secrets_file = open(\"../secrets.txt\",\"r\")"
   ]
  },
  {
   "cell_type": "code",
   "execution_count": 5,
   "id": "2de8471e",
   "metadata": {},
   "outputs": [],
   "source": [
    "string = secrets_file.read()"
   ]
  },
  {
   "cell_type": "code",
   "execution_count": 8,
   "id": "cffbf00b",
   "metadata": {},
   "outputs": [],
   "source": [
    "#string.split('\\n')"
   ]
  },
  {
   "cell_type": "code",
   "execution_count": 7,
   "id": "00f5c65e",
   "metadata": {},
   "outputs": [],
   "source": [
    "secrets_dict={}\n",
    "for line in string.split('\\n'):\n",
    "    if len(line) > 0:\n",
    "        secrets_dict[line.split(':')[0]]=line.split(':')[1].strip()"
   ]
  },
  {
   "cell_type": "code",
   "execution_count": 9,
   "id": "1eb229b6",
   "metadata": {},
   "outputs": [],
   "source": [
    "import spotipy\n",
    "from spotipy.oauth2 import SpotifyClientCredentials\n",
    "\n",
    "#Initialize SpotiPy with user credentials\n",
    "sp = spotipy.Spotify(auth_manager=SpotifyClientCredentials(client_id=secrets_dict['clientid'],\n",
    "                                                           client_secret=secrets_dict['clientsecret']))"
   ]
  },
  {
   "cell_type": "markdown",
   "id": "2f05f273",
   "metadata": {},
   "source": [
    "### create a sample recommender"
   ]
  },
  {
   "cell_type": "code",
   "execution_count": 10,
   "id": "d85d84c6",
   "metadata": {},
   "outputs": [
    {
     "name": "stdout",
     "output_type": "stream",
     "text": [
      "Enter a song that you love: simarik\n"
     ]
    }
   ],
   "source": [
    "track = input(\"Enter a song that you love: \")"
   ]
  },
  {
   "cell_type": "code",
   "execution_count": 11,
   "id": "b0d52883",
   "metadata": {},
   "outputs": [
    {
     "name": "stdout",
     "output_type": "stream",
     "text": [
      "continue below !!!\n"
     ]
    }
   ],
   "source": [
    "if top_100_songs['title'].str.lower().str.contains(str(track).lower()).any() == True:\n",
    "        print('here what I found for you! ')\n",
    "        print(top_100_songs['title'].sample())\n",
    "else:\n",
    "        print('continue below !!!')"
   ]
  },
  {
   "cell_type": "markdown",
   "id": "654c9009",
   "metadata": {},
   "source": [
    "### improve the simple recommender"
   ]
  },
  {
   "cell_type": "markdown",
   "id": "f818920c",
   "metadata": {},
   "source": [
    "### searching the track"
   ]
  },
  {
   "cell_type": "code",
   "execution_count": 12,
   "id": "576e5026",
   "metadata": {},
   "outputs": [],
   "source": [
    "results = sp.search(q=\"track:\" + track, type=\"track\")"
   ]
  },
  {
   "cell_type": "code",
   "execution_count": 13,
   "id": "d64b3a01",
   "metadata": {},
   "outputs": [
    {
     "data": {
      "text/plain": [
       "'6vEL7E8TGzrxuxbrgdlkLL'"
      ]
     },
     "execution_count": 13,
     "metadata": {},
     "output_type": "execute_result"
    }
   ],
   "source": [
    "song_uri = results['tracks']['items'][0]['uri'].split(':')[2]\n",
    "song_uri"
   ]
  },
  {
   "cell_type": "code",
   "execution_count": 14,
   "id": "53897e45",
   "metadata": {},
   "outputs": [
    {
     "data": {
      "text/plain": [
       "[{'danceability': 0.775,\n",
       "  'energy': 0.818,\n",
       "  'key': 7,\n",
       "  'loudness': -8.687,\n",
       "  'mode': 1,\n",
       "  'speechiness': 0.164,\n",
       "  'acousticness': 0.0518,\n",
       "  'instrumentalness': 0,\n",
       "  'liveness': 0.114,\n",
       "  'valence': 0.826,\n",
       "  'tempo': 97.06,\n",
       "  'type': 'audio_features',\n",
       "  'id': '6vEL7E8TGzrxuxbrgdlkLL',\n",
       "  'uri': 'spotify:track:6vEL7E8TGzrxuxbrgdlkLL',\n",
       "  'track_href': 'https://api.spotify.com/v1/tracks/6vEL7E8TGzrxuxbrgdlkLL',\n",
       "  'analysis_url': 'https://api.spotify.com/v1/audio-analysis/6vEL7E8TGzrxuxbrgdlkLL',\n",
       "  'duration_ms': 235218,\n",
       "  'time_signature': 3}]"
      ]
     },
     "execution_count": 14,
     "metadata": {},
     "output_type": "execute_result"
    }
   ],
   "source": [
    "# get the audio features for that song\n",
    "song_features = sp.audio_features(song_uri)\n",
    "song_features"
   ]
  },
  {
   "cell_type": "code",
   "execution_count": 15,
   "id": "f8484387",
   "metadata": {},
   "outputs": [],
   "source": [
    "new = pd.DataFrame.from_dict(song_features)"
   ]
  },
  {
   "cell_type": "code",
   "execution_count": 16,
   "id": "3ada32eb",
   "metadata": {},
   "outputs": [
    {
     "data": {
      "text/html": [
       "<div>\n",
       "<style scoped>\n",
       "    .dataframe tbody tr th:only-of-type {\n",
       "        vertical-align: middle;\n",
       "    }\n",
       "\n",
       "    .dataframe tbody tr th {\n",
       "        vertical-align: top;\n",
       "    }\n",
       "\n",
       "    .dataframe thead th {\n",
       "        text-align: right;\n",
       "    }\n",
       "</style>\n",
       "<table border=\"1\" class=\"dataframe\">\n",
       "  <thead>\n",
       "    <tr style=\"text-align: right;\">\n",
       "      <th></th>\n",
       "      <th>danceability</th>\n",
       "      <th>energy</th>\n",
       "      <th>key</th>\n",
       "      <th>loudness</th>\n",
       "      <th>mode</th>\n",
       "      <th>speechiness</th>\n",
       "      <th>acousticness</th>\n",
       "      <th>instrumentalness</th>\n",
       "      <th>liveness</th>\n",
       "      <th>valence</th>\n",
       "      <th>tempo</th>\n",
       "      <th>duration_ms</th>\n",
       "      <th>time_signature</th>\n",
       "    </tr>\n",
       "  </thead>\n",
       "  <tbody>\n",
       "    <tr>\n",
       "      <th>0</th>\n",
       "      <td>0.775</td>\n",
       "      <td>0.818</td>\n",
       "      <td>7</td>\n",
       "      <td>-8.687</td>\n",
       "      <td>1</td>\n",
       "      <td>0.164</td>\n",
       "      <td>0.0518</td>\n",
       "      <td>0</td>\n",
       "      <td>0.114</td>\n",
       "      <td>0.826</td>\n",
       "      <td>97.06</td>\n",
       "      <td>235218</td>\n",
       "      <td>3</td>\n",
       "    </tr>\n",
       "  </tbody>\n",
       "</table>\n",
       "</div>"
      ],
      "text/plain": [
       "   danceability  energy  key  loudness  mode  speechiness  acousticness  \\\n",
       "0         0.775   0.818    7    -8.687     1        0.164        0.0518   \n",
       "\n",
       "   instrumentalness  liveness  valence  tempo  duration_ms  time_signature  \n",
       "0                 0     0.114    0.826  97.06       235218               3  "
      ]
     },
     "execution_count": 16,
     "metadata": {},
     "output_type": "execute_result"
    }
   ],
   "source": [
    "y_pred = new.drop(columns=['type', 'id' , 'uri', 'track_href', 'analysis_url'])\n",
    "y_pred"
   ]
  },
  {
   "cell_type": "markdown",
   "id": "9f51a8f4",
   "metadata": {},
   "source": [
    "### SCALING???"
   ]
  },
  {
   "cell_type": "markdown",
   "id": "1c800480",
   "metadata": {},
   "source": [
    "I pickled the transformer from scaling the original data"
   ]
  },
  {
   "cell_type": "code",
   "execution_count": 17,
   "id": "6b6eebb6",
   "metadata": {},
   "outputs": [],
   "source": [
    "y_scaled = transformer.transform(y_pred)"
   ]
  },
  {
   "cell_type": "code",
   "execution_count": 25,
   "id": "be79585a",
   "metadata": {},
   "outputs": [],
   "source": [
    "y_scaled = pd.DataFrame(y_scaled,columns=y_pred.columns)"
   ]
  },
  {
   "cell_type": "code",
   "execution_count": 26,
   "id": "a8853a6b",
   "metadata": {},
   "outputs": [
    {
     "data": {
      "text/html": [
       "<div>\n",
       "<style scoped>\n",
       "    .dataframe tbody tr th:only-of-type {\n",
       "        vertical-align: middle;\n",
       "    }\n",
       "\n",
       "    .dataframe tbody tr th {\n",
       "        vertical-align: top;\n",
       "    }\n",
       "\n",
       "    .dataframe thead th {\n",
       "        text-align: right;\n",
       "    }\n",
       "</style>\n",
       "<table border=\"1\" class=\"dataframe\">\n",
       "  <thead>\n",
       "    <tr style=\"text-align: right;\">\n",
       "      <th></th>\n",
       "      <th>danceability</th>\n",
       "      <th>energy</th>\n",
       "      <th>key</th>\n",
       "      <th>loudness</th>\n",
       "      <th>mode</th>\n",
       "      <th>speechiness</th>\n",
       "      <th>acousticness</th>\n",
       "      <th>instrumentalness</th>\n",
       "      <th>liveness</th>\n",
       "      <th>valence</th>\n",
       "      <th>tempo</th>\n",
       "      <th>duration_ms</th>\n",
       "      <th>time_signature</th>\n",
       "    </tr>\n",
       "  </thead>\n",
       "  <tbody>\n",
       "    <tr>\n",
       "      <th>0</th>\n",
       "      <td>1.06624</td>\n",
       "      <td>0.901917</td>\n",
       "      <td>0.501491</td>\n",
       "      <td>-0.068114</td>\n",
       "      <td>0.695392</td>\n",
       "      <td>1.050454</td>\n",
       "      <td>-0.803892</td>\n",
       "      <td>-0.297852</td>\n",
       "      <td>-0.472115</td>\n",
       "      <td>1.050837</td>\n",
       "      <td>-0.802493</td>\n",
       "      <td>0.079931</td>\n",
       "      <td>-2.625395</td>\n",
       "    </tr>\n",
       "  </tbody>\n",
       "</table>\n",
       "</div>"
      ],
      "text/plain": [
       "   danceability    energy       key  loudness      mode  speechiness  \\\n",
       "0       1.06624  0.901917  0.501491 -0.068114  0.695392     1.050454   \n",
       "\n",
       "   acousticness  instrumentalness  liveness   valence     tempo  duration_ms  \\\n",
       "0     -0.803892         -0.297852 -0.472115  1.050837 -0.802493     0.079931   \n",
       "\n",
       "   time_signature  \n",
       "0       -2.625395  "
      ]
     },
     "execution_count": 26,
     "metadata": {},
     "output_type": "execute_result"
    }
   ],
   "source": [
    "y_scaled"
   ]
  },
  {
   "cell_type": "markdown",
   "id": "a36d9847",
   "metadata": {},
   "source": [
    "#### predict the song cluster"
   ]
  },
  {
   "cell_type": "code",
   "execution_count": 27,
   "id": "40689cb6",
   "metadata": {},
   "outputs": [],
   "source": [
    "look_for = kmeans.predict(y_scaled)"
   ]
  },
  {
   "cell_type": "code",
   "execution_count": 32,
   "id": "9cd21a60",
   "metadata": {},
   "outputs": [
    {
     "data": {
      "text/plain": [
       "1"
      ]
     },
     "execution_count": 32,
     "metadata": {},
     "output_type": "execute_result"
    }
   ],
   "source": [
    "# song cluster\n",
    "look_for[0]"
   ]
  },
  {
   "cell_type": "code",
   "execution_count": 33,
   "id": "5d3f4025",
   "metadata": {},
   "outputs": [
    {
     "data": {
      "text/html": [
       "<div>\n",
       "<style scoped>\n",
       "    .dataframe tbody tr th:only-of-type {\n",
       "        vertical-align: middle;\n",
       "    }\n",
       "\n",
       "    .dataframe tbody tr th {\n",
       "        vertical-align: top;\n",
       "    }\n",
       "\n",
       "    .dataframe thead th {\n",
       "        text-align: right;\n",
       "    }\n",
       "</style>\n",
       "<table border=\"1\" class=\"dataframe\">\n",
       "  <thead>\n",
       "    <tr style=\"text-align: right;\">\n",
       "      <th></th>\n",
       "      <th>title</th>\n",
       "      <th>artist</th>\n",
       "      <th>url</th>\n",
       "      <th>danceability</th>\n",
       "      <th>energy</th>\n",
       "      <th>key</th>\n",
       "      <th>loudness</th>\n",
       "      <th>mode</th>\n",
       "      <th>speechiness</th>\n",
       "      <th>acousticness</th>\n",
       "      <th>...</th>\n",
       "      <th>liveness</th>\n",
       "      <th>valence</th>\n",
       "      <th>tempo</th>\n",
       "      <th>id</th>\n",
       "      <th>uri</th>\n",
       "      <th>track_href</th>\n",
       "      <th>analysis_url</th>\n",
       "      <th>duration_ms</th>\n",
       "      <th>time_signature</th>\n",
       "      <th>clusters</th>\n",
       "    </tr>\n",
       "  </thead>\n",
       "  <tbody>\n",
       "    <tr>\n",
       "      <th>2480</th>\n",
       "      <td>Never Can Say Goodbye</td>\n",
       "      <td>The Communards</td>\n",
       "      <td>https://open.spotify.com/track/6A48JrV1QyIbmd5...</td>\n",
       "      <td>0.583</td>\n",
       "      <td>0.835</td>\n",
       "      <td>5.0</td>\n",
       "      <td>-7.984</td>\n",
       "      <td>1.0</td>\n",
       "      <td>0.0286</td>\n",
       "      <td>0.046</td>\n",
       "      <td>...</td>\n",
       "      <td>0.208</td>\n",
       "      <td>0.864</td>\n",
       "      <td>132.18</td>\n",
       "      <td>6A48JrV1QyIbmd5cZglvRl</td>\n",
       "      <td>spotify:track:6A48JrV1QyIbmd5cZglvRl</td>\n",
       "      <td>https://api.spotify.com/v1/tracks/6A48JrV1QyIb...</td>\n",
       "      <td>https://api.spotify.com/v1/audio-analysis/6A48...</td>\n",
       "      <td>285067.0</td>\n",
       "      <td>4.0</td>\n",
       "      <td>1</td>\n",
       "    </tr>\n",
       "  </tbody>\n",
       "</table>\n",
       "<p>1 rows × 21 columns</p>\n",
       "</div>"
      ],
      "text/plain": [
       "                      title          artist  \\\n",
       "2480  Never Can Say Goodbye  The Communards   \n",
       "\n",
       "                                                    url  danceability  energy  \\\n",
       "2480  https://open.spotify.com/track/6A48JrV1QyIbmd5...         0.583   0.835   \n",
       "\n",
       "      key  loudness  mode  speechiness  acousticness  ...  liveness  valence  \\\n",
       "2480  5.0    -7.984   1.0       0.0286         0.046  ...     0.208    0.864   \n",
       "\n",
       "       tempo                      id                                   uri  \\\n",
       "2480  132.18  6A48JrV1QyIbmd5cZglvRl  spotify:track:6A48JrV1QyIbmd5cZglvRl   \n",
       "\n",
       "                                             track_href  \\\n",
       "2480  https://api.spotify.com/v1/tracks/6A48JrV1QyIb...   \n",
       "\n",
       "                                           analysis_url duration_ms  \\\n",
       "2480  https://api.spotify.com/v1/audio-analysis/6A48...    285067.0   \n",
       "\n",
       "      time_signature  clusters  \n",
       "2480             4.0         1  \n",
       "\n",
       "[1 rows x 21 columns]"
      ]
     },
     "metadata": {},
     "output_type": "display_data"
    }
   ],
   "source": [
    "display(playlist_8_cluster.loc[playlist_8_cluster.clusters == look_for[0]].sample(1))"
   ]
  },
  {
   "cell_type": "code",
   "execution_count": null,
   "id": "51c10a09",
   "metadata": {},
   "outputs": [],
   "source": []
  }
 ],
 "metadata": {
  "kernelspec": {
   "display_name": "Python 3 (ipykernel)",
   "language": "python",
   "name": "python3"
  },
  "language_info": {
   "codemirror_mode": {
    "name": "ipython",
    "version": 3
   },
   "file_extension": ".py",
   "mimetype": "text/x-python",
   "name": "python",
   "nbconvert_exporter": "python",
   "pygments_lexer": "ipython3",
   "version": "3.9.12"
  }
 },
 "nbformat": 4,
 "nbformat_minor": 5
}
