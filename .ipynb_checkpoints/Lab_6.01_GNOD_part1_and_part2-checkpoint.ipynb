{
 "cells": [
  {
   "cell_type": "markdown",
   "id": "9c0047e5",
   "metadata": {},
   "source": [
    "#### Importing libraries"
   ]
  },
  {
   "cell_type": "code",
   "execution_count": 2,
   "id": "14158b7b",
   "metadata": {},
   "outputs": [],
   "source": [
    "from bs4 import BeautifulSoup\n",
    "import requests\n",
    "import pandas as pd\n",
    "import numpy as np"
   ]
  },
  {
   "cell_type": "code",
   "execution_count": 3,
   "id": "6edc56f0",
   "metadata": {},
   "outputs": [],
   "source": [
    "# 1. find url and store it in a variable\n",
    "url = \"https://www.popvortex.com/music/charts/top-100-songs.php\""
   ]
  },
  {
   "cell_type": "code",
   "execution_count": 4,
   "id": "38c08a7a",
   "metadata": {},
   "outputs": [
    {
     "data": {
      "text/plain": [
       "200"
      ]
     },
     "execution_count": 4,
     "metadata": {},
     "output_type": "execute_result"
    }
   ],
   "source": [
    "# 2. download html with a get request\n",
    "response = requests.get(url)\n",
    "response.status_code # 200 status code means OK!"
   ]
  },
  {
   "cell_type": "code",
   "execution_count": 5,
   "id": "0be58da3",
   "metadata": {},
   "outputs": [],
   "source": [
    "# 3. parse html (create the 'soup')\n",
    "soup = BeautifulSoup(response.content, \"html.parser\")"
   ]
  },
  {
   "cell_type": "code",
   "execution_count": 6,
   "id": "75adced7",
   "metadata": {},
   "outputs": [],
   "source": [
    "#initialize empty lists\n",
    "title = []\n",
    "artist = []\n",
    "\n",
    "\n",
    "# define the number of iterations of our for loop\n",
    "num_iter = len(soup.select(\"cite.title\"))\n",
    "\n",
    "title_list = soup.select(\"cite.title\")\n",
    "artist_list = soup.select(\"em.artist\")\n",
    "\n",
    "\n",
    "# iterate through the result set and retrive all the data\n",
    "for i in range(num_iter):\n",
    "    title.append(title_list[i].get_text())\n",
    "    artist.append(artist_list[i].get_text())\n",
    "  "
   ]
  },
  {
   "cell_type": "code",
   "execution_count": 7,
   "id": "e0a50e59",
   "metadata": {},
   "outputs": [],
   "source": [
    "# genre = []\n",
    "# genre_list = soup.select('div.chart-content.col-xs-12.col-sm-8 > ul >li >a')\n",
    "# genre_new_release = soup.select('div.chart-content.col-xs-12.col-sm-8 > ul > li:nth-child(2) > a')\n",
    "\n",
    "# num = len(soup.select('div.chart-content.col-xs-12.col-sm-8 > ul >li >a'))\n",
    "# num1 = len(soup.select('div.chart-content.col-xs-12.col-sm-8 > ul > li:nth-child(2) > a'))\n",
    "\n",
    "# for i in range(num):\n",
    "#     if genre_list[i].get_text() != 'New Release':\n",
    "#         genre.append(genre_list[i].get_text())\n",
    "#     else:\n",
    "#         for i in range(num1):\n",
    "#             genre.append(genre_new_release[i].get_text())   "
   ]
  },
  {
   "cell_type": "code",
   "execution_count": 8,
   "id": "ab811bc6",
   "metadata": {},
   "outputs": [],
   "source": [
    "top_100_songs = pd.DataFrame({\"title\":title, \"artist\":artist})"
   ]
  },
  {
   "cell_type": "code",
   "execution_count": 9,
   "id": "eec29b6e",
   "metadata": {},
   "outputs": [],
   "source": [
    "top_100_songs['title'] = top_100_songs['title'].str.lower()"
   ]
  },
  {
   "cell_type": "code",
   "execution_count": 10,
   "id": "2f10c29e",
   "metadata": {},
   "outputs": [],
   "source": [
    "top_100_songs['artist'] = top_100_songs['artist'].str.lower()"
   ]
  },
  {
   "cell_type": "code",
   "execution_count": 11,
   "id": "ef92d442",
   "metadata": {},
   "outputs": [
    {
     "data": {
      "text/html": [
       "<div>\n",
       "<style scoped>\n",
       "    .dataframe tbody tr th:only-of-type {\n",
       "        vertical-align: middle;\n",
       "    }\n",
       "\n",
       "    .dataframe tbody tr th {\n",
       "        vertical-align: top;\n",
       "    }\n",
       "\n",
       "    .dataframe thead th {\n",
       "        text-align: right;\n",
       "    }\n",
       "</style>\n",
       "<table border=\"1\" class=\"dataframe\">\n",
       "  <thead>\n",
       "    <tr style=\"text-align: right;\">\n",
       "      <th></th>\n",
       "      <th>title</th>\n",
       "      <th>artist</th>\n",
       "    </tr>\n",
       "  </thead>\n",
       "  <tbody>\n",
       "    <tr>\n",
       "      <th>0</th>\n",
       "      <td>flowers</td>\n",
       "      <td>miley cyrus</td>\n",
       "    </tr>\n",
       "    <tr>\n",
       "      <th>1</th>\n",
       "      <td>vibe (feat. jimin of bts)</td>\n",
       "      <td>taeyang</td>\n",
       "    </tr>\n",
       "    <tr>\n",
       "      <th>2</th>\n",
       "      <td>shakira: bzrp music sessions, vol. 53</td>\n",
       "      <td>bizarrap &amp; shakira</td>\n",
       "    </tr>\n",
       "    <tr>\n",
       "      <th>3</th>\n",
       "      <td>anti-hero</td>\n",
       "      <td>taylor swift</td>\n",
       "    </tr>\n",
       "    <tr>\n",
       "      <th>4</th>\n",
       "      <td>unholy</td>\n",
       "      <td>sam smith &amp; kim petras</td>\n",
       "    </tr>\n",
       "  </tbody>\n",
       "</table>\n",
       "</div>"
      ],
      "text/plain": [
       "                                   title                  artist\n",
       "0                                flowers             miley cyrus\n",
       "1              vibe (feat. jimin of bts)                 taeyang\n",
       "2  shakira: bzrp music sessions, vol. 53      bizarrap & shakira\n",
       "3                              anti-hero            taylor swift\n",
       "4                                 unholy  sam smith & kim petras"
      ]
     },
     "execution_count": 11,
     "metadata": {},
     "output_type": "execute_result"
    }
   ],
   "source": [
    "top_100_songs.head()"
   ]
  },
  {
   "cell_type": "markdown",
   "id": "b6d5c391",
   "metadata": {},
   "source": [
    "I will send it to csv file to use in future"
   ]
  },
  {
   "cell_type": "code",
   "execution_count": 15,
   "id": "86e3511a",
   "metadata": {},
   "outputs": [],
   "source": [
    "top_100_songs.to_csv('top_100_songs.csv', index = False)"
   ]
  },
  {
   "cell_type": "markdown",
   "id": "2f05f273",
   "metadata": {},
   "source": [
    "### GNOD part 2"
   ]
  },
  {
   "cell_type": "markdown",
   "id": "b706bdee",
   "metadata": {},
   "source": [
    "Today you are creating a recommender where the user inputs a song title and check if that song is in the list you created.   If it is,  give a different random song and artist from the list.  If it is not on the list, let the user know that you have no recommendation at this time."
   ]
  },
  {
   "cell_type": "code",
   "execution_count": 16,
   "id": "d85d84c6",
   "metadata": {},
   "outputs": [
    {
     "name": "stdout",
     "output_type": "stream",
     "text": [
      "Enter a song that you love: unholy\n"
     ]
    }
   ],
   "source": [
    "song = input(\"Enter a song that you love: \")"
   ]
  },
  {
   "cell_type": "code",
   "execution_count": 17,
   "id": "b0d52883",
   "metadata": {},
   "outputs": [
    {
     "name": "stdout",
     "output_type": "stream",
     "text": [
      "here what I found for you! \n",
      "67    i'm good (blue)\n",
      "Name: title, dtype: object\n"
     ]
    }
   ],
   "source": [
    "if top_100_songs['title'].str.lower().str.contains(str(song).lower()).any() == True:\n",
    "        print('here what I found for you! ')\n",
    "        print(top_100_songs['title'].sample())\n",
    "else:\n",
    "        print('I have no recommendation at this time')"
   ]
  },
  {
   "cell_type": "code",
   "execution_count": null,
   "id": "f7ff73eb",
   "metadata": {},
   "outputs": [],
   "source": []
  }
 ],
 "metadata": {
  "kernelspec": {
   "display_name": "Python 3 (ipykernel)",
   "language": "python",
   "name": "python3"
  },
  "language_info": {
   "codemirror_mode": {
    "name": "ipython",
    "version": 3
   },
   "file_extension": ".py",
   "mimetype": "text/x-python",
   "name": "python",
   "nbconvert_exporter": "python",
   "pygments_lexer": "ipython3",
   "version": "3.9.12"
  }
 },
 "nbformat": 4,
 "nbformat_minor": 5
}
