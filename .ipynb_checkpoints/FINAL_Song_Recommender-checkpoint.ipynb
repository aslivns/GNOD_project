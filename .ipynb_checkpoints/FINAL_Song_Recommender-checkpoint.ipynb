{
 "cells": [
  {
   "cell_type": "markdown",
   "id": "9c0047e5",
   "metadata": {},
   "source": [
    "#### Importing libraries"
   ]
  },
  {
   "cell_type": "code",
   "execution_count": 1,
   "id": "14158b7b",
   "metadata": {},
   "outputs": [],
   "source": [
    "import requests\n",
    "import pandas as pd\n",
    "import numpy as np\n",
    "import pickle\n",
    "from sklearn.preprocessing import StandardScaler\n",
    "from sklearn.cluster import KMeans\n",
    "\n",
    "# I am retrieving the kmeans model which I add 8 clusters to my playlist\n",
    "kmeans = pickle.load(open('kmeans_8_cluster.p', 'rb'))\n",
    "\n",
    "# I am retrieving my scaler that I used at my original dataset\n",
    "transformer = pickle.load(open('transformer.p', 'rb'))"
   ]
  },
  {
   "cell_type": "markdown",
   "id": "2743a34a",
   "metadata": {},
   "source": [
    "#### getting my playlists"
   ]
  },
  {
   "cell_type": "code",
   "execution_count": 2,
   "id": "3c9f98cb",
   "metadata": {},
   "outputs": [
    {
     "data": {
      "text/html": [
       "<div>\n",
       "<style scoped>\n",
       "    .dataframe tbody tr th:only-of-type {\n",
       "        vertical-align: middle;\n",
       "    }\n",
       "\n",
       "    .dataframe tbody tr th {\n",
       "        vertical-align: top;\n",
       "    }\n",
       "\n",
       "    .dataframe thead th {\n",
       "        text-align: right;\n",
       "    }\n",
       "</style>\n",
       "<table border=\"1\" class=\"dataframe\">\n",
       "  <thead>\n",
       "    <tr style=\"text-align: right;\">\n",
       "      <th></th>\n",
       "      <th>title</th>\n",
       "      <th>artist</th>\n",
       "    </tr>\n",
       "  </thead>\n",
       "  <tbody>\n",
       "    <tr>\n",
       "      <th>0</th>\n",
       "      <td>flowers</td>\n",
       "      <td>miley cyrus</td>\n",
       "    </tr>\n",
       "    <tr>\n",
       "      <th>1</th>\n",
       "      <td>vibe (feat. jimin of bts)</td>\n",
       "      <td>taeyang</td>\n",
       "    </tr>\n",
       "    <tr>\n",
       "      <th>2</th>\n",
       "      <td>shakira: bzrp music sessions, vol. 53</td>\n",
       "      <td>bizarrap &amp; shakira</td>\n",
       "    </tr>\n",
       "    <tr>\n",
       "      <th>3</th>\n",
       "      <td>anti-hero</td>\n",
       "      <td>taylor swift</td>\n",
       "    </tr>\n",
       "    <tr>\n",
       "      <th>4</th>\n",
       "      <td>unholy</td>\n",
       "      <td>sam smith &amp; kim petras</td>\n",
       "    </tr>\n",
       "    <tr>\n",
       "      <th>...</th>\n",
       "      <td>...</td>\n",
       "      <td>...</td>\n",
       "    </tr>\n",
       "    <tr>\n",
       "      <th>95</th>\n",
       "      <td>no horse to ride</td>\n",
       "      <td>luke grimes</td>\n",
       "    </tr>\n",
       "    <tr>\n",
       "      <th>96</th>\n",
       "      <td>goodness of god (live)</td>\n",
       "      <td>cece winans</td>\n",
       "    </tr>\n",
       "    <tr>\n",
       "      <th>97</th>\n",
       "      <td>handle on you</td>\n",
       "      <td>parker mccollum</td>\n",
       "    </tr>\n",
       "    <tr>\n",
       "      <th>98</th>\n",
       "      <td>for your love</td>\n",
       "      <td>the yardbirds</td>\n",
       "    </tr>\n",
       "    <tr>\n",
       "      <th>99</th>\n",
       "      <td>watermelon moonshine</td>\n",
       "      <td>lainey wilson</td>\n",
       "    </tr>\n",
       "  </tbody>\n",
       "</table>\n",
       "<p>100 rows × 2 columns</p>\n",
       "</div>"
      ],
      "text/plain": [
       "                                    title                  artist\n",
       "0                                 flowers             miley cyrus\n",
       "1               vibe (feat. jimin of bts)                 taeyang\n",
       "2   shakira: bzrp music sessions, vol. 53      bizarrap & shakira\n",
       "3                               anti-hero            taylor swift\n",
       "4                                  unholy  sam smith & kim petras\n",
       "..                                    ...                     ...\n",
       "95                       no horse to ride             luke grimes\n",
       "96                 goodness of god (live)             cece winans\n",
       "97                          handle on you         parker mccollum\n",
       "98                          for your love           the yardbirds\n",
       "99                   watermelon moonshine           lainey wilson\n",
       "\n",
       "[100 rows x 2 columns]"
      ]
     },
     "execution_count": 2,
     "metadata": {},
     "output_type": "execute_result"
    }
   ],
   "source": [
    "top_100_songs = pd.read_csv('top_100_songs.csv')\n",
    "playlist_8_cluster = pd.read_csv('playlist_8_cluster.csv')\n",
    "top_100_songs"
   ]
  },
  {
   "cell_type": "markdown",
   "id": "fabf4267",
   "metadata": {},
   "source": [
    "#### connect to spotify"
   ]
  },
  {
   "cell_type": "code",
   "execution_count": 3,
   "id": "3e3dc351",
   "metadata": {},
   "outputs": [],
   "source": [
    "import spotipy\n",
    "import json\n",
    "from spotipy.oauth2 import SpotifyClientCredentials"
   ]
  },
  {
   "cell_type": "code",
   "execution_count": 4,
   "id": "370bb963",
   "metadata": {},
   "outputs": [],
   "source": [
    "secrets_file = open(\"../secrets.txt\",\"r\")"
   ]
  },
  {
   "cell_type": "code",
   "execution_count": 5,
   "id": "88117c07",
   "metadata": {},
   "outputs": [],
   "source": [
    "string = secrets_file.read()"
   ]
  },
  {
   "cell_type": "code",
   "execution_count": 7,
   "id": "13da4b83",
   "metadata": {},
   "outputs": [],
   "source": [
    "#string.split('\\n')"
   ]
  },
  {
   "cell_type": "code",
   "execution_count": 8,
   "id": "bdf739be",
   "metadata": {},
   "outputs": [],
   "source": [
    "secrets_dict={}\n",
    "for line in string.split('\\n'):\n",
    "    if len(line) > 0:\n",
    "        secrets_dict[line.split(':')[0]]=line.split(':')[1].strip()"
   ]
  },
  {
   "cell_type": "code",
   "execution_count": 9,
   "id": "b39ad528",
   "metadata": {},
   "outputs": [],
   "source": [
    "import spotipy\n",
    "from spotipy.oauth2 import SpotifyClientCredentials\n",
    "\n",
    "#Initialize SpotiPy with user credentials\n",
    "sp = spotipy.Spotify(auth_manager=SpotifyClientCredentials(client_id=secrets_dict['clientid'],\n",
    "                                                           client_secret=secrets_dict['clientsecret']))"
   ]
  },
  {
   "cell_type": "markdown",
   "id": "2f05f273",
   "metadata": {},
   "source": [
    "### song recommender"
   ]
  },
  {
   "cell_type": "code",
   "execution_count": 11,
   "id": "b0d52883",
   "metadata": {},
   "outputs": [
    {
     "name": "stdout",
     "output_type": "stream",
     "text": [
      "Enter a song that you love: simarik\n",
      "Here what I found for you !!!\n",
      "               title          artist  \\\n",
      "1475  Doctor My Eyes  Jackson Browne   \n",
      "\n",
      "                                                    url  \n",
      "1475  https://open.spotify.com/track/3QcuZo6WLcFkqqL...  \n"
     ]
    }
   ],
   "source": [
    "track = input(\"Enter a song that you love: \")\n",
    "\n",
    "\n",
    "if top_100_songs['title'].str.lower().str.contains(str(track).lower()).any() == True:\n",
    "        print('here what I found for you! ')\n",
    "        print(top_100_songs['title'].sample())\n",
    "else:\n",
    "    # get the track name\n",
    "    results = sp.search(q=\"track:\" + track, type=\"track\")\n",
    "    \n",
    "    # find the song uri with spotipy\n",
    "    song_uri = results['tracks']['items'][0]['uri'].split(':')[2]\n",
    "    \n",
    "    #find song features\n",
    "    song_features = sp.audio_features(song_uri)\n",
    "    \n",
    "    #clean song features\n",
    "    new = pd.DataFrame.from_dict(song_features)\n",
    "    y_pred = new.drop(columns=['type', 'id' , 'uri', 'track_href', 'analysis_url'])\n",
    "    \n",
    "    # scale the data\n",
    "    y_scaled = transformer.transform(y_pred)\n",
    "    y_scaled = pd.DataFrame(y_scaled,columns=y_pred.columns)\n",
    "    \n",
    "    # use the Kmeans created before to predict the cluster for the song\n",
    "    look_for = kmeans.predict(y_scaled)\n",
    "    print('Here what I found for you !!!')\n",
    "    \n",
    "    # choose a random row from the platlist with same cluster\n",
    "    print(playlist_8_cluster.loc[playlist_8_cluster.clusters == look_for[0],['title','artist','url']].sample(1))"
   ]
  },
  {
   "cell_type": "code",
   "execution_count": null,
   "id": "69401c4f",
   "metadata": {},
   "outputs": [],
   "source": []
  }
 ],
 "metadata": {
  "kernelspec": {
   "display_name": "Python 3 (ipykernel)",
   "language": "python",
   "name": "python3"
  },
  "language_info": {
   "codemirror_mode": {
    "name": "ipython",
    "version": 3
   },
   "file_extension": ".py",
   "mimetype": "text/x-python",
   "name": "python",
   "nbconvert_exporter": "python",
   "pygments_lexer": "ipython3",
   "version": "3.9.12"
  }
 },
 "nbformat": 4,
 "nbformat_minor": 5
}
