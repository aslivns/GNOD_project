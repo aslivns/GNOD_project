{
 "cells": [
  {
   "cell_type": "markdown",
   "id": "b3259701",
   "metadata": {},
   "source": [
    "#### Importing libraries"
   ]
  },
  {
   "cell_type": "code",
   "execution_count": 1,
   "id": "f0f8ef3e",
   "metadata": {},
   "outputs": [],
   "source": [
    "import pandas as pd\n",
    "import numpy as np\n",
    "# K-means\n",
    "from sklearn.cluster import KMeans\n",
    "from sklearn import cluster, datasets"
   ]
  },
  {
   "cell_type": "markdown",
   "id": "d1086672",
   "metadata": {},
   "source": [
    "#### I will get my playlist and filter necessary columns for clustering"
   ]
  },
  {
   "cell_type": "code",
   "execution_count": 2,
   "id": "bfe616f1",
   "metadata": {},
   "outputs": [],
   "source": [
    "playlist = pd.read_csv('asli_playlist.csv')"
   ]
  },
  {
   "cell_type": "code",
   "execution_count": 3,
   "id": "94b5c70d",
   "metadata": {},
   "outputs": [],
   "source": [
    "data = playlist.drop(columns=['title', 'artist', 'url','id','uri','track_href','analysis_url'])"
   ]
  },
  {
   "cell_type": "markdown",
   "id": "c473ab20",
   "metadata": {},
   "source": [
    "##### scaling our data"
   ]
  },
  {
   "cell_type": "code",
   "execution_count": 4,
   "id": "470dd1fd",
   "metadata": {},
   "outputs": [],
   "source": [
    "from sklearn.preprocessing import StandardScaler\n",
    "transformer = StandardScaler().fit(data)\n",
    "data_prep = transformer.transform(data)\n",
    "\n",
    "# Now, all features will have the same weight.\n",
    "data_prep = pd.DataFrame(data_prep,columns=data.columns)"
   ]
  },
  {
   "cell_type": "markdown",
   "id": "bc91c58d",
   "metadata": {},
   "source": [
    "### I will choose 8 clusters"
   ]
  },
  {
   "cell_type": "code",
   "execution_count": 5,
   "id": "fa3534dd",
   "metadata": {},
   "outputs": [
    {
     "data": {
      "text/plain": [
       "KMeans(random_state=1234)"
      ]
     },
     "execution_count": 5,
     "metadata": {},
     "output_type": "execute_result"
    }
   ],
   "source": [
    "from sklearn.cluster import KMeans\n",
    "\n",
    "kmeans = KMeans(n_clusters=8, random_state=1234)\n",
    "kmeans.fit(data_prep)"
   ]
  },
  {
   "cell_type": "code",
   "execution_count": 6,
   "id": "bfaeec78",
   "metadata": {},
   "outputs": [
    {
     "data": {
      "text/plain": [
       "0    1163\n",
       "1    1508\n",
       "2     831\n",
       "3     289\n",
       "4     912\n",
       "5     422\n",
       "6     317\n",
       "7     292\n",
       "dtype: int64"
      ]
     },
     "execution_count": 6,
     "metadata": {},
     "output_type": "execute_result"
    }
   ],
   "source": [
    "# Predicting / assigning the clusters:\n",
    "clusters = kmeans.predict(data_prep)\n",
    "\n",
    "# Check the size of the clusters\n",
    "pd.Series(clusters).value_counts().sort_index()"
   ]
  },
  {
   "cell_type": "code",
   "execution_count": 7,
   "id": "f2631064",
   "metadata": {},
   "outputs": [
    {
     "data": {
      "text/plain": [
       "44205.797002336665"
      ]
     },
     "execution_count": 7,
     "metadata": {},
     "output_type": "execute_result"
    }
   ],
   "source": [
    "kmeans.inertia_ ##### "
   ]
  },
  {
   "cell_type": "markdown",
   "id": "f5567750",
   "metadata": {},
   "source": [
    "pickling kmeans and transformer to use later"
   ]
  },
  {
   "cell_type": "code",
   "execution_count": 8,
   "id": "de614652",
   "metadata": {},
   "outputs": [],
   "source": [
    "import pickle\n",
    "pickle.dump(kmeans,open('kmeans_8_cluster.p', 'wb'))"
   ]
  },
  {
   "cell_type": "code",
   "execution_count": 9,
   "id": "822c1b5f",
   "metadata": {},
   "outputs": [],
   "source": [
    "pickle.dump(transformer,open('transformer.p', 'wb'))"
   ]
  },
  {
   "cell_type": "code",
   "execution_count": null,
   "id": "90b88660",
   "metadata": {},
   "outputs": [],
   "source": []
  }
 ],
 "metadata": {
  "kernelspec": {
   "display_name": "Python 3 (ipykernel)",
   "language": "python",
   "name": "python3"
  },
  "language_info": {
   "codemirror_mode": {
    "name": "ipython",
    "version": 3
   },
   "file_extension": ".py",
   "mimetype": "text/x-python",
   "name": "python",
   "nbconvert_exporter": "python",
   "pygments_lexer": "ipython3",
   "version": "3.9.12"
  }
 },
 "nbformat": 4,
 "nbformat_minor": 5
}
