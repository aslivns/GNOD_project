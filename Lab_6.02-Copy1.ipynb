{
 "cells": [
  {
   "cell_type": "markdown",
   "id": "404cf3d1",
   "metadata": {},
   "source": [
    "### FBI"
   ]
  },
  {
   "cell_type": "markdown",
   "id": "54abff63",
   "metadata": {},
   "source": [
    "Create a Python list with the top ten FBI's Most Wanted names: url = 'https://www.fbi.gov/wanted/topten'"
   ]
  },
  {
   "cell_type": "code",
   "execution_count": 1,
   "id": "78b1cf7c",
   "metadata": {},
   "outputs": [],
   "source": [
    "from bs4 import BeautifulSoup\n",
    "import requests\n",
    "import pandas as pd"
   ]
  },
  {
   "cell_type": "code",
   "execution_count": null,
   "id": "847b1efc",
   "metadata": {},
   "outputs": [],
   "source": [
    "url = 'https://www.fbi.gov/wanted/topten'"
   ]
  },
  {
   "cell_type": "code",
   "execution_count": null,
   "id": "9e38881d",
   "metadata": {},
   "outputs": [],
   "source": [
    "response = requests.get(url)\n",
    "response.status_code # 200 status code means OK!"
   ]
  },
  {
   "cell_type": "code",
   "execution_count": null,
   "id": "4df1f49c",
   "metadata": {},
   "outputs": [],
   "source": [
    "soup = BeautifulSoup(response.content, \"html.parser\")"
   ]
  },
  {
   "cell_type": "code",
   "execution_count": null,
   "id": "f8ebfaa2",
   "metadata": {},
   "outputs": [],
   "source": [
    "#soup.select('#query-results-0f737222c5054a81a120bce207b0446a > ul')"
   ]
  },
  {
   "cell_type": "code",
   "execution_count": null,
   "id": "8ea8470c",
   "metadata": {},
   "outputs": [],
   "source": [
    "soup.select(\"h3 > a\")"
   ]
  },
  {
   "cell_type": "code",
   "execution_count": null,
   "id": "80d3d280",
   "metadata": {},
   "outputs": [],
   "source": [
    "names = []\n",
    "\n",
    "num_iter = len(soup.select(\"h3 > a\"))\n",
    "\n",
    "names_list = soup.select(\"h3 > a\")\n",
    "\n",
    "for i in range(num_iter):\n",
    "    names.append(names_list[i].get_text())"
   ]
  },
  {
   "cell_type": "code",
   "execution_count": null,
   "id": "7fe345da",
   "metadata": {},
   "outputs": [],
   "source": [
    "top_10_wanted = pd.DataFrame({'names':names})"
   ]
  },
  {
   "cell_type": "code",
   "execution_count": null,
   "id": "910dda91",
   "metadata": {},
   "outputs": [],
   "source": [
    "top_10_wanted.head(10)"
   ]
  },
  {
   "cell_type": "markdown",
   "id": "5b086c03",
   "metadata": {},
   "source": [
    "### Languages"
   ]
  },
  {
   "cell_type": "markdown",
   "id": "48de092e",
   "metadata": {},
   "source": [
    "Display the top 10 languages by number of native speakers stored in a pandas dataframe: url = 'https://en.wikipedia.org/wiki/List_of_languages_by_number_of_native_speakers'"
   ]
  },
  {
   "cell_type": "code",
   "execution_count": null,
   "id": "0dcc49bb",
   "metadata": {},
   "outputs": [],
   "source": [
    "url2 = \"https://en.wikipedia.org/wiki/List_of_languages_by_number_of_native_speakers\""
   ]
  },
  {
   "cell_type": "code",
   "execution_count": null,
   "id": "b9b4df9f",
   "metadata": {},
   "outputs": [],
   "source": [
    "response2 = requests.get(url2)\n",
    "response2.status_code # 200 status code means OK!"
   ]
  },
  {
   "cell_type": "code",
   "execution_count": null,
   "id": "369d2e51",
   "metadata": {},
   "outputs": [],
   "source": [
    "soup2 = BeautifulSoup(response2.content, \"html.parser\")"
   ]
  },
  {
   "cell_type": "code",
   "execution_count": null,
   "id": "729fe963",
   "metadata": {},
   "outputs": [],
   "source": [
    "# #languages\n",
    "# soup2.select(\"tbody > tr > td > a.mw-redirect\")"
   ]
  },
  {
   "cell_type": "code",
   "execution_count": null,
   "id": "b26ad16d",
   "metadata": {},
   "outputs": [],
   "source": [
    "language=soup2.find('table',{'class':\"wikitable\"})"
   ]
  },
  {
   "cell_type": "code",
   "execution_count": null,
   "id": "8472c140",
   "metadata": {},
   "outputs": [],
   "source": [
    "languages=pd.read_html(str(language))\n",
    "# convert list to dataframe\n",
    "languages=pd.DataFrame(languages[0])"
   ]
  },
  {
   "cell_type": "code",
   "execution_count": null,
   "id": "bc56fa6d",
   "metadata": {},
   "outputs": [],
   "source": [
    "languages.head(10)"
   ]
  },
  {
   "cell_type": "markdown",
   "id": "3b5c4fc4",
   "metadata": {},
   "source": [
    "## Earthquakes"
   ]
  },
  {
   "cell_type": "markdown",
   "id": "314675ae",
   "metadata": {},
   "source": [
    "Display the 20 latest earthquakes info (date, time, latitude, longitude and region name) by the EMSC as a pandas dataframe: url = 'https://www.emsc-csem.org/Earthquake/'"
   ]
  },
  {
   "cell_type": "code",
   "execution_count": 2,
   "id": "f91d9af5",
   "metadata": {},
   "outputs": [],
   "source": [
    "url3 = \"https://www.emsc-csem.org/Earthquake/\""
   ]
  },
  {
   "cell_type": "code",
   "execution_count": 3,
   "id": "e84a5ad2",
   "metadata": {},
   "outputs": [
    {
     "data": {
      "text/plain": [
       "200"
      ]
     },
     "execution_count": 3,
     "metadata": {},
     "output_type": "execute_result"
    }
   ],
   "source": [
    "response3 = requests.get(url3)\n",
    "response3.status_code # 200 status code means OK!"
   ]
  },
  {
   "cell_type": "code",
   "execution_count": 4,
   "id": "4cf91d68",
   "metadata": {},
   "outputs": [],
   "source": [
    "soup3 = BeautifulSoup(response3.content, \"html.parser\")"
   ]
  },
  {
   "cell_type": "code",
   "execution_count": 5,
   "id": "45802e83",
   "metadata": {},
   "outputs": [],
   "source": [
    "#soup3.select('td')"
   ]
  },
  {
   "cell_type": "code",
   "execution_count": 6,
   "id": "12159890",
   "metadata": {},
   "outputs": [],
   "source": [
    "ratio = soup3.find_all('td',{'class','tabev6'})"
   ]
  },
  {
   "cell_type": "code",
   "execution_count": 7,
   "id": "86718e2e",
   "metadata": {},
   "outputs": [
    {
     "data": {
      "text/plain": [
       "'earthquake2023-01-10\\xa0\\xa0\\xa008:56:30.020min ago'"
      ]
     },
     "execution_count": 7,
     "metadata": {},
     "output_type": "execute_result"
    }
   ],
   "source": [
    "soup3.find_all('td',{'class','tabev6'})[0].get_text()"
   ]
  },
  {
   "cell_type": "markdown",
   "id": "09dbc3db",
   "metadata": {},
   "source": [
    "Under tabev6 > class= there are 2 times tabev2 and times tabev1. So I found a way findNextSiblings()"
   ]
  },
  {
   "cell_type": "code",
   "execution_count": 8,
   "id": "76b2f386",
   "metadata": {},
   "outputs": [
    {
     "data": {
      "text/plain": [
       "[<td class=\"tabev1\">39.10 </td>,\n",
       " <td class=\"tabev2\">N  </td>,\n",
       " <td class=\"tabev1\">142.10 </td>,\n",
       " <td class=\"tabev2\">E  </td>,\n",
       " <td class=\"tabev3\">50</td>,\n",
       " <td class=\"tabev5\" id=\"magtyp0\"> M</td>,\n",
       " <td class=\"tabev2\">3.5</td>,\n",
       " <td class=\"tb_region\" id=\"reg0\"> NEAR EAST COAST OF HONSHU, JAPAN</td>,\n",
       " <td class=\"comment updatetimeno\" id=\"upd0\" style=\"text-align:right;\">2023-01-10 09:05</td>]"
      ]
     },
     "execution_count": 8,
     "metadata": {},
     "output_type": "execute_result"
    }
   ],
   "source": [
    "zeroth_ratio_sibs = ratio[0].findNextSiblings()\n",
    "zeroth_ratio_sibs"
   ]
  },
  {
   "cell_type": "code",
   "execution_count": 9,
   "id": "651a4c68",
   "metadata": {},
   "outputs": [],
   "source": [
    "latitude_list = list(zeroth_ratio_sibs[0])"
   ]
  },
  {
   "cell_type": "code",
   "execution_count": 10,
   "id": "07b909d1",
   "metadata": {},
   "outputs": [],
   "source": [
    "latitude_direction_list = list(zeroth_ratio_sibs[1])"
   ]
  },
  {
   "cell_type": "code",
   "execution_count": 11,
   "id": "40f1c77c",
   "metadata": {},
   "outputs": [],
   "source": [
    "longitude_list = list(zeroth_ratio_sibs[2])"
   ]
  },
  {
   "cell_type": "code",
   "execution_count": 12,
   "id": "37579bf8",
   "metadata": {},
   "outputs": [],
   "source": [
    "longitude_direction_list = list(zeroth_ratio_sibs[3])"
   ]
  },
  {
   "cell_type": "code",
   "execution_count": 13,
   "id": "d58e6d34",
   "metadata": {},
   "outputs": [],
   "source": [
    "magnitude_list = list(zeroth_ratio_sibs[6])"
   ]
  },
  {
   "cell_type": "code",
   "execution_count": 14,
   "id": "3c809259",
   "metadata": {},
   "outputs": [],
   "source": [
    "region_list = list(zeroth_ratio_sibs[7])"
   ]
  },
  {
   "cell_type": "code",
   "execution_count": 18,
   "id": "f2e087a7",
   "metadata": {},
   "outputs": [],
   "source": [
    "date_time = []\n",
    "latitude = []\n",
    "latitude_direction = []\n",
    "longitude = []\n",
    "longitude_direction = []\n",
    "magnitude = []\n",
    "region = []\n",
    "\n",
    "for i in range(0,20):\n",
    "    zeroth_ratio_sibs = ratio[i].findNextSiblings()\n",
    "    date_time.append(soup3.find_all('td',{'class','tabev6'})[i].get_text())\n",
    "    latitude.append(list(zeroth_ratio_sibs[0])[0].replace('\\xa0', ''))\n",
    "    latitude_direction.append(list(zeroth_ratio_sibs[1])[0].replace('\\xa0', ''))\n",
    "    longitude.append(list(zeroth_ratio_sibs[2])[0].replace('\\xa0', ''))\n",
    "    longitude_direction.append(list(zeroth_ratio_sibs[3])[0].replace('\\xa0', ''))\n",
    "    magnitude.append(list(zeroth_ratio_sibs[6])[0].replace('\\xa0', ''))  \n",
    "    region.append(list(zeroth_ratio_sibs[7])[0].replace('\\xa0', ''))\n",
    "    \n",
    "    "
   ]
  },
  {
   "cell_type": "markdown",
   "id": "6b3febf1",
   "metadata": {},
   "source": [
    "Clean date and time"
   ]
  },
  {
   "cell_type": "code",
   "execution_count": 19,
   "id": "c6930352",
   "metadata": {},
   "outputs": [],
   "source": [
    "# date_time"
   ]
  },
  {
   "cell_type": "code",
   "execution_count": 20,
   "id": "dd5ee29f",
   "metadata": {},
   "outputs": [],
   "source": [
    "import re\n",
    "pattern_date = '(\\d{4}-\\d{2}-\\d{2})'\n",
    "pattern_time = '(\\d{2}:\\d{2}:\\d{2})'"
   ]
  },
  {
   "cell_type": "code",
   "execution_count": 21,
   "id": "14f2bf20",
   "metadata": {},
   "outputs": [],
   "source": [
    "date = []\n",
    "for i in range(0,20):\n",
    "    date.append(re.findall(pattern_date, date_time[i])[0])"
   ]
  },
  {
   "cell_type": "code",
   "execution_count": 22,
   "id": "1588d6b0",
   "metadata": {},
   "outputs": [
    {
     "data": {
      "text/plain": [
       "['2023-01-10',\n",
       " '2023-01-10',\n",
       " '2023-01-10',\n",
       " '2023-01-10',\n",
       " '2023-01-10',\n",
       " '2023-01-10',\n",
       " '2023-01-10',\n",
       " '2023-01-10',\n",
       " '2023-01-10',\n",
       " '2023-01-10',\n",
       " '2023-01-10',\n",
       " '2023-01-10',\n",
       " '2023-01-10',\n",
       " '2023-01-10',\n",
       " '2023-01-10',\n",
       " '2023-01-10',\n",
       " '2023-01-10',\n",
       " '2023-01-10',\n",
       " '2023-01-10',\n",
       " '2023-01-10']"
      ]
     },
     "execution_count": 22,
     "metadata": {},
     "output_type": "execute_result"
    }
   ],
   "source": [
    "date"
   ]
  },
  {
   "cell_type": "code",
   "execution_count": 23,
   "id": "e1aefa5f",
   "metadata": {},
   "outputs": [],
   "source": [
    "time = []\n",
    "for i in range(0,20):\n",
    "    time.append(re.findall(pattern_time, date_time[i])[0])"
   ]
  },
  {
   "cell_type": "code",
   "execution_count": null,
   "id": "84104370",
   "metadata": {},
   "outputs": [],
   "source": [
    "latest_earthquakes = pd.DataFrame({\"date\":date, \"time\":time, \"latitude1\":latitude, \"lat_dir\":latitude_direction,\"longitude1\":longitude,\"long_dir\":longitude_direction,\"region\":region, \"magnitude\":magnitude})"
   ]
  },
  {
   "cell_type": "code",
   "execution_count": 24,
   "id": "2a788ada",
   "metadata": {},
   "outputs": [
    {
     "data": {
      "text/plain": [
       "['08:56:30',\n",
       " '08:43:32',\n",
       " '08:38:21',\n",
       " '08:32:31',\n",
       " '08:27:46',\n",
       " '08:26:44',\n",
       " '08:23:47',\n",
       " '08:21:24',\n",
       " '08:17:56',\n",
       " '08:12:28',\n",
       " '08:09:36',\n",
       " '08:04:30',\n",
       " '07:58:52',\n",
       " '07:44:35',\n",
       " '07:43:04',\n",
       " '07:42:58',\n",
       " '07:41:52',\n",
       " '07:40:46',\n",
       " '07:38:30',\n",
       " '07:28:39']"
      ]
     },
     "execution_count": 24,
     "metadata": {},
     "output_type": "execute_result"
    }
   ],
   "source": [
    "time\n"
   ]
  },
  {
   "cell_type": "code",
   "execution_count": null,
   "id": "cd15526d",
   "metadata": {},
   "outputs": [],
   "source": [
    "latest_earthquakes['latitude'] = latest_earthquakes['latitude1'] +' '+ latest_earthquakes['lat_dir']"
   ]
  },
  {
   "cell_type": "code",
   "execution_count": null,
   "id": "fd07b3f2",
   "metadata": {},
   "outputs": [],
   "source": [
    "latest_earthquakes['longitude'] = latest_earthquakes['longitude1'] +' '+ latest_earthquakes['long_dir']"
   ]
  },
  {
   "cell_type": "code",
   "execution_count": null,
   "id": "e5adcf63",
   "metadata": {},
   "outputs": [],
   "source": [
    "latest_earthquakes=latest_earthquakes.drop(columns=['latitude1','lat_dir','longitude1','long_dir'])"
   ]
  },
  {
   "cell_type": "code",
   "execution_count": null,
   "id": "6406dfbe",
   "metadata": {},
   "outputs": [],
   "source": [
    "latest_earthquakes = latest_earthquakes[['date', 'time', 'latitude','longitude','region','magnitude']]"
   ]
  },
  {
   "cell_type": "code",
   "execution_count": null,
   "id": "e1355d2c",
   "metadata": {},
   "outputs": [],
   "source": [
    "latest_earthquakes"
   ]
  },
  {
   "cell_type": "markdown",
   "id": "d7dfd9e3",
   "metadata": {},
   "source": [
    "Short-correct way for earthquakes-I will look into that later"
   ]
  },
  {
   "cell_type": "code",
   "execution_count": null,
   "id": "a7cba221",
   "metadata": {},
   "outputs": [],
   "source": [
    "# #initialize empty lists\n",
    "# date_time = []\n",
    "# latitude = []\n",
    "# longitude = []\n",
    "# depth = []\n",
    "# magnitude = []\n",
    "# region_name = []\n",
    "# latitude_SN = []\n",
    "# longitude_EW = []\n",
    "\n",
    "# # define the number of iterations of our for loop\n",
    "# # by checking how many elements are in the retrieved result set\n",
    "# # (this is equivalent but more robust than just explicitly defining 250 iterations)\n",
    "# num_iter = len(soup3.select('td.tabev5'))\n",
    "\n",
    "# date_time_list = soup3.select('b > a')\n",
    "# region_name_list = soup3.select('td.tb_region')\n",
    "# depth_list = soup3.select('td.tabev3')\n",
    "\n",
    "# latitude_list = soup3.select('td.tabev1')\n",
    "# longitude_list = soup3.select('td.tabev1')\n",
    "\n",
    "# latitude_SN_list = soup3.select('td.tabev2')\n",
    "# longitude_EW_list = soup3.select('td.tabev2')\n",
    "# magnitude_list = soup3.select('td.tabev2')\n",
    "\n",
    "# # iterate through the result set and retrieve all the data\n",
    "# for i in range(num_iter):\n",
    "#     date_time.append(date_time_list[i].get_text())\n",
    "#     depth.append(depth_list[i].get_text())\n",
    "#     region_name.append(region_name_list[i].get_text())\n",
    "    \n",
    "# for i in range(0,len(soup3.select('td.tabev5'))*2,2):\n",
    "#     latitude.append(latitude_list[i].get_text())\n",
    "#     longitude.append(longitude_list[i+1].get_text())\n",
    "\n",
    "# for i in range(0,len(soup3.select('td.tabev5'))*3,3):\n",
    "#     latitude_SN.append(latitude_SN_list[i].get_text())\n",
    "#     longitude_EW.append(longitude_EW_list[i+1].get_text())\n",
    "#     magnitude.append(magnitude_list[i+2].get_text())"
   ]
  },
  {
   "cell_type": "code",
   "execution_count": null,
   "id": "4881534c",
   "metadata": {},
   "outputs": [],
   "source": [
    "# # each list becomes a column\n",
    "# top_20_earthquakes = pd.DataFrame({\"date & time\":date_time,\n",
    "#                        \"latitude degrees\":latitude,\n",
    "#                        \"latitude SN\":latitude_SN,\n",
    "#                        \"longitude degrees\":longitude,\n",
    "#                        \"longitude EW\":longitude_EW,\n",
    "#                        \"depth\":depth,\n",
    "#                        \"magnitude\":magnitude,\n",
    "#                        \"region\":region_name,\n",
    "#                       })\n",
    "# top_20_earthquakes.head(10)"
   ]
  },
  {
   "cell_type": "code",
   "execution_count": null,
   "id": "f9d5efe5",
   "metadata": {},
   "outputs": [],
   "source": []
  },
  {
   "cell_type": "code",
   "execution_count": null,
   "id": "0d66dc58",
   "metadata": {},
   "outputs": [],
   "source": []
  }
 ],
 "metadata": {
  "kernelspec": {
   "display_name": "Python 3 (ipykernel)",
   "language": "python",
   "name": "python3"
  },
  "language_info": {
   "codemirror_mode": {
    "name": "ipython",
    "version": 3
   },
   "file_extension": ".py",
   "mimetype": "text/x-python",
   "name": "python",
   "nbconvert_exporter": "python",
   "pygments_lexer": "ipython3",
   "version": "3.9.12"
  }
 },
 "nbformat": 4,
 "nbformat_minor": 5
}
